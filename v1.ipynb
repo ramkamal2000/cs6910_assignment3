{
  "nbformat": 4,
  "nbformat_minor": 0,
  "metadata": {
    "kernelspec": {
      "display_name": "DL",
      "language": "python",
      "name": "dl"
    },
    "language_info": {
      "codemirror_mode": {
        "name": "ipython",
        "version": 3
      },
      "file_extension": ".py",
      "mimetype": "text/x-python",
      "name": "python",
      "nbconvert_exporter": "python",
      "pygments_lexer": "ipython3",
      "version": "3.7.9"
    },
    "colab": {
      "name": "v1.ipynb",
      "provenance": []
    }
  },
  "cells": [
    {
      "cell_type": "code",
      "metadata": {
        "id": "bClAC3xAEhKS"
      },
      "source": [
        "import tarfile\n",
        "import os\n",
        "import pandas as pd"
      ],
      "execution_count": 7,
      "outputs": []
    },
    {
      "cell_type": "code",
      "metadata": {
        "id": "Fs9sbR5xCVo3",
        "outputId": "457ca2b6-5108-4a93-88cc-a55df70e4292",
        "colab": {
          "base_uri": "https://localhost:8080/"
        }
      },
      "source": [
        "!wget -nc https://storage.googleapis.com/gresearch/dakshina/dakshina_dataset_v1.0.tar\n",
        "\n",
        "if not os.path.isdir('/content/dakshina_dataset_v1.0'):\n",
        "  tarfile.open(\"/content/dakshina_dataset_v1.0.tar\").extractall() "
      ],
      "execution_count": 6,
      "outputs": [
        {
          "output_type": "stream",
          "text": [
            "File ‘dakshina_dataset_v1.0.tar’ already there; not retrieving.\n",
            "\n"
          ],
          "name": "stdout"
        }
      ]
    },
    {
      "cell_type": "markdown",
      "metadata": {
        "id": "-BstzblcHmd5"
      },
      "source": [
        "# Lexicons"
      ]
    },
    {
      "cell_type": "code",
      "metadata": {
        "id": "fNDJrkl5EUHX"
      },
      "source": [
        "ta_lex = dict()\n",
        "ta_lex['train'] = pd.read_csv('/content/dakshina_dataset_v1.0/ta/lexicons/ta.translit.sampled.train.tsv', sep='\\t', header=None)\n",
        "ta_lex['dev'] = pd.read_csv('/content/dakshina_dataset_v1.0/ta/lexicons/ta.translit.sampled.dev.tsv', sep='\\t', header=None)\n",
        "ta_lex['test'] = pd.read_csv('/content/dakshina_dataset_v1.0/ta/lexicons/ta.translit.sampled.test.tsv', sep='\\t', header=None)"
      ],
      "execution_count": 8,
      "outputs": []
    },
    {
      "cell_type": "code",
      "metadata": {
        "id": "4j5JYbE1GZVv",
        "outputId": "91e38425-e2cf-4258-83b9-a17f5e02919a",
        "colab": {
          "base_uri": "https://localhost:8080/",
          "height": 406
        }
      },
      "source": [
        "ta_lex['train']"
      ],
      "execution_count": 9,
      "outputs": [
        {
          "output_type": "execute_result",
          "data": {
            "text/html": [
              "<div>\n",
              "<style scoped>\n",
              "    .dataframe tbody tr th:only-of-type {\n",
              "        vertical-align: middle;\n",
              "    }\n",
              "\n",
              "    .dataframe tbody tr th {\n",
              "        vertical-align: top;\n",
              "    }\n",
              "\n",
              "    .dataframe thead th {\n",
              "        text-align: right;\n",
              "    }\n",
              "</style>\n",
              "<table border=\"1\" class=\"dataframe\">\n",
              "  <thead>\n",
              "    <tr style=\"text-align: right;\">\n",
              "      <th></th>\n",
              "      <th>ஃபியட்</th>\n",
              "      <th>fiat</th>\n",
              "      <th>2</th>\n",
              "    </tr>\n",
              "  </thead>\n",
              "  <tbody>\n",
              "    <tr>\n",
              "      <th>0</th>\n",
              "      <td>ஃபியட்</td>\n",
              "      <td>phiyat</td>\n",
              "      <td>1</td>\n",
              "    </tr>\n",
              "    <tr>\n",
              "      <th>1</th>\n",
              "      <td>ஃபியட்</td>\n",
              "      <td>piyat</td>\n",
              "      <td>1</td>\n",
              "    </tr>\n",
              "    <tr>\n",
              "      <th>2</th>\n",
              "      <td>ஃபிரான்ஸ்</td>\n",
              "      <td>firaans</td>\n",
              "      <td>1</td>\n",
              "    </tr>\n",
              "    <tr>\n",
              "      <th>3</th>\n",
              "      <td>ஃபிரான்ஸ்</td>\n",
              "      <td>france</td>\n",
              "      <td>2</td>\n",
              "    </tr>\n",
              "    <tr>\n",
              "      <th>4</th>\n",
              "      <td>ஃபிரான்ஸ்</td>\n",
              "      <td>francis</td>\n",
              "      <td>1</td>\n",
              "    </tr>\n",
              "    <tr>\n",
              "      <th>...</th>\n",
              "      <td>...</td>\n",
              "      <td>...</td>\n",
              "      <td>...</td>\n",
              "    </tr>\n",
              "    <tr>\n",
              "      <th>68212</th>\n",
              "      <td>ஹோல்ட்</td>\n",
              "      <td>holtt</td>\n",
              "      <td>1</td>\n",
              "    </tr>\n",
              "    <tr>\n",
              "      <th>68213</th>\n",
              "      <td>ஹோல்ட்</td>\n",
              "      <td>hoold</td>\n",
              "      <td>1</td>\n",
              "    </tr>\n",
              "    <tr>\n",
              "      <th>68214</th>\n",
              "      <td>ஹோல்ட்</td>\n",
              "      <td>hoolt</td>\n",
              "      <td>1</td>\n",
              "    </tr>\n",
              "    <tr>\n",
              "      <th>68215</th>\n",
              "      <td>ஹோல்ட்</td>\n",
              "      <td>hooltt</td>\n",
              "      <td>1</td>\n",
              "    </tr>\n",
              "    <tr>\n",
              "      <th>68216</th>\n",
              "      <td>ஹோல்ட்</td>\n",
              "      <td>hult</td>\n",
              "      <td>1</td>\n",
              "    </tr>\n",
              "  </tbody>\n",
              "</table>\n",
              "<p>68217 rows × 3 columns</p>\n",
              "</div>"
            ],
            "text/plain": [
              "          ஃபியட்     fiat  2\n",
              "0         ஃபியட்   phiyat  1\n",
              "1         ஃபியட்    piyat  1\n",
              "2      ஃபிரான்ஸ்  firaans  1\n",
              "3      ஃபிரான்ஸ்   france  2\n",
              "4      ஃபிரான்ஸ்  francis  1\n",
              "...          ...      ... ..\n",
              "68212     ஹோல்ட்    holtt  1\n",
              "68213     ஹோல்ட்    hoold  1\n",
              "68214     ஹோல்ட்    hoolt  1\n",
              "68215     ஹோல்ட்   hooltt  1\n",
              "68216     ஹோல்ட்     hult  1\n",
              "\n",
              "[68217 rows x 3 columns]"
            ]
          },
          "metadata": {
            "tags": []
          },
          "execution_count": 9
        }
      ]
    },
    {
      "cell_type": "markdown",
      "metadata": {
        "id": "ItqoHkE2JTO1"
      },
      "source": [
        "# Romanized"
      ]
    },
    {
      "cell_type": "code",
      "metadata": {
        "id": "6O8dFDOHGbEb",
        "outputId": "af130bc4-8320-44cc-b6e9-c41e59ab0278",
        "colab": {
          "base_uri": "https://localhost:8080/"
        }
      },
      "source": [
        "ta_rom = dict()\n",
        "ta_rom['rejoined'] = pd.read_csv('/content/dakshina_dataset_v1.0/ta/romanized/ta.romanized.rejoined.tsv', sep='\\t', header=None, error_bad_lines=False)\n",
        "ta_rom['rejoined_aligned_cased'] = pd.read_csv('/content/dakshina_dataset_v1.0/ta/romanized/ta.romanized.rejoined.aligned.cased_nopunct.tsv', sep='\\t', header=None, error_bad_lines=False) \n",
        "ta_rom['rejoined_aligned'] = pd.read_csv('/content/dakshina_dataset_v1.0/ta/romanized/ta.romanized.rejoined.aligned.tsv', sep='\\t', header=None, error_bad_lines=False)\n",
        "ta_rom['split'] = pd.read_csv('/content/dakshina_dataset_v1.0/ta/romanized/ta.romanized.split.tsv', sep='\\t', header=None, error_bad_lines=False)"
      ],
      "execution_count": 19,
      "outputs": [
        {
          "output_type": "stream",
          "text": [
            "b'Skipping line 1096: expected 2 fields, saw 3\\nSkipping line 1581: expected 2 fields, saw 3\\n'\n",
            "b'Skipping line 33794: expected 2 fields, saw 3\\nSkipping line 33795: expected 2 fields, saw 3\\nSkipping line 33796: expected 2 fields, saw 3\\nSkipping line 33798: expected 2 fields, saw 3\\nSkipping line 33799: expected 2 fields, saw 3\\nSkipping line 33801: expected 2 fields, saw 3\\nSkipping line 33802: expected 2 fields, saw 3\\nSkipping line 33803: expected 2 fields, saw 3\\n'\n",
            "b'Skipping line 11317: expected 2 fields, saw 4\\nSkipping line 16502: expected 2 fields, saw 4\\nSkipping line 32577: expected 2 fields, saw 3\\nSkipping line 32578: expected 2 fields, saw 3\\nSkipping line 32579: expected 2 fields, saw 3\\nSkipping line 32581: expected 2 fields, saw 3\\nSkipping line 32582: expected 2 fields, saw 3\\nSkipping line 32584: expected 2 fields, saw 3\\nSkipping line 32585: expected 2 fields, saw 3\\nSkipping line 32586: expected 2 fields, saw 3\\n'\n",
            "b'Skipping line 1108: expected 7 fields, saw 9\\nSkipping line 1597: expected 7 fields, saw 9\\n'\n"
          ],
          "name": "stderr"
        }
      ]
    },
    {
      "cell_type": "code",
      "metadata": {
        "id": "e-WGvG_RJqsr",
        "outputId": "2b1b3056-5b20-4bd9-bebf-bf40b3a1f195",
        "colab": {
          "base_uri": "https://localhost:8080/",
          "height": 406
        }
      },
      "source": [
        "ta_rom['rejoined']"
      ],
      "execution_count": 15,
      "outputs": [
        {
          "output_type": "execute_result",
          "data": {
            "text/html": [
              "<div>\n",
              "<style scoped>\n",
              "    .dataframe tbody tr th:only-of-type {\n",
              "        vertical-align: middle;\n",
              "    }\n",
              "\n",
              "    .dataframe tbody tr th {\n",
              "        vertical-align: top;\n",
              "    }\n",
              "\n",
              "    .dataframe thead th {\n",
              "        text-align: right;\n",
              "    }\n",
              "</style>\n",
              "<table border=\"1\" class=\"dataframe\">\n",
              "  <thead>\n",
              "    <tr style=\"text-align: right;\">\n",
              "      <th></th>\n",
              "      <th>0</th>\n",
              "      <th>1</th>\n",
              "    </tr>\n",
              "  </thead>\n",
              "  <tbody>\n",
              "    <tr>\n",
              "      <th>0</th>\n",
              "      <td>ரேடியோ அதிர்வெண் முடுக்கிகள், துகள்கள் நேரடியா...</td>\n",
              "      <td>Radio athirven mudikkigal, thugalkal neradiyag...</td>\n",
              "    </tr>\n",
              "    <tr>\n",
              "      <th>1</th>\n",
              "      <td>மான் விளையாடிக்கொண்டு வந்து உன்னை மோதினால் உன்...</td>\n",
              "      <td>Maan vilaiyaadikondu vanthu unnai modhinaal un...</td>\n",
              "    </tr>\n",
              "    <tr>\n",
              "      <th>2</th>\n",
              "      <td>அமிர்தகழி</td>\n",
              "      <td>Amirthakazhi</td>\n",
              "    </tr>\n",
              "    <tr>\n",
              "      <th>3</th>\n",
              "      <td>மோகன் லால் குப்தா ஜெய்ப்பூரின் முன்னாள் மேயராக...</td>\n",
              "      <td>Mohan Lal Gupta Jaipaurin munnal mayoragavum, ...</td>\n",
              "    </tr>\n",
              "    <tr>\n",
              "      <th>4</th>\n",
              "      <td>தில்லி மாநில கூட்டுறவு வங்கி லி.</td>\n",
              "      <td>Delhi maanila kooturavu vangi li.</td>\n",
              "    </tr>\n",
              "    <tr>\n",
              "      <th>...</th>\n",
              "      <td>...</td>\n",
              "      <td>...</td>\n",
              "    </tr>\n",
              "    <tr>\n",
              "      <th>9897</th>\n",
              "      <td>என்றாலும் வில்லியம் இறந்த பிறகான கரோலினின் பணி...</td>\n",
              "      <td>Yendraalum William irandha piragaana Carolinin...</td>\n",
              "    </tr>\n",
              "    <tr>\n",
              "      <th>9898</th>\n",
              "      <td>தொல்பொருளியல் அச்சகம் (Archaeopress) என்பது இங...</td>\n",
              "      <td>Tholporuliyal achchagam (Archaeopress) yenbath...</td>\n",
              "    </tr>\n",
              "    <tr>\n",
              "      <th>9899</th>\n",
              "      <td>மலைய நாட்டு மன்னனை மலாடர் கோமான் என்று சங்கப்ப...</td>\n",
              "      <td>Malaiya naattu mannanai malaadar komaan yendru...</td>\n",
              "    </tr>\n",
              "    <tr>\n",
              "      <th>9900</th>\n",
              "      <td>அப்படையின் தொகை மிக அருகி இருந்ததோடு, அதனிடம் ...</td>\n",
              "      <td>Appadaiyin thogai miga arugi irunthathodu, ath...</td>\n",
              "    </tr>\n",
              "    <tr>\n",
              "      <th>9901</th>\n",
              "      <td>தொண்டன் இலங்கை, திருகோணமலையிலிருந்து 1970ம் ஆண...</td>\n",
              "      <td>Thondan ilangai, thirukonanmalaiyilirundhu 197...</td>\n",
              "    </tr>\n",
              "  </tbody>\n",
              "</table>\n",
              "<p>9902 rows × 2 columns</p>\n",
              "</div>"
            ],
            "text/plain": [
              "                                                      0                                                  1\n",
              "0     ரேடியோ அதிர்வெண் முடுக்கிகள், துகள்கள் நேரடியா...  Radio athirven mudikkigal, thugalkal neradiyag...\n",
              "1     மான் விளையாடிக்கொண்டு வந்து உன்னை மோதினால் உன்...  Maan vilaiyaadikondu vanthu unnai modhinaal un...\n",
              "2                                             அமிர்தகழி                                       Amirthakazhi\n",
              "3     மோகன் லால் குப்தா ஜெய்ப்பூரின் முன்னாள் மேயராக...  Mohan Lal Gupta Jaipaurin munnal mayoragavum, ...\n",
              "4                      தில்லி மாநில கூட்டுறவு வங்கி லி.                  Delhi maanila kooturavu vangi li.\n",
              "...                                                 ...                                                ...\n",
              "9897  என்றாலும் வில்லியம் இறந்த பிறகான கரோலினின் பணி...  Yendraalum William irandha piragaana Carolinin...\n",
              "9898  தொல்பொருளியல் அச்சகம் (Archaeopress) என்பது இங...  Tholporuliyal achchagam (Archaeopress) yenbath...\n",
              "9899  மலைய நாட்டு மன்னனை மலாடர் கோமான் என்று சங்கப்ப...  Malaiya naattu mannanai malaadar komaan yendru...\n",
              "9900  அப்படையின் தொகை மிக அருகி இருந்ததோடு, அதனிடம் ...  Appadaiyin thogai miga arugi irunthathodu, ath...\n",
              "9901  தொண்டன் இலங்கை, திருகோணமலையிலிருந்து 1970ம் ஆண...  Thondan ilangai, thirukonanmalaiyilirundhu 197...\n",
              "\n",
              "[9902 rows x 2 columns]"
            ]
          },
          "metadata": {
            "tags": []
          },
          "execution_count": 15
        }
      ]
    },
    {
      "cell_type": "code",
      "metadata": {
        "id": "p75rYpZkNCJV",
        "outputId": "7822c4fd-88fe-4982-abd0-e26a9819b8c4",
        "colab": {
          "base_uri": "https://localhost:8080/",
          "height": 406
        }
      },
      "source": [
        "ta_rom['rejoined_aligned_cased']"
      ],
      "execution_count": 20,
      "outputs": [
        {
          "output_type": "execute_result",
          "data": {
            "text/html": [
              "<div>\n",
              "<style scoped>\n",
              "    .dataframe tbody tr th:only-of-type {\n",
              "        vertical-align: middle;\n",
              "    }\n",
              "\n",
              "    .dataframe tbody tr th {\n",
              "        vertical-align: top;\n",
              "    }\n",
              "\n",
              "    .dataframe thead th {\n",
              "        text-align: right;\n",
              "    }\n",
              "</style>\n",
              "<table border=\"1\" class=\"dataframe\">\n",
              "  <thead>\n",
              "    <tr style=\"text-align: right;\">\n",
              "      <th></th>\n",
              "      <th>0</th>\n",
              "      <th>1</th>\n",
              "    </tr>\n",
              "  </thead>\n",
              "  <tbody>\n",
              "    <tr>\n",
              "      <th>0</th>\n",
              "      <td>ரேடியோ</td>\n",
              "      <td>radio</td>\n",
              "    </tr>\n",
              "    <tr>\n",
              "      <th>1</th>\n",
              "      <td>அதிர்வெண்</td>\n",
              "      <td>athirven</td>\n",
              "    </tr>\n",
              "    <tr>\n",
              "      <th>2</th>\n",
              "      <td>முடுக்கிகள்</td>\n",
              "      <td>mudikkigal</td>\n",
              "    </tr>\n",
              "    <tr>\n",
              "      <th>3</th>\n",
              "      <td>துகள்கள்</td>\n",
              "      <td>thugalkal</td>\n",
              "    </tr>\n",
              "    <tr>\n",
              "      <th>4</th>\n",
              "      <td>நேரடியாக</td>\n",
              "      <td>neradiyaga</td>\n",
              "    </tr>\n",
              "    <tr>\n",
              "      <th>...</th>\n",
              "      <td>...</td>\n",
              "      <td>...</td>\n",
              "    </tr>\n",
              "    <tr>\n",
              "      <th>104779</th>\n",
              "      <td>இவ்விதழின்</td>\n",
              "      <td>ivvithazhin</td>\n",
              "    </tr>\n",
              "    <tr>\n",
              "      <th>104780</th>\n",
              "      <td>விலை</td>\n",
              "      <td>vilai</td>\n",
              "    </tr>\n",
              "    <tr>\n",
              "      <th>104781</th>\n",
              "      <td>ரூபாய்</td>\n",
              "      <td>roobaay</td>\n",
              "    </tr>\n",
              "    <tr>\n",
              "      <th>104782</th>\n",
              "      <td>1.00</td>\n",
              "      <td>1.00</td>\n",
              "    </tr>\n",
              "    <tr>\n",
              "      <th>104783</th>\n",
              "      <td>&lt;/s&gt;</td>\n",
              "      <td>&lt;/s&gt;</td>\n",
              "    </tr>\n",
              "  </tbody>\n",
              "</table>\n",
              "<p>104784 rows × 2 columns</p>\n",
              "</div>"
            ],
            "text/plain": [
              "                  0            1\n",
              "0            ரேடியோ        radio\n",
              "1         அதிர்வெண்     athirven\n",
              "2       முடுக்கிகள்   mudikkigal\n",
              "3          துகள்கள்    thugalkal\n",
              "4          நேரடியாக   neradiyaga\n",
              "...             ...          ...\n",
              "104779   இவ்விதழின்  ivvithazhin\n",
              "104780         விலை        vilai\n",
              "104781       ரூபாய்      roobaay\n",
              "104782         1.00         1.00\n",
              "104783         </s>         </s>\n",
              "\n",
              "[104784 rows x 2 columns]"
            ]
          },
          "metadata": {
            "tags": []
          },
          "execution_count": 20
        }
      ]
    },
    {
      "cell_type": "code",
      "metadata": {
        "id": "O0E9hQuQMULO",
        "outputId": "7e4c04ca-1eb2-490c-c96c-0af97a02152e",
        "colab": {
          "base_uri": "https://localhost:8080/",
          "height": 406
        }
      },
      "source": [
        "ta_rom['rejoined_aligned']"
      ],
      "execution_count": 18,
      "outputs": [
        {
          "output_type": "execute_result",
          "data": {
            "text/html": [
              "<div>\n",
              "<style scoped>\n",
              "    .dataframe tbody tr th:only-of-type {\n",
              "        vertical-align: middle;\n",
              "    }\n",
              "\n",
              "    .dataframe tbody tr th {\n",
              "        vertical-align: top;\n",
              "    }\n",
              "\n",
              "    .dataframe thead th {\n",
              "        text-align: right;\n",
              "    }\n",
              "</style>\n",
              "<table border=\"1\" class=\"dataframe\">\n",
              "  <thead>\n",
              "    <tr style=\"text-align: right;\">\n",
              "      <th></th>\n",
              "      <th>0</th>\n",
              "      <th>1</th>\n",
              "    </tr>\n",
              "  </thead>\n",
              "  <tbody>\n",
              "    <tr>\n",
              "      <th>0</th>\n",
              "      <td>ரேடியோ</td>\n",
              "      <td>Radio</td>\n",
              "    </tr>\n",
              "    <tr>\n",
              "      <th>1</th>\n",
              "      <td>அதிர்வெண்</td>\n",
              "      <td>athirven</td>\n",
              "    </tr>\n",
              "    <tr>\n",
              "      <th>2</th>\n",
              "      <td>முடுக்கிகள்,</td>\n",
              "      <td>mudikkigal,</td>\n",
              "    </tr>\n",
              "    <tr>\n",
              "      <th>3</th>\n",
              "      <td>துகள்கள்</td>\n",
              "      <td>thugalkal</td>\n",
              "    </tr>\n",
              "    <tr>\n",
              "      <th>4</th>\n",
              "      <td>நேரடியாக</td>\n",
              "      <td>neradiyaga</td>\n",
              "    </tr>\n",
              "    <tr>\n",
              "      <th>...</th>\n",
              "      <td>...</td>\n",
              "      <td>...</td>\n",
              "    </tr>\n",
              "    <tr>\n",
              "      <th>103538</th>\n",
              "      <td>இவ்விதழின்</td>\n",
              "      <td>ivvithazhin</td>\n",
              "    </tr>\n",
              "    <tr>\n",
              "      <th>103539</th>\n",
              "      <td>விலை</td>\n",
              "      <td>vilai</td>\n",
              "    </tr>\n",
              "    <tr>\n",
              "      <th>103540</th>\n",
              "      <td>ரூபாய்</td>\n",
              "      <td>roobaay</td>\n",
              "    </tr>\n",
              "    <tr>\n",
              "      <th>103541</th>\n",
              "      <td>1.00</td>\n",
              "      <td>1.00</td>\n",
              "    </tr>\n",
              "    <tr>\n",
              "      <th>103542</th>\n",
              "      <td>&lt;/s&gt;</td>\n",
              "      <td>&lt;/s&gt;</td>\n",
              "    </tr>\n",
              "  </tbody>\n",
              "</table>\n",
              "<p>103543 rows × 2 columns</p>\n",
              "</div>"
            ],
            "text/plain": [
              "                   0            1\n",
              "0             ரேடியோ        Radio\n",
              "1          அதிர்வெண்     athirven\n",
              "2       முடுக்கிகள்,  mudikkigal,\n",
              "3           துகள்கள்    thugalkal\n",
              "4           நேரடியாக   neradiyaga\n",
              "...              ...          ...\n",
              "103538    இவ்விதழின்  ivvithazhin\n",
              "103539          விலை        vilai\n",
              "103540        ரூபாய்      roobaay\n",
              "103541          1.00         1.00\n",
              "103542          </s>         </s>\n",
              "\n",
              "[103543 rows x 2 columns]"
            ]
          },
          "metadata": {
            "tags": []
          },
          "execution_count": 18
        }
      ]
    },
    {
      "cell_type": "code",
      "metadata": {
        "id": "7yAnW0rAKDY5",
        "outputId": "50e84284-27ef-4425-bdcc-61eb3ba243cf",
        "colab": {
          "base_uri": "https://localhost:8080/",
          "height": 540
        }
      },
      "source": [
        "ta_rom['split']"
      ],
      "execution_count": 16,
      "outputs": [
        {
          "output_type": "execute_result",
          "data": {
            "text/html": [
              "<div>\n",
              "<style scoped>\n",
              "    .dataframe tbody tr th:only-of-type {\n",
              "        vertical-align: middle;\n",
              "    }\n",
              "\n",
              "    .dataframe tbody tr th {\n",
              "        vertical-align: top;\n",
              "    }\n",
              "\n",
              "    .dataframe thead th {\n",
              "        text-align: right;\n",
              "    }\n",
              "</style>\n",
              "<table border=\"1\" class=\"dataframe\">\n",
              "  <thead>\n",
              "    <tr style=\"text-align: right;\">\n",
              "      <th></th>\n",
              "      <th>0</th>\n",
              "      <th>1</th>\n",
              "      <th>2</th>\n",
              "      <th>3</th>\n",
              "      <th>4</th>\n",
              "      <th>5</th>\n",
              "      <th>6</th>\n",
              "    </tr>\n",
              "  </thead>\n",
              "  <tbody>\n",
              "    <tr>\n",
              "      <th>0</th>\n",
              "      <td>ரேடியோ அதிர்வெண் முடுக்கிகள், துகள்கள் நேரடியா...</td>\n",
              "      <td>6</td>\n",
              "      <td>Radio athirven mudikkigal, thugalkal neradiyag...</td>\n",
              "      <td>6.0</td>\n",
              "      <td>NaN</td>\n",
              "      <td>NaN</td>\n",
              "      <td>NaN</td>\n",
              "    </tr>\n",
              "    <tr>\n",
              "      <th>1</th>\n",
              "      <td>மான் விளையாடிக்கொண்டு வந்து உன்னை மோதினால் உன்...</td>\n",
              "      <td>21</td>\n",
              "      <td>Maan vilaiyaadikondu vanthu unnai modhinaal un...</td>\n",
              "      <td>21.0</td>\n",
              "      <td>NaN</td>\n",
              "      <td>NaN</td>\n",
              "      <td>NaN</td>\n",
              "    </tr>\n",
              "    <tr>\n",
              "      <th>2</th>\n",
              "      <td>அமிர்தகழி</td>\n",
              "      <td>1</td>\n",
              "      <td>Amirthakazhi</td>\n",
              "      <td>1.0</td>\n",
              "      <td>NaN</td>\n",
              "      <td>NaN</td>\n",
              "      <td>NaN</td>\n",
              "    </tr>\n",
              "    <tr>\n",
              "      <th>3</th>\n",
              "      <td>மோகன் லால் குப்தா ஜெய்ப்பூரின் முன்னாள் மேயராக...</td>\n",
              "      <td>12</td>\n",
              "      <td>Mohan Lal Gupta Jaipaurin munnal mayoragavum, ...</td>\n",
              "      <td>12.0</td>\n",
              "      <td>NaN</td>\n",
              "      <td>NaN</td>\n",
              "      <td>NaN</td>\n",
              "    </tr>\n",
              "    <tr>\n",
              "      <th>4</th>\n",
              "      <td>தில்லி மாநில கூட்டுறவு வங்கி லி.</td>\n",
              "      <td>5</td>\n",
              "      <td>Delhi maanila kooturavu vangi li.</td>\n",
              "      <td>5.0</td>\n",
              "      <td>NaN</td>\n",
              "      <td>NaN</td>\n",
              "      <td>NaN</td>\n",
              "    </tr>\n",
              "    <tr>\n",
              "      <th>...</th>\n",
              "      <td>...</td>\n",
              "      <td>...</td>\n",
              "      <td>...</td>\n",
              "      <td>...</td>\n",
              "      <td>...</td>\n",
              "      <td>...</td>\n",
              "      <td>...</td>\n",
              "    </tr>\n",
              "    <tr>\n",
              "      <th>9982</th>\n",
              "      <td>என்றாலும் வில்லியம் இறந்த பிறகான கரோலினின் பணி...</td>\n",
              "      <td>27</td>\n",
              "      <td>Yendraalum William irandha piragaana Carolinin...</td>\n",
              "      <td>27.0</td>\n",
              "      <td>NaN</td>\n",
              "      <td>NaN</td>\n",
              "      <td>NaN</td>\n",
              "    </tr>\n",
              "    <tr>\n",
              "      <th>9983</th>\n",
              "      <td>தொல்பொருளியல் அச்சகம் (Archaeopress) என்பது இங...</td>\n",
              "      <td>14</td>\n",
              "      <td>Tholporuliyal achchagam (Archaeopress) yenbath...</td>\n",
              "      <td>14.0</td>\n",
              "      <td>NaN</td>\n",
              "      <td>NaN</td>\n",
              "      <td>NaN</td>\n",
              "    </tr>\n",
              "    <tr>\n",
              "      <th>9984</th>\n",
              "      <td>மலைய நாட்டு மன்னனை மலாடர் கோமான் என்று சங்கப்ப...</td>\n",
              "      <td>8</td>\n",
              "      <td>Malaiya naattu mannanai malaadar komaan yendru...</td>\n",
              "      <td>8.0</td>\n",
              "      <td>NaN</td>\n",
              "      <td>NaN</td>\n",
              "      <td>NaN</td>\n",
              "    </tr>\n",
              "    <tr>\n",
              "      <th>9985</th>\n",
              "      <td>அப்படையின் தொகை மிக அருகி இருந்ததோடு, அதனிடம் ...</td>\n",
              "      <td>12</td>\n",
              "      <td>Appadaiyin thogai miga arugi irunthathodu, ath...</td>\n",
              "      <td>12.0</td>\n",
              "      <td>NaN</td>\n",
              "      <td>NaN</td>\n",
              "      <td>NaN</td>\n",
              "    </tr>\n",
              "    <tr>\n",
              "      <th>9986</th>\n",
              "      <td>தொண்டன் இலங்கை, திருகோணமலையிலிருந்து 1970ம் ஆண...</td>\n",
              "      <td>15</td>\n",
              "      <td>Thondan ilangai, thirukonanmalaiyilirundhu 197...</td>\n",
              "      <td>15.0</td>\n",
              "      <td>NaN</td>\n",
              "      <td>NaN</td>\n",
              "      <td>NaN</td>\n",
              "    </tr>\n",
              "  </tbody>\n",
              "</table>\n",
              "<p>9987 rows × 7 columns</p>\n",
              "</div>"
            ],
            "text/plain": [
              "                                                      0   1  ...   5    6\n",
              "0     ரேடியோ அதிர்வெண் முடுக்கிகள், துகள்கள் நேரடியா...   6  ... NaN  NaN\n",
              "1     மான் விளையாடிக்கொண்டு வந்து உன்னை மோதினால் உன்...  21  ... NaN  NaN\n",
              "2                                             அமிர்தகழி   1  ... NaN  NaN\n",
              "3     மோகன் லால் குப்தா ஜெய்ப்பூரின் முன்னாள் மேயராக...  12  ... NaN  NaN\n",
              "4                      தில்லி மாநில கூட்டுறவு வங்கி லி.   5  ... NaN  NaN\n",
              "...                                                 ...  ..  ...  ..  ...\n",
              "9982  என்றாலும் வில்லியம் இறந்த பிறகான கரோலினின் பணி...  27  ... NaN  NaN\n",
              "9983  தொல்பொருளியல் அச்சகம் (Archaeopress) என்பது இங...  14  ... NaN  NaN\n",
              "9984  மலைய நாட்டு மன்னனை மலாடர் கோமான் என்று சங்கப்ப...   8  ... NaN  NaN\n",
              "9985  அப்படையின் தொகை மிக அருகி இருந்ததோடு, அதனிடம் ...  12  ... NaN  NaN\n",
              "9986  தொண்டன் இலங்கை, திருகோணமலையிலிருந்து 1970ம் ஆண...  15  ... NaN  NaN\n",
              "\n",
              "[9987 rows x 7 columns]"
            ]
          },
          "metadata": {
            "tags": []
          },
          "execution_count": 16
        }
      ]
    },
    {
      "cell_type": "code",
      "metadata": {
        "id": "wD7CedwSKaoS"
      },
      "source": [
        ""
      ],
      "execution_count": null,
      "outputs": []
    }
  ]
}