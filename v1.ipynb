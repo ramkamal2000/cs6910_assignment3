{
  "nbformat": 4,
  "nbformat_minor": 0,
  "metadata": {
    "kernelspec": {
      "name": "python3",
      "display_name": "Python 3"
    },
    "colab": {
      "name": "v1.ipynb",
      "provenance": [],
      "toc_visible": true
    },
    "language_info": {
      "name": "python"
    }
  },
  "cells": [
    {
      "cell_type": "markdown",
      "metadata": {
        "id": "dtcVxQrUVxtS"
      },
      "source": [
        "# TO DO\n",
        "1. Figure out dataset\n",
        "2. Break down into individual characters\n",
        "3. Form corpus from dataset for input and output characters\n",
        "4. Assign a number to each character\n",
        "5. Model will have an embedding so it will handle it\n",
        "6. Output will be a bunch of integers so we will have to decode it"
      ]
    },
    {
      "cell_type": "code",
      "metadata": {
        "id": "bClAC3xAEhKS"
      },
      "source": [
        "import tarfile\n",
        "import os\n",
        "import pandas as pd"
      ],
      "execution_count": 3,
      "outputs": []
    },
    {
      "cell_type": "code",
      "metadata": {
        "id": "Fs9sbR5xCVo3",
        "colab": {
          "base_uri": "https://localhost:8080/"
        },
        "outputId": "97e72a3e-bfa3-4611-d1ed-0415d7afbc72"
      },
      "source": [
        "!wget -nc https://storage.googleapis.com/gresearch/dakshina/dakshina_dataset_v1.0.tar\n",
        "\n",
        "if not os.path.isdir('/content/dakshina_dataset_v1.0'):\n",
        "  tarfile.open(\"/content/dakshina_dataset_v1.0.tar\").extractall() "
      ],
      "execution_count": 4,
      "outputs": [
        {
          "output_type": "stream",
          "text": [
            "--2021-04-21 13:20:48--  https://storage.googleapis.com/gresearch/dakshina/dakshina_dataset_v1.0.tar\n",
            "Resolving storage.googleapis.com (storage.googleapis.com)... 172.217.7.144, 172.217.13.240, 172.217.164.176, ...\n",
            "Connecting to storage.googleapis.com (storage.googleapis.com)|172.217.7.144|:443... connected.\n",
            "HTTP request sent, awaiting response... 200 OK\n",
            "Length: 2008340480 (1.9G) [application/x-tar]\n",
            "Saving to: ‘dakshina_dataset_v1.0.tar’\n",
            "\n",
            "dakshina_dataset_v1 100%[===================>]   1.87G  90.8MB/s    in 12s     \n",
            "\n",
            "2021-04-21 13:21:01 (153 MB/s) - ‘dakshina_dataset_v1.0.tar’ saved [2008340480/2008340480]\n",
            "\n"
          ],
          "name": "stdout"
        }
      ]
    },
    {
      "cell_type": "markdown",
      "metadata": {
        "id": "-BstzblcHmd5"
      },
      "source": [
        "# Loading Data"
      ]
    },
    {
      "cell_type": "code",
      "metadata": {
        "id": "fNDJrkl5EUHX"
      },
      "source": [
        "class data_loader():\n",
        "\n",
        "  @staticmethod\n",
        "  def load_devanagiri():\n",
        "    lex = dict()\n",
        "    lex['train'], lex['val'], lex['test'] = [], [], [] \n",
        "    column_names = ['devanagiri', 'transliteration', 'count']\n",
        "\n",
        "    languages = ['hi', 'mr']\n",
        "    \n",
        "    for la in languages:\n",
        "      lex['train'].append(pd.read_csv('/content/dakshina_dataset_v1.0/'+la+'/lexicons/'+la+'.translit.sampled.train.tsv', sep='\\t', header=None, names=column_names))\n",
        "      lex['val'].append(pd.read_csv('/content/dakshina_dataset_v1.0/'+la+'/lexicons/'+la+'.translit.sampled.dev.tsv', sep='\\t', header=None, names=column_names))\n",
        "      lex['test'].append(pd.read_csv('/content/dakshina_dataset_v1.0/'+la+'/lexicons/'+la+'.translit.sampled.test.tsv', sep='\\t', header=None, names=column_names))\n",
        "\n",
        "    lex['train'] = pd.concat(lex['train'])\n",
        "    lex['val'] = pd.concat(lex['val'])\n",
        "    lex['test'] = pd.concat(lex['test'])\n",
        "\n",
        "    return lex    \n",
        "\n",
        "  @staticmethod\n",
        "  def make_devanagiri_dataset(lex):\n",
        "    \n",
        "    for div in ['train', 'val', 'test']:\n",
        "    \n",
        "      # removing non max transliterations\n",
        "      idx = lex[div].groupby(['devanagiri'])['count'].transform(max) == lex[div]['count']\n",
        "      lex[div] = lex[div][idx].reset_index(drop=True)\n",
        "\n",
        "      # calclulating difference in lengths of various transliterations\n",
        "      lex[div]['devanagiri_len'] = lex[div].apply(lambda x: len(str(x['devanagiri'])), axis=1)\n",
        "      lex[div]['transliteration_len'] = lex[div].apply(lambda y: len(str(y['transliteration'])), axis=1)\n",
        "      lex[div]['mod_dif'] = lex[div].apply(lambda z: abs(z['transliteration_len'] - z['devanagiri_len']), axis=1) \n",
        "\n",
        "      # removing transliterations that vary by a lot in length\n",
        "      idx = lex[div].groupby(['devanagiri'])['mod_dif'].transform(min) == lex[div]['mod_dif']\n",
        "      lex[div] = lex[div][idx].reset_index(drop=True)\n",
        "\n",
        "      # removing duplicates if any remain\n",
        "      lex[div].drop_duplicates(subset='devanagiri', keep='first', inplace=True)\n",
        "\n",
        "      # removing redundant columns\n",
        "      lex[div].drop(labels=['count', 'transliteration_len', 'devanagiri_len', 'mod_dif'], inplace=True, axis=1)\n",
        "\n",
        "    return lex"
      ],
      "execution_count": 54,
      "outputs": []
    },
    {
      "cell_type": "code",
      "metadata": {
        "id": "4j5JYbE1GZVv"
      },
      "source": [
        "lex = data_loader.load_devanagiri()\n",
        "lex = data_loader.make_devanagiri_dataset(lex)"
      ],
      "execution_count": 55,
      "outputs": []
    },
    {
      "cell_type": "code",
      "metadata": {
        "id": "9g0NF6-Ly4eL"
      },
      "source": [
        "df = lex['train']"
      ],
      "execution_count": 56,
      "outputs": []
    },
    {
      "cell_type": "markdown",
      "metadata": {
        "id": "NdBzE5ixvD5I"
      },
      "source": [
        "# Dataset Generation\n"
      ]
    },
    {
      "cell_type": "code",
      "metadata": {
        "id": "rOo1m6s3vDaN"
      },
      "source": [
        "class tokenizer:\n",
        "\n",
        "  def __init__():\n",
        "\n",
        "    self.input_corpus = None\n",
        "    self.output_corpus = None\n",
        "  \n",
        "  # takes in lists of words and returns lists of integers\n",
        "  def tokenize(mode='input'):\n",
        "\n",
        "    pass \n",
        "  # takes in lists of integers and returns lists of words\n",
        "  def decoder(mode='input'):\n",
        "\n",
        "    pass"
      ],
      "execution_count": null,
      "outputs": []
    },
    {
      "cell_type": "markdown",
      "metadata": {
        "id": "ZV_63arXtzSt"
      },
      "source": [
        "# Question 1\n"
      ]
    },
    {
      "cell_type": "code",
      "metadata": {
        "id": "UpJm8eZrt5mA"
      },
      "source": [
        "class rnn():\n",
        "\n",
        "  def __init__(self, params):\n",
        "    pass\n",
        "\n",
        "  def compile_and_fit():\n",
        "    pass\n"
      ],
      "execution_count": null,
      "outputs": []
    },
    {
      "cell_type": "code",
      "metadata": {
        "id": "eBfaOoDTt-Zd"
      },
      "source": [
        "params = {\n",
        "    \n",
        "}"
      ],
      "execution_count": null,
      "outputs": []
    },
    {
      "cell_type": "markdown",
      "metadata": {
        "id": "ItqoHkE2JTO1"
      },
      "source": [
        "# Romanized"
      ]
    },
    {
      "cell_type": "code",
      "metadata": {
        "id": "6O8dFDOHGbEb",
        "colab": {
          "base_uri": "https://localhost:8080/"
        },
        "outputId": "adce90f8-61a9-4d7c-e5f2-e9a7be422593"
      },
      "source": [
        "ta_rom = dict()\n",
        "ta_rom['rejoined'] = pd.read_csv('/content/dakshina_dataset_v1.0/ta/romanized/ta.romanized.rejoined.tsv', sep='\\t', header=None, error_bad_lines=False)\n",
        "ta_rom['rejoined_aligned_cased'] = pd.read_csv('/content/dakshina_dataset_v1.0/ta/romanized/ta.romanized.rejoined.aligned.cased_nopunct.tsv', sep='\\t', header=None, error_bad_lines=False) \n",
        "ta_rom['rejoined_aligned'] = pd.read_csv('/content/dakshina_dataset_v1.0/ta/romanized/ta.romanized.rejoined.aligned.tsv', sep='\\t', header=None, error_bad_lines=False)\n",
        "ta_rom['split'] = pd.read_csv('/content/dakshina_dataset_v1.0/ta/romanized/ta.romanized.split.tsv', sep='\\t', header=None, error_bad_lines=False)"
      ],
      "execution_count": 6,
      "outputs": [
        {
          "output_type": "stream",
          "text": [
            "b'Skipping line 1096: expected 2 fields, saw 3\\nSkipping line 1581: expected 2 fields, saw 3\\n'\n",
            "b'Skipping line 33794: expected 2 fields, saw 3\\nSkipping line 33795: expected 2 fields, saw 3\\nSkipping line 33796: expected 2 fields, saw 3\\nSkipping line 33798: expected 2 fields, saw 3\\nSkipping line 33799: expected 2 fields, saw 3\\nSkipping line 33801: expected 2 fields, saw 3\\nSkipping line 33802: expected 2 fields, saw 3\\nSkipping line 33803: expected 2 fields, saw 3\\n'\n",
            "b'Skipping line 11317: expected 2 fields, saw 4\\nSkipping line 16502: expected 2 fields, saw 4\\nSkipping line 32577: expected 2 fields, saw 3\\nSkipping line 32578: expected 2 fields, saw 3\\nSkipping line 32579: expected 2 fields, saw 3\\nSkipping line 32581: expected 2 fields, saw 3\\nSkipping line 32582: expected 2 fields, saw 3\\nSkipping line 32584: expected 2 fields, saw 3\\nSkipping line 32585: expected 2 fields, saw 3\\nSkipping line 32586: expected 2 fields, saw 3\\n'\n",
            "b'Skipping line 1108: expected 7 fields, saw 9\\nSkipping line 1597: expected 7 fields, saw 9\\n'\n"
          ],
          "name": "stderr"
        }
      ]
    },
    {
      "cell_type": "code",
      "metadata": {
        "id": "e-WGvG_RJqsr",
        "colab": {
          "base_uri": "https://localhost:8080/"
        },
        "outputId": "d2ea3acc-73ad-43da-9443-bff7c816e7ac"
      },
      "source": [
        "list(ta_rom['rejoined'].iloc[0, 0])[:10]"
      ],
      "execution_count": 15,
      "outputs": [
        {
          "output_type": "execute_result",
          "data": {
            "text/plain": [
              "['ர', 'ே', 'ட', 'ி', 'ய', 'ோ', ' ', 'அ', 'த', 'ி']"
            ]
          },
          "metadata": {
            "tags": []
          },
          "execution_count": 15
        }
      ]
    },
    {
      "cell_type": "code",
      "metadata": {
        "id": "p75rYpZkNCJV",
        "colab": {
          "base_uri": "https://localhost:8080/",
          "height": 0
        },
        "outputId": "e6c97002-931f-484b-eba4-b3caca50fb56"
      },
      "source": [
        "ta_rom['rejoined_aligned_cased']"
      ],
      "execution_count": 8,
      "outputs": [
        {
          "output_type": "execute_result",
          "data": {
            "text/html": [
              "<div>\n",
              "<style scoped>\n",
              "    .dataframe tbody tr th:only-of-type {\n",
              "        vertical-align: middle;\n",
              "    }\n",
              "\n",
              "    .dataframe tbody tr th {\n",
              "        vertical-align: top;\n",
              "    }\n",
              "\n",
              "    .dataframe thead th {\n",
              "        text-align: right;\n",
              "    }\n",
              "</style>\n",
              "<table border=\"1\" class=\"dataframe\">\n",
              "  <thead>\n",
              "    <tr style=\"text-align: right;\">\n",
              "      <th></th>\n",
              "      <th>0</th>\n",
              "      <th>1</th>\n",
              "    </tr>\n",
              "  </thead>\n",
              "  <tbody>\n",
              "    <tr>\n",
              "      <th>0</th>\n",
              "      <td>ரேடியோ</td>\n",
              "      <td>radio</td>\n",
              "    </tr>\n",
              "    <tr>\n",
              "      <th>1</th>\n",
              "      <td>அதிர்வெண்</td>\n",
              "      <td>athirven</td>\n",
              "    </tr>\n",
              "    <tr>\n",
              "      <th>2</th>\n",
              "      <td>முடுக்கிகள்</td>\n",
              "      <td>mudikkigal</td>\n",
              "    </tr>\n",
              "    <tr>\n",
              "      <th>3</th>\n",
              "      <td>துகள்கள்</td>\n",
              "      <td>thugalkal</td>\n",
              "    </tr>\n",
              "    <tr>\n",
              "      <th>4</th>\n",
              "      <td>நேரடியாக</td>\n",
              "      <td>neradiyaga</td>\n",
              "    </tr>\n",
              "    <tr>\n",
              "      <th>...</th>\n",
              "      <td>...</td>\n",
              "      <td>...</td>\n",
              "    </tr>\n",
              "    <tr>\n",
              "      <th>104779</th>\n",
              "      <td>இவ்விதழின்</td>\n",
              "      <td>ivvithazhin</td>\n",
              "    </tr>\n",
              "    <tr>\n",
              "      <th>104780</th>\n",
              "      <td>விலை</td>\n",
              "      <td>vilai</td>\n",
              "    </tr>\n",
              "    <tr>\n",
              "      <th>104781</th>\n",
              "      <td>ரூபாய்</td>\n",
              "      <td>roobaay</td>\n",
              "    </tr>\n",
              "    <tr>\n",
              "      <th>104782</th>\n",
              "      <td>1.00</td>\n",
              "      <td>1.00</td>\n",
              "    </tr>\n",
              "    <tr>\n",
              "      <th>104783</th>\n",
              "      <td>&lt;/s&gt;</td>\n",
              "      <td>&lt;/s&gt;</td>\n",
              "    </tr>\n",
              "  </tbody>\n",
              "</table>\n",
              "<p>104784 rows × 2 columns</p>\n",
              "</div>"
            ],
            "text/plain": [
              "                  0            1\n",
              "0            ரேடியோ        radio\n",
              "1         அதிர்வெண்     athirven\n",
              "2       முடுக்கிகள்   mudikkigal\n",
              "3          துகள்கள்    thugalkal\n",
              "4          நேரடியாக   neradiyaga\n",
              "...             ...          ...\n",
              "104779   இவ்விதழின்  ivvithazhin\n",
              "104780         விலை        vilai\n",
              "104781       ரூபாய்      roobaay\n",
              "104782         1.00         1.00\n",
              "104783         </s>         </s>\n",
              "\n",
              "[104784 rows x 2 columns]"
            ]
          },
          "metadata": {
            "tags": []
          },
          "execution_count": 8
        }
      ]
    },
    {
      "cell_type": "code",
      "metadata": {
        "id": "O0E9hQuQMULO",
        "colab": {
          "base_uri": "https://localhost:8080/",
          "height": 0
        },
        "outputId": "8335c610-2ec9-4e20-b34a-8e0e05331f7b"
      },
      "source": [
        "ta_rom['rejoined_aligned']"
      ],
      "execution_count": 9,
      "outputs": [
        {
          "output_type": "execute_result",
          "data": {
            "text/html": [
              "<div>\n",
              "<style scoped>\n",
              "    .dataframe tbody tr th:only-of-type {\n",
              "        vertical-align: middle;\n",
              "    }\n",
              "\n",
              "    .dataframe tbody tr th {\n",
              "        vertical-align: top;\n",
              "    }\n",
              "\n",
              "    .dataframe thead th {\n",
              "        text-align: right;\n",
              "    }\n",
              "</style>\n",
              "<table border=\"1\" class=\"dataframe\">\n",
              "  <thead>\n",
              "    <tr style=\"text-align: right;\">\n",
              "      <th></th>\n",
              "      <th>0</th>\n",
              "      <th>1</th>\n",
              "    </tr>\n",
              "  </thead>\n",
              "  <tbody>\n",
              "    <tr>\n",
              "      <th>0</th>\n",
              "      <td>ரேடியோ</td>\n",
              "      <td>Radio</td>\n",
              "    </tr>\n",
              "    <tr>\n",
              "      <th>1</th>\n",
              "      <td>அதிர்வெண்</td>\n",
              "      <td>athirven</td>\n",
              "    </tr>\n",
              "    <tr>\n",
              "      <th>2</th>\n",
              "      <td>முடுக்கிகள்,</td>\n",
              "      <td>mudikkigal,</td>\n",
              "    </tr>\n",
              "    <tr>\n",
              "      <th>3</th>\n",
              "      <td>துகள்கள்</td>\n",
              "      <td>thugalkal</td>\n",
              "    </tr>\n",
              "    <tr>\n",
              "      <th>4</th>\n",
              "      <td>நேரடியாக</td>\n",
              "      <td>neradiyaga</td>\n",
              "    </tr>\n",
              "    <tr>\n",
              "      <th>...</th>\n",
              "      <td>...</td>\n",
              "      <td>...</td>\n",
              "    </tr>\n",
              "    <tr>\n",
              "      <th>103538</th>\n",
              "      <td>இவ்விதழின்</td>\n",
              "      <td>ivvithazhin</td>\n",
              "    </tr>\n",
              "    <tr>\n",
              "      <th>103539</th>\n",
              "      <td>விலை</td>\n",
              "      <td>vilai</td>\n",
              "    </tr>\n",
              "    <tr>\n",
              "      <th>103540</th>\n",
              "      <td>ரூபாய்</td>\n",
              "      <td>roobaay</td>\n",
              "    </tr>\n",
              "    <tr>\n",
              "      <th>103541</th>\n",
              "      <td>1.00</td>\n",
              "      <td>1.00</td>\n",
              "    </tr>\n",
              "    <tr>\n",
              "      <th>103542</th>\n",
              "      <td>&lt;/s&gt;</td>\n",
              "      <td>&lt;/s&gt;</td>\n",
              "    </tr>\n",
              "  </tbody>\n",
              "</table>\n",
              "<p>103543 rows × 2 columns</p>\n",
              "</div>"
            ],
            "text/plain": [
              "                   0            1\n",
              "0             ரேடியோ        Radio\n",
              "1          அதிர்வெண்     athirven\n",
              "2       முடுக்கிகள்,  mudikkigal,\n",
              "3           துகள்கள்    thugalkal\n",
              "4           நேரடியாக   neradiyaga\n",
              "...              ...          ...\n",
              "103538    இவ்விதழின்  ivvithazhin\n",
              "103539          விலை        vilai\n",
              "103540        ரூபாய்      roobaay\n",
              "103541          1.00         1.00\n",
              "103542          </s>         </s>\n",
              "\n",
              "[103543 rows x 2 columns]"
            ]
          },
          "metadata": {
            "tags": []
          },
          "execution_count": 9
        }
      ]
    },
    {
      "cell_type": "code",
      "metadata": {
        "id": "7yAnW0rAKDY5",
        "colab": {
          "base_uri": "https://localhost:8080/",
          "height": 0
        },
        "outputId": "8d2c2a37-0afe-4be2-f965-c7c3490738ec"
      },
      "source": [
        "ta_rom['split']"
      ],
      "execution_count": 10,
      "outputs": [
        {
          "output_type": "execute_result",
          "data": {
            "text/html": [
              "<div>\n",
              "<style scoped>\n",
              "    .dataframe tbody tr th:only-of-type {\n",
              "        vertical-align: middle;\n",
              "    }\n",
              "\n",
              "    .dataframe tbody tr th {\n",
              "        vertical-align: top;\n",
              "    }\n",
              "\n",
              "    .dataframe thead th {\n",
              "        text-align: right;\n",
              "    }\n",
              "</style>\n",
              "<table border=\"1\" class=\"dataframe\">\n",
              "  <thead>\n",
              "    <tr style=\"text-align: right;\">\n",
              "      <th></th>\n",
              "      <th>0</th>\n",
              "      <th>1</th>\n",
              "      <th>2</th>\n",
              "      <th>3</th>\n",
              "      <th>4</th>\n",
              "      <th>5</th>\n",
              "      <th>6</th>\n",
              "    </tr>\n",
              "  </thead>\n",
              "  <tbody>\n",
              "    <tr>\n",
              "      <th>0</th>\n",
              "      <td>ரேடியோ அதிர்வெண் முடுக்கிகள், துகள்கள் நேரடியா...</td>\n",
              "      <td>6</td>\n",
              "      <td>Radio athirven mudikkigal, thugalkal neradiyag...</td>\n",
              "      <td>6.0</td>\n",
              "      <td>NaN</td>\n",
              "      <td>NaN</td>\n",
              "      <td>NaN</td>\n",
              "    </tr>\n",
              "    <tr>\n",
              "      <th>1</th>\n",
              "      <td>மான் விளையாடிக்கொண்டு வந்து உன்னை மோதினால் உன்...</td>\n",
              "      <td>21</td>\n",
              "      <td>Maan vilaiyaadikondu vanthu unnai modhinaal un...</td>\n",
              "      <td>21.0</td>\n",
              "      <td>NaN</td>\n",
              "      <td>NaN</td>\n",
              "      <td>NaN</td>\n",
              "    </tr>\n",
              "    <tr>\n",
              "      <th>2</th>\n",
              "      <td>அமிர்தகழி</td>\n",
              "      <td>1</td>\n",
              "      <td>Amirthakazhi</td>\n",
              "      <td>1.0</td>\n",
              "      <td>NaN</td>\n",
              "      <td>NaN</td>\n",
              "      <td>NaN</td>\n",
              "    </tr>\n",
              "    <tr>\n",
              "      <th>3</th>\n",
              "      <td>மோகன் லால் குப்தா ஜெய்ப்பூரின் முன்னாள் மேயராக...</td>\n",
              "      <td>12</td>\n",
              "      <td>Mohan Lal Gupta Jaipaurin munnal mayoragavum, ...</td>\n",
              "      <td>12.0</td>\n",
              "      <td>NaN</td>\n",
              "      <td>NaN</td>\n",
              "      <td>NaN</td>\n",
              "    </tr>\n",
              "    <tr>\n",
              "      <th>4</th>\n",
              "      <td>தில்லி மாநில கூட்டுறவு வங்கி லி.</td>\n",
              "      <td>5</td>\n",
              "      <td>Delhi maanila kooturavu vangi li.</td>\n",
              "      <td>5.0</td>\n",
              "      <td>NaN</td>\n",
              "      <td>NaN</td>\n",
              "      <td>NaN</td>\n",
              "    </tr>\n",
              "    <tr>\n",
              "      <th>...</th>\n",
              "      <td>...</td>\n",
              "      <td>...</td>\n",
              "      <td>...</td>\n",
              "      <td>...</td>\n",
              "      <td>...</td>\n",
              "      <td>...</td>\n",
              "      <td>...</td>\n",
              "    </tr>\n",
              "    <tr>\n",
              "      <th>9982</th>\n",
              "      <td>என்றாலும் வில்லியம் இறந்த பிறகான கரோலினின் பணி...</td>\n",
              "      <td>27</td>\n",
              "      <td>Yendraalum William irandha piragaana Carolinin...</td>\n",
              "      <td>27.0</td>\n",
              "      <td>NaN</td>\n",
              "      <td>NaN</td>\n",
              "      <td>NaN</td>\n",
              "    </tr>\n",
              "    <tr>\n",
              "      <th>9983</th>\n",
              "      <td>தொல்பொருளியல் அச்சகம் (Archaeopress) என்பது இங...</td>\n",
              "      <td>14</td>\n",
              "      <td>Tholporuliyal achchagam (Archaeopress) yenbath...</td>\n",
              "      <td>14.0</td>\n",
              "      <td>NaN</td>\n",
              "      <td>NaN</td>\n",
              "      <td>NaN</td>\n",
              "    </tr>\n",
              "    <tr>\n",
              "      <th>9984</th>\n",
              "      <td>மலைய நாட்டு மன்னனை மலாடர் கோமான் என்று சங்கப்ப...</td>\n",
              "      <td>8</td>\n",
              "      <td>Malaiya naattu mannanai malaadar komaan yendru...</td>\n",
              "      <td>8.0</td>\n",
              "      <td>NaN</td>\n",
              "      <td>NaN</td>\n",
              "      <td>NaN</td>\n",
              "    </tr>\n",
              "    <tr>\n",
              "      <th>9985</th>\n",
              "      <td>அப்படையின் தொகை மிக அருகி இருந்ததோடு, அதனிடம் ...</td>\n",
              "      <td>12</td>\n",
              "      <td>Appadaiyin thogai miga arugi irunthathodu, ath...</td>\n",
              "      <td>12.0</td>\n",
              "      <td>NaN</td>\n",
              "      <td>NaN</td>\n",
              "      <td>NaN</td>\n",
              "    </tr>\n",
              "    <tr>\n",
              "      <th>9986</th>\n",
              "      <td>தொண்டன் இலங்கை, திருகோணமலையிலிருந்து 1970ம் ஆண...</td>\n",
              "      <td>15</td>\n",
              "      <td>Thondan ilangai, thirukonanmalaiyilirundhu 197...</td>\n",
              "      <td>15.0</td>\n",
              "      <td>NaN</td>\n",
              "      <td>NaN</td>\n",
              "      <td>NaN</td>\n",
              "    </tr>\n",
              "  </tbody>\n",
              "</table>\n",
              "<p>9987 rows × 7 columns</p>\n",
              "</div>"
            ],
            "text/plain": [
              "                                                      0   1  ...   5    6\n",
              "0     ரேடியோ அதிர்வெண் முடுக்கிகள், துகள்கள் நேரடியா...   6  ... NaN  NaN\n",
              "1     மான் விளையாடிக்கொண்டு வந்து உன்னை மோதினால் உன்...  21  ... NaN  NaN\n",
              "2                                             அமிர்தகழி   1  ... NaN  NaN\n",
              "3     மோகன் லால் குப்தா ஜெய்ப்பூரின் முன்னாள் மேயராக...  12  ... NaN  NaN\n",
              "4                      தில்லி மாநில கூட்டுறவு வங்கி லி.   5  ... NaN  NaN\n",
              "...                                                 ...  ..  ...  ..  ...\n",
              "9982  என்றாலும் வில்லியம் இறந்த பிறகான கரோலினின் பணி...  27  ... NaN  NaN\n",
              "9983  தொல்பொருளியல் அச்சகம் (Archaeopress) என்பது இங...  14  ... NaN  NaN\n",
              "9984  மலைய நாட்டு மன்னனை மலாடர் கோமான் என்று சங்கப்ப...   8  ... NaN  NaN\n",
              "9985  அப்படையின் தொகை மிக அருகி இருந்ததோடு, அதனிடம் ...  12  ... NaN  NaN\n",
              "9986  தொண்டன் இலங்கை, திருகோணமலையிலிருந்து 1970ம் ஆண...  15  ... NaN  NaN\n",
              "\n",
              "[9987 rows x 7 columns]"
            ]
          },
          "metadata": {
            "tags": []
          },
          "execution_count": 10
        }
      ]
    },
    {
      "cell_type": "code",
      "metadata": {
        "id": "wD7CedwSKaoS"
      },
      "source": [
        ""
      ],
      "execution_count": 10,
      "outputs": []
    }
  ]
}