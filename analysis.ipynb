{
  "nbformat": 4,
  "nbformat_minor": 0,
  "metadata": {
    "colab": {
      "name": "Pickle Analysis.ipynb",
      "provenance": [],
      "mount_file_id": "128ZUbndwIodvNK9ZX99iQSMmTrL5hr2V",
      "authorship_tag": "ABX9TyMmjJBiiAKFojOHyDQSbAxi",
      "include_colab_link": true
    },
    "kernelspec": {
      "name": "python3",
      "display_name": "Python 3"
    },
    "language_info": {
      "name": "python"
    }
  },
  "cells": [
    {
      "cell_type": "markdown",
      "metadata": {
        "id": "view-in-github",
        "colab_type": "text"
      },
      "source": [
        "<a href=\"https://colab.research.google.com/github/ramkamal2000/cs6910_assignment3/blob/main/analysis.ipynb\" target=\"_parent\"><img src=\"https://colab.research.google.com/assets/colab-badge.svg\" alt=\"Open In Colab\"/></a>"
      ]
    },
    {
      "cell_type": "markdown",
      "metadata": {
        "id": "cMEvyeCDptYe"
      },
      "source": [
        "# Mount Drive"
      ]
    },
    {
      "cell_type": "code",
      "metadata": {
        "colab": {
          "base_uri": "https://localhost:8080/"
        },
        "id": "mXry_1lB7qU-",
        "outputId": "7388804e-150b-4307-e184-a269207685de"
      },
      "source": [
        "from google.colab import drive\n",
        "drive.mount('/content/drive')"
      ],
      "execution_count": 1,
      "outputs": [
        {
          "output_type": "stream",
          "text": [
            "Drive already mounted at /content/drive; to attempt to forcibly remount, call drive.mount(\"/content/drive\", force_remount=True).\n"
          ],
          "name": "stdout"
        }
      ]
    },
    {
      "cell_type": "markdown",
      "metadata": {
        "id": "cyK8fEgep-wr"
      },
      "source": [
        "# Import Libraries"
      ]
    },
    {
      "cell_type": "code",
      "metadata": {
        "id": "M_A559w-7lo_"
      },
      "source": [
        "import pickle\n",
        "import pandas as pd\n",
        "import tarfile\n",
        "import os\n",
        "import numpy as np\n",
        "import matplotlib.pyplot as plt\n",
        "import difflib\n",
        "import seaborn as sns\n",
        "\n",
        "from nltk import edit_distance\n",
        "from collections import Counter\n",
        "import itertools"
      ],
      "execution_count": 86,
      "outputs": []
    },
    {
      "cell_type": "markdown",
      "metadata": {
        "id": "x7sNRMvPrzKj"
      },
      "source": [
        "# Download Dataset"
      ]
    },
    {
      "cell_type": "code",
      "metadata": {
        "colab": {
          "base_uri": "https://localhost:8080/"
        },
        "id": "AUCO7R58r2Iu",
        "outputId": "e0546a30-d6a2-4bff-b23b-2c18c0370c33"
      },
      "source": [
        "!wget -nc https://storage.googleapis.com/gresearch/dakshina/dakshina_dataset_v1.0.tar\n",
        "\n",
        "if not os.path.isdir('/content/dakshina_dataset_v1.0'):\n",
        "  tarfile.open(\"/content/dakshina_dataset_v1.0.tar\").extractall()"
      ],
      "execution_count": 3,
      "outputs": [
        {
          "output_type": "stream",
          "text": [
            "File ‘dakshina_dataset_v1.0.tar’ already there; not retrieving.\n",
            "\n"
          ],
          "name": "stdout"
        }
      ]
    },
    {
      "cell_type": "markdown",
      "metadata": {
        "id": "3NTGM7B0uhhv"
      },
      "source": [
        "# Load Dataset"
      ]
    },
    {
      "cell_type": "code",
      "metadata": {
        "id": "eXcLngLfuuQt"
      },
      "source": [
        "class data_loader():\n",
        "\n",
        "  @staticmethod\n",
        "  def _load_raw_df(languages = [\"ta\"]):\n",
        "    lex = dict()\n",
        "    lex['train'], lex['val'], lex['test'] = [], [], [] \n",
        "    column_names = ['output', 'input', 'count']\n",
        "    \n",
        "    for la in languages:\n",
        "      lex['train'].append(pd.read_csv('/content' + '/dakshina_dataset_v1.0/'+la+'/lexicons/'+la+'.translit.sampled.train.tsv', sep='\\t', header=None, names=column_names))\n",
        "      lex['val'].append(pd.read_csv('/content' + '/dakshina_dataset_v1.0/'+la+'/lexicons/'+la+'.translit.sampled.dev.tsv', sep='\\t', header=None, names=column_names))\n",
        "      lex['test'].append(pd.read_csv('/content' + '/dakshina_dataset_v1.0/'+la+'/lexicons/'+la+'.translit.sampled.test.tsv', sep='\\t', header=None, names=column_names))\n",
        "\n",
        "    lex['train'] = pd.concat(lex['train'])\n",
        "    lex['val'] = pd.concat(lex['val'])\n",
        "    lex['test'] = pd.concat(lex['test'])\n",
        "\n",
        "    return lex    \n",
        "\n",
        "  @staticmethod\n",
        "  def _make_final_df(lex):\n",
        "    \n",
        "    for div in ['train', 'val']:\n",
        "    \n",
        "      # removing non max transliterations\n",
        "      idx = lex[div].groupby(['input'])['count'].transform(max) == lex[div]['count']\n",
        "      lex[div] = lex[div][idx].reset_index(drop=True)\n",
        "\n",
        "      # calclulating difference in lengths of various transliterations\n",
        "      lex[div]['input_len'] = lex[div].apply(lambda x: len(str(x['input'])), axis=1)\n",
        "      lex[div]['output_len'] = lex[div].apply(lambda y: len(str(y['output'])), axis=1)\n",
        "      lex[div]['mod_dif'] = lex[div].apply(lambda z: abs(z['input_len'] - z['output_len']), axis=1) \n",
        "\n",
        "      # removing transliterations that vary by a lot in length\n",
        "      idx = lex[div].groupby(['input'])['mod_dif'].transform(min) == lex[div]['mod_dif']\n",
        "      lex[div] = lex[div][idx].reset_index(drop=True)\n",
        "\n",
        "      # removing duplicates if any remain\n",
        "      lex[div].drop_duplicates(subset='input', keep='first', inplace=True)\n",
        "\n",
        "      # removing redundant columns\n",
        "      lex[div].drop(labels=['count', 'input_len', 'output_len', 'mod_dif'], inplace=True, axis=1)\n",
        "\n",
        "      # shuffling the dataset i.e. rows of the dataset\n",
        "      lex[div] = lex[div].sample(frac=1, random_state=6910)\n",
        "      lex[div] = lex[div].reset_index(drop=True)\n",
        "\n",
        "    lex['test'] = lex['test'].sample(frac=1, random_state=6910)\n",
        "    lex['test'].drop(labels=['count'], axis=1, inplace=True)\n",
        "    lex['test'] = lex['test'].reset_index(drop=True)\n",
        "    return lex\n",
        "\n",
        "  @staticmethod\n",
        "  def _generate_batch(X, y, data_dict, num_decoder_tokens, batch_size = 1):\n",
        "\n",
        "    while True:\n",
        "        for j in range(0, len(X), batch_size):\n",
        "            \n",
        "            # placeholder data structures\n",
        "            encoder_input_data = np.zeros((batch_size, data_dict['max_source_length']),dtype='float32')\n",
        "            decoder_input_data = np.zeros((batch_size, data_dict['max_target_length']),dtype='float32')\n",
        "            decoder_target_data = np.zeros((batch_size, data_dict['max_target_length'], num_decoder_tokens),dtype='float32')\n",
        "\n",
        "            # assessing one batch at a time\n",
        "            for i, (input_text, target_text) in enumerate(zip(X[j:j+batch_size], y[j:j+batch_size])):\n",
        "\n",
        "                for t, word in enumerate(input_text):\n",
        "                  encoder_input_data[i, t] = word\n",
        "                for t, word in enumerate(target_text):\n",
        "                    if t<len(target_text)-1:\n",
        "                        # decoder input sequence\n",
        "                        # does not include the <EOW> token\n",
        "                        decoder_input_data[i, t] = word \n",
        "                    if t>0:\n",
        "                        # decoder target sequence (one hot encoded)\n",
        "                        # does not include the <SOW> token\n",
        "                        decoder_target_data[i, t - 1, word] = 1.\n",
        "                    \n",
        "            yield([encoder_input_data, decoder_input_data], decoder_target_data)\n",
        "\n",
        "  @staticmethod\n",
        "  def _generate_batch_greedy(X, y, data_dict, num_decoder_tokens, batch_size = 1):\n",
        "\n",
        "    while True:\n",
        "        for j in range(0, len(X), batch_size):\n",
        "\n",
        "            # placeholder data structures\n",
        "            encoder_input_data = np.zeros((batch_size, data_dict['max_source_length']),dtype='float32')\n",
        "            decoder_input_data = np.zeros((batch_size, 1),dtype='float32')\n",
        "            decoder_target_data = np.zeros((batch_size, data_dict['max_target_length'], num_decoder_tokens),dtype='float32')\n",
        "            \n",
        "            # assessing one batch at a time\n",
        "            for i, (input_text, target_text) in enumerate(zip(X[j:j+batch_size], y[j:j+batch_size])):\n",
        "                for t, word in enumerate(input_text):\n",
        "                  encoder_input_data[i, t] = word\n",
        "                for t, word in enumerate(target_text):\n",
        "                    if t==0 :\n",
        "                        decoder_input_data[i, t] = 1 # decoder input seq\n",
        "                    if t>0:\n",
        "                        # decoder target sequence (one hot encoded)\n",
        "                        # does not include the START_ token\n",
        "                        decoder_target_data[i, t - 1, word] = 1.\n",
        "                    \n",
        "            yield([encoder_input_data, decoder_input_data], decoder_target_data)"
      ],
      "execution_count": 4,
      "outputs": []
    },
    {
      "cell_type": "code",
      "metadata": {
        "id": "cfuaq0hEuxKR"
      },
      "source": [
        "class Tokenizer:\n",
        "\n",
        "  def __init__(self, df):\n",
        "\n",
        "    self.start_token = '<SOW>'\n",
        "    self.stop_token = '<EOW>'\n",
        "    self.unknown_token = '<UNK>'\n",
        "\n",
        "    self.input_corpus = [self.start_token, self.stop_token, self.unknown_token]\n",
        "    self.output_corpus = [self.start_token, self.stop_token, self.unknown_token]\n",
        "\n",
        "    input_words = df.input.tolist()\n",
        "    output_words = df.output.tolist()\n",
        "\n",
        "    for word in input_words:\n",
        "      tokens = str(word)\n",
        "      for token in tokens:\n",
        "        if token not in self.input_corpus:\n",
        "          self.input_corpus.append(token)\n",
        "\n",
        "    for word in output_words:\n",
        "      tokens = str(word)\n",
        "      for token in tokens:\n",
        "        if token not in self.output_corpus:\n",
        "          self.output_corpus.append(token)\n",
        "    \n",
        "    self.encode_dict_input = {self.input_corpus[i] : i+1 for i in range(len(self.input_corpus))}\n",
        "    self.decode_dict_input = {k:v for v,k in self.encode_dict_input.items()}\n",
        "    \n",
        "    \n",
        "    self.encode_dict_output = {self.output_corpus[i] : i+1 for i in range(len(self.output_corpus))}\n",
        "    self.decode_dict_output = {k:v for v,k in self.encode_dict_output.items()}\n",
        "    self.decode_dict_output.update({2:''})\n",
        "\n",
        "  # takes in lists of words and returns lists of integers\n",
        "  def encode(self, X, mode='input'):\n",
        "\n",
        "    if (mode=='input'):\n",
        "      input_list = []\n",
        "      for word in X:\n",
        "        word = str(word)\n",
        "        integer_list =np.array([self.encode_dict_input.get(token, self.encode_dict_input[self.unknown_token]) for token in word])\n",
        "        input_list.append(integer_list)\n",
        "      \n",
        "      return input_list\n",
        "    \n",
        "    if (mode=='output'):\n",
        "      output_list = []\n",
        "      for word in X:\n",
        "        word = str(word)\n",
        "        integer_list = np.array([self.encode_dict_output[self.start_token]] + [self.encode_dict_output.get(token, self.encode_dict_output[self.unknown_token]) for token in word] + [self.encode_dict_output[self.stop_token]])\n",
        "        output_list.append(integer_list)\n",
        "      \n",
        "      return output_list\n",
        "    \n",
        "  # takes in lists of integers and returns lists of words\n",
        "  def decode(self, X, mode='input'):\n",
        "\n",
        "    if (mode=='input'):\n",
        "      input_list = []\n",
        "      for integers in X:\n",
        "        token_list = [self.decode_dict_input.get(integer, '') for integer in integers] \n",
        "        input_list.append(''.join(token_list))\n",
        "      \n",
        "      return input_list\n",
        "\n",
        "    if (mode=='output'):\n",
        "      output_list = []\n",
        "      for integers in X:\n",
        "        token_list = [self.decode_dict_output.get(integer, '') for integer in integers[:-1]] \n",
        "        output_list.append(''.join(token_list))\n",
        "      \n",
        "      return output_list"
      ],
      "execution_count": 5,
      "outputs": []
    },
    {
      "cell_type": "code",
      "metadata": {
        "id": "B0Tlnslsuzzv"
      },
      "source": [
        "def return_data_dict(languages=[\"ta\"], batch_size=32):\n",
        "\n",
        "  lex = data_loader._load_raw_df(languages)\n",
        "  lex = data_loader._make_final_df(lex)\n",
        "\n",
        "  data_dict = dict()\n",
        "\n",
        "  df_train = lex['train']\n",
        "  df_val = lex['val']\n",
        "  df_test = lex['test']\n",
        "\n",
        "  tk = Tokenizer(df_train)\n",
        "\n",
        "  data_dict['in_size'] = len(tk.input_corpus) + 1\n",
        "  data_dict['out_size'] = len(tk.output_corpus) + 1\n",
        "\n",
        "  X_train = tk.encode(df_train.input.tolist(), mode='input')\n",
        "  Y_train = tk.encode(df_train.output.tolist(), mode='output')\n",
        "  \n",
        "  X_val = tk.encode(df_val.input.tolist(), mode='input')\n",
        "  Y_val = tk.encode(df_val.output.tolist(), mode='output')\n",
        "  \n",
        "  X_test = tk.encode(df_test.input.tolist(), mode='input')\n",
        "  Y_test = tk.encode(df_test.output.tolist(), mode='output')\n",
        "\n",
        "\n",
        "  data_dict['train'], data_dict['val'], data_dict['test']= dict(), dict(), dict()\n",
        "\n",
        "\n",
        "  data_dict['train']['df'] = df_train\n",
        "  data_dict['val']['df'] = df_val\n",
        "  data_dict['test']['df'] = df_test\n",
        "\n",
        "\n",
        "  data_dict['train']['max_source_length'] = np.max(np.array([len(x) for x in X_train]))\n",
        "  data_dict['train']['max_target_length'] = np.max(np.array([len(x) for x in Y_train]))\n",
        "  \n",
        "  data_dict['val']['max_source_length'] = np.max(np.array([len(x) for x in X_val]))\n",
        "  data_dict['val']['max_target_length'] = np.max(np.array([len(x) for x in Y_test]))\n",
        "  \n",
        "  data_dict['test']['max_source_length'] = np.max(np.array([len(x) for x in X_test]))\n",
        "  data_dict['test']['max_target_length'] = np.max(np.array([len(x) for x in Y_test]))\n",
        "\n",
        "\n",
        "  data_dict['max_source_length'] = max(data_dict['train']['max_source_length'], data_dict['val']['max_source_length'], data_dict['test']['max_source_length'])\n",
        "  data_dict['max_target_length'] = max(data_dict['train']['max_target_length'], data_dict['val']['max_target_length'], data_dict['test']['max_target_length'])\n",
        "\n",
        "\n",
        "  data_dict['train']['batch'] = data_loader._generate_batch(X_train, Y_train, data_dict, data_dict['out_size'], batch_size)\n",
        "  data_dict['train']['batch_greedy'] = data_loader._generate_batch_greedy(X_train, Y_train, data_dict, data_dict['out_size'], batch_size)\n",
        "  \n",
        "  data_dict['val']['batch'] = data_loader._generate_batch(X_val, Y_val, data_dict, data_dict['out_size'], batch_size)\n",
        "  data_dict['val']['batch_greedy'] = data_loader._generate_batch_greedy(X_val, Y_val, data_dict, data_dict['out_size'], batch_size)\n",
        "\n",
        "  data_dict['test']['batch'] = data_loader._generate_batch(X_test, Y_test, data_dict, data_dict['out_size'], batch_size)  \n",
        "  data_dict['test']['batch_greedy'] = data_loader._generate_batch_greedy(X_test, Y_test, data_dict, data_dict['out_size'], batch_size)    \n",
        "  data_dict['test']['batch_1'] = data_loader._generate_batch_greedy(X_test, Y_test, data_dict, data_dict['out_size'], 1)\n",
        "\n",
        "  data_dict['tokenizer'] = tk\n",
        "\n",
        "  return data_dict"
      ],
      "execution_count": 6,
      "outputs": []
    },
    {
      "cell_type": "code",
      "metadata": {
        "colab": {
          "base_uri": "https://localhost:8080/"
        },
        "id": "s9BPp2nzu0WK",
        "outputId": "8ef0e905-0ae7-4c4d-e43b-4725c000a592"
      },
      "source": [
        "data_dict = return_data_dict()\n",
        "tk = data_dict['tokenizer']\n",
        "input_vocab = tk.input_corpus[3:]\n",
        "len(input_vocab)"
      ],
      "execution_count": 7,
      "outputs": [
        {
          "output_type": "execute_result",
          "data": {
            "text/plain": [
              "26"
            ]
          },
          "metadata": {
            "tags": []
          },
          "execution_count": 7
        }
      ]
    },
    {
      "cell_type": "markdown",
      "metadata": {
        "id": "QT4wwH_UqDZ5"
      },
      "source": [
        "# RNN w/o Attention Dataset Loading"
      ]
    },
    {
      "cell_type": "code",
      "metadata": {
        "id": "Y9-pljiLaKpi"
      },
      "source": [
        "root_dir = '/content/drive/MyDrive/Colab Notebooks/DL3'"
      ],
      "execution_count": 8,
      "outputs": []
    },
    {
      "cell_type": "code",
      "metadata": {
        "id": "KNe6jLBfkXqp"
      },
      "source": [
        "path_rnn_beam = root_dir+'/rnn_beam.csv'\n",
        "df_rnn_beam = pd.read_csv(path_rnn_beam)\n",
        "X = df_rnn_beam.X.to_list()\n",
        "Y_true = df_rnn_beam.Y_pred.to_list()\n",
        "Y_pred = df_rnn_beam.Y_true.to_list()\n",
        "match = [1*(a==b) for a,b in zip(Y_true, Y_pred)]"
      ],
      "execution_count": 36,
      "outputs": []
    },
    {
      "cell_type": "code",
      "metadata": {
        "colab": {
          "base_uri": "https://localhost:8080/"
        },
        "id": "xH7Zn0fokfMP",
        "outputId": "8e7c9f41-9302-4ec4-ba73-b08a1efdaa33"
      },
      "source": [
        "sum(match)/len(match)"
      ],
      "execution_count": 38,
      "outputs": [
        {
          "output_type": "execute_result",
          "data": {
            "text/plain": [
              "0.32415501165501165"
            ]
          },
          "metadata": {
            "tags": []
          },
          "execution_count": 38
        }
      ]
    },
    {
      "cell_type": "code",
      "metadata": {
        "id": "ZaMRFz6_nGMi"
      },
      "source": [
        "path_rnn_greedy = root_dir+'/rnn_greedy.csv'\n",
        "df_rnn_greedy = pd.read_csv(path_rnn_greedy)\n",
        "X = df_rnn_greedy.X[0].split(',')\n",
        "Y_true = df_rnn_greedy.Y_pred[0].split(',')\n",
        "Y_pred = df_rnn_greedy.Y_true[0].split(',')\n",
        "match = [1*(a==b) for a,b in zip(Y_true, Y_pred)]"
      ],
      "execution_count": 169,
      "outputs": []
    },
    {
      "cell_type": "code",
      "metadata": {
        "colab": {
          "base_uri": "https://localhost:8080/"
        },
        "id": "mkO5hie7nG0E",
        "outputId": "a7eed8ff-04f5-44ba-c06d-8ec848f04293"
      },
      "source": [
        "sum(match)/len(match)"
      ],
      "execution_count": 170,
      "outputs": [
        {
          "output_type": "execute_result",
          "data": {
            "text/plain": [
              "0.48155225635748933"
            ]
          },
          "metadata": {
            "tags": []
          },
          "execution_count": 170
        }
      ]
    },
    {
      "cell_type": "code",
      "metadata": {
        "id": "jPX3KwfQIJ2W"
      },
      "source": [
        "df = pd.DataFrame({\n",
        "    'X' : X,\n",
        "    'true' : Y_true,\n",
        "    'pred' : Y_pred,\n",
        "    'match' : match\n",
        "})"
      ],
      "execution_count": 171,
      "outputs": []
    },
    {
      "cell_type": "code",
      "metadata": {
        "colab": {
          "base_uri": "https://localhost:8080/",
          "height": 194
        },
        "id": "y0stwXI_2C8m",
        "outputId": "4c582f49-1123-4673-eee1-8ed285b042b9"
      },
      "source": [
        "df.head()"
      ],
      "execution_count": 173,
      "outputs": [
        {
          "output_type": "execute_result",
          "data": {
            "text/html": [
              "<div>\n",
              "<style scoped>\n",
              "    .dataframe tbody tr th:only-of-type {\n",
              "        vertical-align: middle;\n",
              "    }\n",
              "\n",
              "    .dataframe tbody tr th {\n",
              "        vertical-align: top;\n",
              "    }\n",
              "\n",
              "    .dataframe thead th {\n",
              "        text-align: right;\n",
              "    }\n",
              "</style>\n",
              "<table border=\"1\" class=\"dataframe\">\n",
              "  <thead>\n",
              "    <tr style=\"text-align: right;\">\n",
              "      <th></th>\n",
              "      <th>X</th>\n",
              "      <th>true</th>\n",
              "      <th>pred</th>\n",
              "      <th>match</th>\n",
              "    </tr>\n",
              "  </thead>\n",
              "  <tbody>\n",
              "    <tr>\n",
              "      <th>0</th>\n",
              "      <td>nathikalil</td>\n",
              "      <td>நதிகளில்</td>\n",
              "      <td>நதிகளில்</td>\n",
              "      <td>1</td>\n",
              "    </tr>\n",
              "    <tr>\n",
              "      <th>1</th>\n",
              "      <td>kargu</td>\n",
              "      <td>கர்கு</td>\n",
              "      <td>சரக்கு</td>\n",
              "      <td>0</td>\n",
              "    </tr>\n",
              "    <tr>\n",
              "      <th>2</th>\n",
              "      <td>paavam</td>\n",
              "      <td>பாவம்</td>\n",
              "      <td>பாவம்</td>\n",
              "      <td>1</td>\n",
              "    </tr>\n",
              "    <tr>\n",
              "      <th>3</th>\n",
              "      <td>guraikkum</td>\n",
              "      <td>குறைக்கும்</td>\n",
              "      <td>குரைக்கும்</td>\n",
              "      <td>0</td>\n",
              "    </tr>\n",
              "    <tr>\n",
              "      <th>4</th>\n",
              "      <td>suttrulaavin</td>\n",
              "      <td>சுற்றுலாவின்</td>\n",
              "      <td>சுற்றுலாவின்</td>\n",
              "      <td>1</td>\n",
              "    </tr>\n",
              "  </tbody>\n",
              "</table>\n",
              "</div>"
            ],
            "text/plain": [
              "              X          true          pred  match\n",
              "0    nathikalil      நதிகளில்      நதிகளில்      1\n",
              "1         kargu         கர்கு        சரக்கு      0\n",
              "2        paavam         பாவம்         பாவம்      1\n",
              "3     guraikkum    குறைக்கும்    குரைக்கும்      0\n",
              "4  suttrulaavin  சுற்றுலாவின்  சுற்றுலாவின்      1"
            ]
          },
          "metadata": {
            "tags": []
          },
          "execution_count": 173
        }
      ]
    },
    {
      "cell_type": "markdown",
      "metadata": {
        "id": "POGwE189PUb8"
      },
      "source": [
        "## Length Of English Input"
      ]
    },
    {
      "cell_type": "code",
      "metadata": {
        "id": "HvvEtZRJzeZ4"
      },
      "source": [
        "df_2 = df.copy()\n",
        "df_2['X_len'] = df_2.apply(lambda x: len(x['X']), axis=1)\n",
        "\n",
        "df_2 = df_2.groupby(['X_len', 'match']).count()\n",
        "df_2.reset_index(level='match', inplace=True)\n",
        "df_2.drop(columns=['true', 'pred'], inplace=True)\n",
        "\n",
        "df_3 = df_2.groupby(level='X_len').sum()\n",
        "df_3.drop(columns=['match'], inplace=True)\n",
        "df_3 = df_3.rename(columns={'X': 'total'})\n",
        "\n",
        "df_2 = df_2.rename(columns={'X': 'count'})\n",
        "\n",
        "df_4 = pd.concat([df_2, df_3], axis=1)\n",
        "df_4.reset_index(level='X_len', inplace=True)\n",
        "\n",
        "len_values = df_4.X_len.unique()\n",
        "full_dict = df_4.set_index(['X_len', 'match']).to_dict()\n",
        "count_dict, total_dict = full_dict['count'], full_dict['total']"
      ],
      "execution_count": 174,
      "outputs": []
    },
    {
      "cell_type": "code",
      "metadata": {
        "id": "MIe9gU97NlGE"
      },
      "source": [
        "acc_values = [count_dict.get((len, 1), 0)/total_dict.get((len, 1), 1) for len in len_values] "
      ],
      "execution_count": 175,
      "outputs": []
    },
    {
      "cell_type": "code",
      "metadata": {
        "colab": {
          "base_uri": "https://localhost:8080/",
          "height": 313
        },
        "id": "6IMtXrOl13nt",
        "outputId": "13bd8b7e-a28f-4a37-8002-49451c38181d"
      },
      "source": [
        "plt.bar(len_values, acc_values)\n",
        "plt.grid()\n",
        "plt.xlabel('Length Of Input')\n",
        "plt.ylabel('Accuracy')\n",
        "plt.title('Accuracy vs Length Of Input')"
      ],
      "execution_count": 176,
      "outputs": [
        {
          "output_type": "execute_result",
          "data": {
            "text/plain": [
              "Text(0.5, 1.0, 'Accuracy vs Length Of Input')"
            ]
          },
          "metadata": {
            "tags": []
          },
          "execution_count": 176
        },
        {
          "output_type": "display_data",
          "data": {
            "image/png": "[encoded data removed]",
            "text/plain": [
              "<Figure size 432x288 with 1 Axes>"
            ]
          },
          "metadata": {
            "tags": [],
            "needs_background": "light"
          }
        }
      ]
    },
    {
      "cell_type": "markdown",
      "metadata": {
        "id": "lzUsj912PtOl"
      },
      "source": [
        "## Edit Distance"
      ]
    },
    {
      "cell_type": "code",
      "metadata": {
        "colab": {
          "base_uri": "https://localhost:8080/"
        },
        "id": "PVHkNuQCBf91",
        "outputId": "c0e3dcde-d424-4878-fa69-ecc47ffa3f2f"
      },
      "source": [
        "df_2 = df.copy()\n",
        "df_2['edit'] = df_2.apply(lambda x: edit_distance(x['true'], x['pred']), axis=1)\n",
        "\n",
        "df_3 = df_2[df_2['match']==0]\n",
        "df_3.drop(columns=['match'], inplace=True)"
      ],
      "execution_count": 177,
      "outputs": [
        {
          "output_type": "stream",
          "text": [
            "/usr/local/lib/python3.7/dist-packages/pandas/core/frame.py:4174: SettingWithCopyWarning: \n",
            "A value is trying to be set on a copy of a slice from a DataFrame\n",
            "\n",
            "See the caveats in the documentation: https://pandas.pydata.org/pandas-docs/stable/user_guide/indexing.html#returning-a-view-versus-a-copy\n",
            "  errors=errors,\n"
          ],
          "name": "stderr"
        }
      ]
    },
    {
      "cell_type": "code",
      "metadata": {
        "colab": {
          "base_uri": "https://localhost:8080/",
          "height": 313
        },
        "id": "tSXS5FcpBzRB",
        "outputId": "d93c58ab-e5c3-4c96-a98e-949c3ba675d9"
      },
      "source": [
        "df_3.edit.plot.hist()\n",
        "plt.grid()\n",
        "plt.xlabel('Edit Distance')\n",
        "plt.title('Error F vs ED')"
      ],
      "execution_count": 178,
      "outputs": [
        {
          "output_type": "execute_result",
          "data": {
            "text/plain": [
              "Text(0.5, 1.0, 'Error F vs ED')"
            ]
          },
          "metadata": {
            "tags": []
          },
          "execution_count": 178
        },
        {
          "output_type": "display_data",
          "data": {
            "image/png": "[encoded data removed]",
            "text/plain": [
              "<Figure size 432x288 with 1 Axes>"
            ]
          },
          "metadata": {
            "tags": [],
            "needs_background": "light"
          }
        }
      ]
    },
    {
      "cell_type": "markdown",
      "metadata": {
        "id": "_iCyqfpnUm05"
      },
      "source": [
        "# Tamil Alphabet Wise Accuracy Rate"
      ]
    },
    {
      "cell_type": "code",
      "metadata": {
        "id": "weVoEZGwSyj5"
      },
      "source": [
        "diff_list = []\n",
        "\n",
        "for y_true, y_pred in zip(Y_true, Y_pred):\n",
        "  output_list = [li for li in difflib.ndiff(y_true, y_pred) if li[0] != ' ']\n",
        "  diff_list += output_list"
      ],
      "execution_count": 179,
      "outputs": []
    },
    {
      "cell_type": "code",
      "metadata": {
        "id": "BkKSKucIX7eC"
      },
      "source": [
        "plus_list, minus_list = [], []\n",
        "\n",
        "for diff in diff_list:\n",
        "  if diff[0]=='+':\n",
        "    plus_list.append(diff[2:])\n",
        "  else:\n",
        "    minus_list.append(diff[2:])\n",
        "\n",
        "net_list = plus_list + minus_list"
      ],
      "execution_count": 180,
      "outputs": []
    },
    {
      "cell_type": "code",
      "metadata": {
        "id": "jCJzUMTzcgqh"
      },
      "source": [
        "master_input = []\n",
        "master_output = []\n",
        "\n",
        "for word in Y_true:\n",
        "  master_input += list(word)\n",
        "\n",
        "for word in Y_pred:\n",
        "  master_output += list(word)"
      ],
      "execution_count": 181,
      "outputs": []
    },
    {
      "cell_type": "code",
      "metadata": {
        "id": "MJVCfSovbEPl"
      },
      "source": [
        "plus_counter = Counter(plus_list)\n",
        "minus_counter = Counter(minus_list)\n",
        "net_counter = Counter(net_list)\n",
        "\n",
        "master_input_counter = Counter(master_input)\n",
        "master_output_counter = Counter(master_output)"
      ],
      "execution_count": 182,
      "outputs": []
    },
    {
      "cell_type": "code",
      "metadata": {
        "id": "gTz5AglnbXtq"
      },
      "source": [
        "for key in minus_counter.keys():\n",
        "  # print(key, minus_counter[key], master_counter[key])\n",
        "  minus_counter[key] = minus_counter[key] / master_input_counter[key]\n",
        "\n",
        "for key in plus_counter.keys():\n",
        "  # print(key, plus_counter[key], master_counter[key])\n",
        "  plus_counter[key] = plus_counter[key] / master_output_counter[key]"
      ],
      "execution_count": 183,
      "outputs": []
    },
    {
      "cell_type": "code",
      "metadata": {
        "colab": {
          "base_uri": "https://localhost:8080/"
        },
        "id": "-vcc7Mqhe6NM",
        "outputId": "3e5662c9-5fc1-4ef2-b60a-5305cb869365"
      },
      "source": [
        "# top 10 - fraction of letters omitted that are mistakes\n",
        "minus_counter.most_common(10)"
      ],
      "execution_count": 184,
      "outputs": [
        {
          "output_type": "execute_result",
          "data": {
            "text/plain": [
              "[('ஷ', 0.9285714285714286),\n",
              " ('ஈ', 0.8333333333333334),\n",
              " ('ஐ', 0.625),\n",
              " ('ஓ', 0.4375),\n",
              " ('ே', 0.3358070500927644),\n",
              " ('ூ', 0.3289902280130293),\n",
              " ('ண', 0.3242630385487528),\n",
              " ('ஸ', 0.2948717948717949),\n",
              " ('ெ', 0.26371308016877637),\n",
              " ('எ', 0.2558139534883721)]"
            ]
          },
          "metadata": {
            "tags": []
          },
          "execution_count": 184
        }
      ]
    },
    {
      "cell_type": "code",
      "metadata": {
        "colab": {
          "base_uri": "https://localhost:8080/"
        },
        "id": "GeLMu_m8hYAt",
        "outputId": "1fabb52f-3cd2-4e23-ebbc-d4829ebc970e"
      },
      "source": [
        "# top 10 - fraction of letters outputted that are mistakes\n",
        "plus_counter.most_common(10)"
      ],
      "execution_count": 185,
      "outputs": [
        {
          "output_type": "execute_result",
          "data": {
            "text/plain": [
              "[('ௌ', 1.0),\n",
              " ('ஃ', 1.0),\n",
              " ('ஷ', 0.9821428571428571),\n",
              " ('ஓ', 0.7857142857142857),\n",
              " ('ஈ', 0.6666666666666666),\n",
              " ('ஐ', 0.625),\n",
              " ('ஏ', 0.5),\n",
              " ('ஞ', 0.4864864864864865),\n",
              " ('ூ', 0.4197183098591549),\n",
              " ('ீ', 0.41638225255972694)]"
            ]
          },
          "metadata": {
            "tags": []
          },
          "execution_count": 185
        }
      ]
    },
    {
      "cell_type": "markdown",
      "metadata": {
        "id": "UjIc3LOjifEe"
      },
      "source": [
        "# \"Confusion Matrix\""
      ]
    },
    {
      "cell_type": "code",
      "metadata": {
        "id": "KzrZ3Xa9iLS4"
      },
      "source": [
        "df_2 = df.copy()\n",
        "df_2['edit'] = df_2.apply(lambda x: edit_distance(x['true'], x['pred']), axis=1)\n",
        "df_2['mod_dif'] = df_2.apply(lambda z: abs(len(z['true']) - len(z['pred'])), axis=1)\n",
        "\n",
        "df_3 = df_2[df_2['edit']==1]\n",
        "df_3 = df_3[df_3['mod_dif']==0]\n",
        "df_3.drop(columns=['match', 'edit', 'mod_dif'], inplace=True)\n",
        "\n",
        "Y1_true = df_3.true.to_list()\n",
        "Y1_pred = df_3.pred.to_list()"
      ],
      "execution_count": 186,
      "outputs": []
    },
    {
      "cell_type": "code",
      "metadata": {
        "id": "BjI-kjqcnSMQ"
      },
      "source": [
        "diff_list = []\n",
        "\n",
        "for y_true, y_pred in zip(Y1_true, Y1_pred):\n",
        "  output_list = tuple([li for li in difflib.ndiff(y_true, y_pred) if li[0] != ' '])\n",
        "  diff_list.append(output_list)"
      ],
      "execution_count": 187,
      "outputs": []
    },
    {
      "cell_type": "code",
      "metadata": {
        "id": "DffEsMa6nSoc"
      },
      "source": [
        "hm = np.zeros((len(tk.output_corpus), len(tk.output_corpus)))\n",
        "\n",
        "for true, pred in diff_list:\n",
        "  hm[tk.encode_dict_output[true[-1]]][tk.encode_dict_output[pred[-1]]] += 1"
      ],
      "execution_count": 188,
      "outputs": []
    },
    {
      "cell_type": "code",
      "metadata": {
        "id": "aCxqr8EmoBg7"
      },
      "source": [
        "df_hm = pd.DataFrame(hm)\n",
        "df_hm.columns = list(range(1, len(tk.output_corpus)+1))\n",
        "df_hm.index = list(range(1, len(tk.output_corpus)+1))\n",
        "df_hm.index.name, df_hm.columns.name = 'True', 'Pred'"
      ],
      "execution_count": 189,
      "outputs": []
    },
    {
      "cell_type": "code",
      "metadata": {
        "colab": {
          "base_uri": "https://localhost:8080/",
          "height": 877
        },
        "id": "gSqznnLfrw0m",
        "outputId": "74700d73-d926-4a25-fe85-6130d10fdde4"
      },
      "source": [
        "plt.figure(figsize=(15, 15))\n",
        "fig1 = sns.heatmap(df_hm, annot=True, fmt='g')\n",
        "plt.show()"
      ],
      "execution_count": 190,
      "outputs": [
        {
          "output_type": "display_data",
          "data": {
            "image/png": "[encoded data removed]",
            "text/plain": [
              "<Figure size 1080x1080 with 2 Axes>"
            ]
          },
          "metadata": {
            "tags": [],
            "needs_background": "light"
          }
        }
      ]
    },
    {
      "cell_type": "code",
      "metadata": {
        "colab": {
          "base_uri": "https://localhost:8080/"
        },
        "id": "tS1JSYAJtHxC",
        "outputId": "8e81a30e-0c35-472c-f5d8-28912172fa68"
      },
      "source": [
        "one_diff_counter = Counter(diff_list)\n",
        "one_diff_counter.most_common(20)"
      ],
      "execution_count": 191,
      "outputs": [
        {
          "output_type": "execute_result",
          "data": {
            "text/plain": [
              "[(('- ர', '+ ற'), 87),\n",
              " (('- ண', '+ ன'), 72),\n",
              " (('- ற', '+ ர'), 37),\n",
              " (('- ோ', '+ ூ'), 37),\n",
              " (('- ள', '+ ல'), 37),\n",
              " (('- ி', '+ ீ'), 35),\n",
              " (('- ூ', '+ ோ'), 35),\n",
              " (('- ல', '+ ழ'), 35),\n",
              " (('- ல', '+ ள'), 34),\n",
              " (('- ா', '+ ோ'), 31),\n",
              " (('- ன', '+ ண'), 29),\n",
              " (('- ு', '+ ூ'), 28),\n",
              " (('- ட', '+ த'), 27),\n",
              " (('- ெ', '+ ே'), 25),\n",
              " (('- ே', '+ ெ'), 24),\n",
              " (('- ே', '+ ீ'), 20),\n",
              " (('- த', '+ ட'), 19),\n",
              " (('- க', '+ ச'), 18),\n",
              " (('- ா', '+ ே'), 17),\n",
              " (('- ி', '+ ே'), 16)]"
            ]
          },
          "metadata": {
            "tags": []
          },
          "execution_count": 191
        }
      ]
    },
    {
      "cell_type": "markdown",
      "metadata": {
        "id": "36R7vT9jyJt3"
      },
      "source": [
        "## Random Samples"
      ]
    },
    {
      "cell_type": "code",
      "metadata": {
        "id": "MtSVO3HbultN"
      },
      "source": [
        "df_2 = df.copy()\n",
        "df_2['edit'] = df_2.apply(lambda x: edit_distance(x['true'], x['pred']), axis=1)\n",
        "\n",
        "df_2_wrong = df_2[df_2['match']==0]\n",
        "df_2_wrong = df_2_wrong.groupby('edit').nth(0)"
      ],
      "execution_count": 192,
      "outputs": []
    },
    {
      "cell_type": "code",
      "metadata": {
        "colab": {
          "base_uri": "https://localhost:8080/",
          "height": 428
        },
        "id": "xou4n4x-yOAV",
        "outputId": "36458189-dfc1-457c-f27b-6e389c4a8eb5"
      },
      "source": [
        "df_2_wrong"
      ],
      "execution_count": 193,
      "outputs": [
        {
          "output_type": "execute_result",
          "data": {
            "text/html": [
              "<div>\n",
              "<style scoped>\n",
              "    .dataframe tbody tr th:only-of-type {\n",
              "        vertical-align: middle;\n",
              "    }\n",
              "\n",
              "    .dataframe tbody tr th {\n",
              "        vertical-align: top;\n",
              "    }\n",
              "\n",
              "    .dataframe thead th {\n",
              "        text-align: right;\n",
              "    }\n",
              "</style>\n",
              "<table border=\"1\" class=\"dataframe\">\n",
              "  <thead>\n",
              "    <tr style=\"text-align: right;\">\n",
              "      <th></th>\n",
              "      <th>X</th>\n",
              "      <th>true</th>\n",
              "      <th>pred</th>\n",
              "      <th>match</th>\n",
              "    </tr>\n",
              "    <tr>\n",
              "      <th>edit</th>\n",
              "      <th></th>\n",
              "      <th></th>\n",
              "      <th></th>\n",
              "      <th></th>\n",
              "    </tr>\n",
              "  </thead>\n",
              "  <tbody>\n",
              "    <tr>\n",
              "      <th>1</th>\n",
              "      <td>guraikkum</td>\n",
              "      <td>குறைக்கும்</td>\n",
              "      <td>குரைக்கும்</td>\n",
              "      <td>0</td>\n",
              "    </tr>\n",
              "    <tr>\n",
              "      <th>2</th>\n",
              "      <td>kargu</td>\n",
              "      <td>கர்கு</td>\n",
              "      <td>சரக்கு</td>\n",
              "      <td>0</td>\n",
              "    </tr>\n",
              "    <tr>\n",
              "      <th>3</th>\n",
              "      <td>committii</td>\n",
              "      <td>காமித்தி</td>\n",
              "      <td>கமிட்டி</td>\n",
              "      <td>0</td>\n",
              "    </tr>\n",
              "    <tr>\n",
              "      <th>4</th>\n",
              "      <td>jesus</td>\n",
              "      <td>ஜெஸ்க்</td>\n",
              "      <td>ஜீசஸ்</td>\n",
              "      <td>0</td>\n",
              "    </tr>\n",
              "    <tr>\n",
              "      <th>5</th>\n",
              "      <td>nilainiluvaiyil</td>\n",
              "      <td>நிலைநுலையிலில்</td>\n",
              "      <td>நிலுவையில்</td>\n",
              "      <td>0</td>\n",
              "    </tr>\n",
              "    <tr>\n",
              "      <th>6</th>\n",
              "      <td>vingngnaanikal</td>\n",
              "      <td>விங்குனாக்கள்</td>\n",
              "      <td>விஞ்ஞானிகள்</td>\n",
              "      <td>0</td>\n",
              "    </tr>\n",
              "    <tr>\n",
              "      <th>7</th>\n",
              "      <td>kallurikazhukkana</td>\n",
              "      <td>கல்லுரிக்குகளுக</td>\n",
              "      <td>கல்லூரிகளுக்கான</td>\n",
              "      <td>0</td>\n",
              "    </tr>\n",
              "    <tr>\n",
              "      <th>8</th>\n",
              "      <td>padugira</td>\n",
              "      <td>படுகிற</td>\n",
              "      <td>கற்பிக்கப்</td>\n",
              "      <td>0</td>\n",
              "    </tr>\n",
              "    <tr>\n",
              "      <th>9</th>\n",
              "      <td>boadhu</td>\n",
              "      <td>போது</td>\n",
              "      <td>முடிக்கும்</td>\n",
              "      <td>0</td>\n",
              "    </tr>\n",
              "    <tr>\n",
              "      <th>10</th>\n",
              "      <td>petrullathu</td>\n",
              "      <td>பெற்றுள்ளது</td>\n",
              "      <td>அமையப்</td>\n",
              "      <td>0</td>\n",
              "    </tr>\n",
              "    <tr>\n",
              "      <th>11</th>\n",
              "      <td>perrullatu</td>\n",
              "      <td>பெருக்குள்டு</td>\n",
              "      <td>அமையப்</td>\n",
              "      <td>0</td>\n",
              "    </tr>\n",
              "    <tr>\n",
              "      <th>13</th>\n",
              "      <td>thittangalukku</td>\n",
              "      <td>திட்டங்களுக்கு</td>\n",
              "      <td>வேலைத்</td>\n",
              "      <td>0</td>\n",
              "    </tr>\n",
              "  </tbody>\n",
              "</table>\n",
              "</div>"
            ],
            "text/plain": [
              "                      X             true             pred  match\n",
              "edit                                                            \n",
              "1             guraikkum       குறைக்கும்       குரைக்கும்      0\n",
              "2                 kargu            கர்கு           சரக்கு      0\n",
              "3             committii         காமித்தி          கமிட்டி      0\n",
              "4                 jesus           ஜெஸ்க்            ஜீசஸ்      0\n",
              "5       nilainiluvaiyil   நிலைநுலையிலில்       நிலுவையில்      0\n",
              "6        vingngnaanikal    விங்குனாக்கள்      விஞ்ஞானிகள்      0\n",
              "7     kallurikazhukkana  கல்லுரிக்குகளுக  கல்லூரிகளுக்கான      0\n",
              "8              padugira           படுகிற       கற்பிக்கப்      0\n",
              "9                boadhu             போது       முடிக்கும்      0\n",
              "10          petrullathu      பெற்றுள்ளது           அமையப்      0\n",
              "11           perrullatu     பெருக்குள்டு           அமையப்      0\n",
              "13       thittangalukku   திட்டங்களுக்கு           வேலைத்      0"
            ]
          },
          "metadata": {
            "tags": []
          },
          "execution_count": 193
        }
      ]
    },
    {
      "cell_type": "markdown",
      "metadata": {
        "id": "VKWEuznn2gZz"
      },
      "source": [
        "# Attention Dataset Loading"
      ]
    },
    {
      "cell_type": "code",
      "metadata": {
        "id": "cY67WpDK2sxy"
      },
      "source": [
        ""
      ],
      "execution_count": null,
      "outputs": []
    }
  ]
}