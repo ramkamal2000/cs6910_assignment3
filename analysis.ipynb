{
  "nbformat": 4,
  "nbformat_minor": 0,
  "metadata": {
    "colab": {
      "name": "Pickle Analysis.ipynb",
      "provenance": [],
      "include_colab_link": true
    },
    "kernelspec": {
      "name": "python3",
      "display_name": "Python 3"
    },
    "language_info": {
      "name": "python"
    },
    "widgets": {
      "application/vnd.jupyter.widget-state+json": {
        "aa5a5007db34487dbe49c6e64b8d73ce": {
          "model_module": "@jupyter-widgets/controls",
          "model_name": "VBoxModel",
          "state": {
            "_view_name": "VBoxView",
            "_dom_classes": [],
            "_model_name": "VBoxModel",
            "_view_module": "@jupyter-widgets/controls",
            "_model_module_version": "1.5.0",
            "_view_count": null,
            "_view_module_version": "1.5.0",
            "box_style": "",
            "layout": "IPY_MODEL_de87409aff9c451482e96168451f355c",
            "_model_module": "@jupyter-widgets/controls",
            "children": [
              "IPY_MODEL_65f146ffde8645e2a45852e69461432c",
              "IPY_MODEL_3786ab929033401098f19c1ad09eed20"
            ]
          }
        },
        "de87409aff9c451482e96168451f355c": {
          "model_module": "@jupyter-widgets/base",
          "model_name": "LayoutModel",
          "state": {
            "_view_name": "LayoutView",
            "grid_template_rows": null,
            "right": null,
            "justify_content": null,
            "_view_module": "@jupyter-widgets/base",
            "overflow": null,
            "_model_module_version": "1.2.0",
            "_view_count": null,
            "flex_flow": null,
            "width": null,
            "min_width": null,
            "border": null,
            "align_items": null,
            "bottom": null,
            "_model_module": "@jupyter-widgets/base",
            "top": null,
            "grid_column": null,
            "overflow_y": null,
            "overflow_x": null,
            "grid_auto_flow": null,
            "grid_area": null,
            "grid_template_columns": null,
            "flex": null,
            "_model_name": "LayoutModel",
            "justify_items": null,
            "grid_row": null,
            "max_height": null,
            "align_content": null,
            "visibility": null,
            "align_self": null,
            "height": null,
            "min_height": null,
            "padding": null,
            "grid_auto_rows": null,
            "grid_gap": null,
            "max_width": null,
            "order": null,
            "_view_module_version": "1.2.0",
            "grid_template_areas": null,
            "object_position": null,
            "object_fit": null,
            "grid_auto_columns": null,
            "margin": null,
            "display": null,
            "left": null
          }
        },
        "65f146ffde8645e2a45852e69461432c": {
          "model_module": "@jupyter-widgets/controls",
          "model_name": "LabelModel",
          "state": {
            "_view_name": "LabelView",
            "style": "IPY_MODEL_123111c6f7c44f919f813e51145f214a",
            "_dom_classes": [],
            "description": "",
            "_model_name": "LabelModel",
            "placeholder": "​",
            "_view_module": "@jupyter-widgets/controls",
            "_model_module_version": "1.5.0",
            "value": " 0.13MB of 0.13MB uploaded (0.00MB deduped)\r",
            "_view_count": null,
            "_view_module_version": "1.5.0",
            "description_tooltip": null,
            "_model_module": "@jupyter-widgets/controls",
            "layout": "IPY_MODEL_7bbbcb87bb9445f48ee72a98c61691c4"
          }
        },
        "3786ab929033401098f19c1ad09eed20": {
          "model_module": "@jupyter-widgets/controls",
          "model_name": "FloatProgressModel",
          "state": {
            "_view_name": "ProgressView",
            "style": "IPY_MODEL_5d934fc4be784f8a8af8e1dbcc7dfb27",
            "_dom_classes": [],
            "description": "",
            "_model_name": "FloatProgressModel",
            "bar_style": "",
            "max": 1,
            "_view_module": "@jupyter-widgets/controls",
            "_model_module_version": "1.5.0",
            "value": 1,
            "_view_count": null,
            "_view_module_version": "1.5.0",
            "orientation": "horizontal",
            "min": 0,
            "description_tooltip": null,
            "_model_module": "@jupyter-widgets/controls",
            "layout": "IPY_MODEL_75eb56a04b724f09a52589fe35328b79"
          }
        },
        "123111c6f7c44f919f813e51145f214a": {
          "model_module": "@jupyter-widgets/controls",
          "model_name": "DescriptionStyleModel",
          "state": {
            "_view_name": "StyleView",
            "_model_name": "DescriptionStyleModel",
            "description_width": "",
            "_view_module": "@jupyter-widgets/base",
            "_model_module_version": "1.5.0",
            "_view_count": null,
            "_view_module_version": "1.2.0",
            "_model_module": "@jupyter-widgets/controls"
          }
        },
        "7bbbcb87bb9445f48ee72a98c61691c4": {
          "model_module": "@jupyter-widgets/base",
          "model_name": "LayoutModel",
          "state": {
            "_view_name": "LayoutView",
            "grid_template_rows": null,
            "right": null,
            "justify_content": null,
            "_view_module": "@jupyter-widgets/base",
            "overflow": null,
            "_model_module_version": "1.2.0",
            "_view_count": null,
            "flex_flow": null,
            "width": null,
            "min_width": null,
            "border": null,
            "align_items": null,
            "bottom": null,
            "_model_module": "@jupyter-widgets/base",
            "top": null,
            "grid_column": null,
            "overflow_y": null,
            "overflow_x": null,
            "grid_auto_flow": null,
            "grid_area": null,
            "grid_template_columns": null,
            "flex": null,
            "_model_name": "LayoutModel",
            "justify_items": null,
            "grid_row": null,
            "max_height": null,
            "align_content": null,
            "visibility": null,
            "align_self": null,
            "height": null,
            "min_height": null,
            "padding": null,
            "grid_auto_rows": null,
            "grid_gap": null,
            "max_width": null,
            "order": null,
            "_view_module_version": "1.2.0",
            "grid_template_areas": null,
            "object_position": null,
            "object_fit": null,
            "grid_auto_columns": null,
            "margin": null,
            "display": null,
            "left": null
          }
        },
        "5d934fc4be784f8a8af8e1dbcc7dfb27": {
          "model_module": "@jupyter-widgets/controls",
          "model_name": "ProgressStyleModel",
          "state": {
            "_view_name": "StyleView",
            "_model_name": "ProgressStyleModel",
            "description_width": "",
            "_view_module": "@jupyter-widgets/base",
            "_model_module_version": "1.5.0",
            "_view_count": null,
            "_view_module_version": "1.2.0",
            "bar_color": null,
            "_model_module": "@jupyter-widgets/controls"
          }
        },
        "75eb56a04b724f09a52589fe35328b79": {
          "model_module": "@jupyter-widgets/base",
          "model_name": "LayoutModel",
          "state": {
            "_view_name": "LayoutView",
            "grid_template_rows": null,
            "right": null,
            "justify_content": null,
            "_view_module": "@jupyter-widgets/base",
            "overflow": null,
            "_model_module_version": "1.2.0",
            "_view_count": null,
            "flex_flow": null,
            "width": null,
            "min_width": null,
            "border": null,
            "align_items": null,
            "bottom": null,
            "_model_module": "@jupyter-widgets/base",
            "top": null,
            "grid_column": null,
            "overflow_y": null,
            "overflow_x": null,
            "grid_auto_flow": null,
            "grid_area": null,
            "grid_template_columns": null,
            "flex": null,
            "_model_name": "LayoutModel",
            "justify_items": null,
            "grid_row": null,
            "max_height": null,
            "align_content": null,
            "visibility": null,
            "align_self": null,
            "height": null,
            "min_height": null,
            "padding": null,
            "grid_auto_rows": null,
            "grid_gap": null,
            "max_width": null,
            "order": null,
            "_view_module_version": "1.2.0",
            "grid_template_areas": null,
            "object_position": null,
            "object_fit": null,
            "grid_auto_columns": null,
            "margin": null,
            "display": null,
            "left": null
          }
        },
        "2ebfb400aaa6406ca18bccbf13864d64": {
          "model_module": "@jupyter-widgets/controls",
          "model_name": "VBoxModel",
          "state": {
            "_view_name": "VBoxView",
            "_dom_classes": [],
            "_model_name": "VBoxModel",
            "_view_module": "@jupyter-widgets/controls",
            "_model_module_version": "1.5.0",
            "_view_count": null,
            "_view_module_version": "1.5.0",
            "box_style": "",
            "layout": "IPY_MODEL_76dcd2ebfc8e4fdca0c710f541947084",
            "_model_module": "@jupyter-widgets/controls",
            "children": [
              "IPY_MODEL_7aff0eb6a9a24754baf9ffc7458f5a44",
              "IPY_MODEL_b71b61a01b864d2abced9986c639b7c0"
            ]
          }
        },
        "76dcd2ebfc8e4fdca0c710f541947084": {
          "model_module": "@jupyter-widgets/base",
          "model_name": "LayoutModel",
          "state": {
            "_view_name": "LayoutView",
            "grid_template_rows": null,
            "right": null,
            "justify_content": null,
            "_view_module": "@jupyter-widgets/base",
            "overflow": null,
            "_model_module_version": "1.2.0",
            "_view_count": null,
            "flex_flow": null,
            "width": null,
            "min_width": null,
            "border": null,
            "align_items": null,
            "bottom": null,
            "_model_module": "@jupyter-widgets/base",
            "top": null,
            "grid_column": null,
            "overflow_y": null,
            "overflow_x": null,
            "grid_auto_flow": null,
            "grid_area": null,
            "grid_template_columns": null,
            "flex": null,
            "_model_name": "LayoutModel",
            "justify_items": null,
            "grid_row": null,
            "max_height": null,
            "align_content": null,
            "visibility": null,
            "align_self": null,
            "height": null,
            "min_height": null,
            "padding": null,
            "grid_auto_rows": null,
            "grid_gap": null,
            "max_width": null,
            "order": null,
            "_view_module_version": "1.2.0",
            "grid_template_areas": null,
            "object_position": null,
            "object_fit": null,
            "grid_auto_columns": null,
            "margin": null,
            "display": null,
            "left": null
          }
        },
        "7aff0eb6a9a24754baf9ffc7458f5a44": {
          "model_module": "@jupyter-widgets/controls",
          "model_name": "LabelModel",
          "state": {
            "_view_name": "LabelView",
            "style": "IPY_MODEL_05b87a58082744bb91386744a5ebc342",
            "_dom_classes": [],
            "description": "",
            "_model_name": "LabelModel",
            "placeholder": "​",
            "_view_module": "@jupyter-widgets/controls",
            "_model_module_version": "1.5.0",
            "value": " 0.01MB of 0.01MB uploaded (0.00MB deduped)\r",
            "_view_count": null,
            "_view_module_version": "1.5.0",
            "description_tooltip": null,
            "_model_module": "@jupyter-widgets/controls",
            "layout": "IPY_MODEL_761596ce7edf487e99c738637081b5be"
          }
        },
        "b71b61a01b864d2abced9986c639b7c0": {
          "model_module": "@jupyter-widgets/controls",
          "model_name": "FloatProgressModel",
          "state": {
            "_view_name": "ProgressView",
            "style": "IPY_MODEL_0750d5981e4a48b5bc05a3e8877eb684",
            "_dom_classes": [],
            "description": "",
            "_model_name": "FloatProgressModel",
            "bar_style": "",
            "max": 1,
            "_view_module": "@jupyter-widgets/controls",
            "_model_module_version": "1.5.0",
            "value": 1,
            "_view_count": null,
            "_view_module_version": "1.5.0",
            "orientation": "horizontal",
            "min": 0,
            "description_tooltip": null,
            "_model_module": "@jupyter-widgets/controls",
            "layout": "IPY_MODEL_93a8125182144842867980a7f8329ac1"
          }
        },
        "05b87a58082744bb91386744a5ebc342": {
          "model_module": "@jupyter-widgets/controls",
          "model_name": "DescriptionStyleModel",
          "state": {
            "_view_name": "StyleView",
            "_model_name": "DescriptionStyleModel",
            "description_width": "",
            "_view_module": "@jupyter-widgets/base",
            "_model_module_version": "1.5.0",
            "_view_count": null,
            "_view_module_version": "1.2.0",
            "_model_module": "@jupyter-widgets/controls"
          }
        },
        "761596ce7edf487e99c738637081b5be": {
          "model_module": "@jupyter-widgets/base",
          "model_name": "LayoutModel",
          "state": {
            "_view_name": "LayoutView",
            "grid_template_rows": null,
            "right": null,
            "justify_content": null,
            "_view_module": "@jupyter-widgets/base",
            "overflow": null,
            "_model_module_version": "1.2.0",
            "_view_count": null,
            "flex_flow": null,
            "width": null,
            "min_width": null,
            "border": null,
            "align_items": null,
            "bottom": null,
            "_model_module": "@jupyter-widgets/base",
            "top": null,
            "grid_column": null,
            "overflow_y": null,
            "overflow_x": null,
            "grid_auto_flow": null,
            "grid_area": null,
            "grid_template_columns": null,
            "flex": null,
            "_model_name": "LayoutModel",
            "justify_items": null,
            "grid_row": null,
            "max_height": null,
            "align_content": null,
            "visibility": null,
            "align_self": null,
            "height": null,
            "min_height": null,
            "padding": null,
            "grid_auto_rows": null,
            "grid_gap": null,
            "max_width": null,
            "order": null,
            "_view_module_version": "1.2.0",
            "grid_template_areas": null,
            "object_position": null,
            "object_fit": null,
            "grid_auto_columns": null,
            "margin": null,
            "display": null,
            "left": null
          }
        },
        "0750d5981e4a48b5bc05a3e8877eb684": {
          "model_module": "@jupyter-widgets/controls",
          "model_name": "ProgressStyleModel",
          "state": {
            "_view_name": "StyleView",
            "_model_name": "ProgressStyleModel",
            "description_width": "",
            "_view_module": "@jupyter-widgets/base",
            "_model_module_version": "1.5.0",
            "_view_count": null,
            "_view_module_version": "1.2.0",
            "bar_color": null,
            "_model_module": "@jupyter-widgets/controls"
          }
        },
        "93a8125182144842867980a7f8329ac1": {
          "model_module": "@jupyter-widgets/base",
          "model_name": "LayoutModel",
          "state": {
            "_view_name": "LayoutView",
            "grid_template_rows": null,
            "right": null,
            "justify_content": null,
            "_view_module": "@jupyter-widgets/base",
            "overflow": null,
            "_model_module_version": "1.2.0",
            "_view_count": null,
            "flex_flow": null,
            "width": null,
            "min_width": null,
            "border": null,
            "align_items": null,
            "bottom": null,
            "_model_module": "@jupyter-widgets/base",
            "top": null,
            "grid_column": null,
            "overflow_y": null,
            "overflow_x": null,
            "grid_auto_flow": null,
            "grid_area": null,
            "grid_template_columns": null,
            "flex": null,
            "_model_name": "LayoutModel",
            "justify_items": null,
            "grid_row": null,
            "max_height": null,
            "align_content": null,
            "visibility": null,
            "align_self": null,
            "height": null,
            "min_height": null,
            "padding": null,
            "grid_auto_rows": null,
            "grid_gap": null,
            "max_width": null,
            "order": null,
            "_view_module_version": "1.2.0",
            "grid_template_areas": null,
            "object_position": null,
            "object_fit": null,
            "grid_auto_columns": null,
            "margin": null,
            "display": null,
            "left": null
          }
        },
        "28524309e41d460787be576d0020be56": {
          "model_module": "@jupyter-widgets/controls",
          "model_name": "VBoxModel",
          "state": {
            "_view_name": "VBoxView",
            "_dom_classes": [],
            "_model_name": "VBoxModel",
            "_view_module": "@jupyter-widgets/controls",
            "_model_module_version": "1.5.0",
            "_view_count": null,
            "_view_module_version": "1.5.0",
            "box_style": "",
            "layout": "IPY_MODEL_40247a6aee6249b392f163344599b3df",
            "_model_module": "@jupyter-widgets/controls",
            "children": [
              "IPY_MODEL_7edd10d067434c10bce9c3addfddd4e4",
              "IPY_MODEL_2d5123f047e1462ba82344ad4a3c2e93"
            ]
          }
        },
        "40247a6aee6249b392f163344599b3df": {
          "model_module": "@jupyter-widgets/base",
          "model_name": "LayoutModel",
          "state": {
            "_view_name": "LayoutView",
            "grid_template_rows": null,
            "right": null,
            "justify_content": null,
            "_view_module": "@jupyter-widgets/base",
            "overflow": null,
            "_model_module_version": "1.2.0",
            "_view_count": null,
            "flex_flow": null,
            "width": null,
            "min_width": null,
            "border": null,
            "align_items": null,
            "bottom": null,
            "_model_module": "@jupyter-widgets/base",
            "top": null,
            "grid_column": null,
            "overflow_y": null,
            "overflow_x": null,
            "grid_auto_flow": null,
            "grid_area": null,
            "grid_template_columns": null,
            "flex": null,
            "_model_name": "LayoutModel",
            "justify_items": null,
            "grid_row": null,
            "max_height": null,
            "align_content": null,
            "visibility": null,
            "align_self": null,
            "height": null,
            "min_height": null,
            "padding": null,
            "grid_auto_rows": null,
            "grid_gap": null,
            "max_width": null,
            "order": null,
            "_view_module_version": "1.2.0",
            "grid_template_areas": null,
            "object_position": null,
            "object_fit": null,
            "grid_auto_columns": null,
            "margin": null,
            "display": null,
            "left": null
          }
        },
        "7edd10d067434c10bce9c3addfddd4e4": {
          "model_module": "@jupyter-widgets/controls",
          "model_name": "LabelModel",
          "state": {
            "_view_name": "LabelView",
            "style": "IPY_MODEL_0bb49e2ad87741acbe496a8dab92cea9",
            "_dom_classes": [],
            "description": "",
            "_model_name": "LabelModel",
            "placeholder": "​",
            "_view_module": "@jupyter-widgets/controls",
            "_model_module_version": "1.5.0",
            "value": " 0.43MB of 0.43MB uploaded (0.00MB deduped)\r",
            "_view_count": null,
            "_view_module_version": "1.5.0",
            "description_tooltip": null,
            "_model_module": "@jupyter-widgets/controls",
            "layout": "IPY_MODEL_2ca29ac04bc046e386ac334997059ec8"
          }
        },
        "2d5123f047e1462ba82344ad4a3c2e93": {
          "model_module": "@jupyter-widgets/controls",
          "model_name": "FloatProgressModel",
          "state": {
            "_view_name": "ProgressView",
            "style": "IPY_MODEL_2d82d772b03240b1a599e9e498cbb73d",
            "_dom_classes": [],
            "description": "",
            "_model_name": "FloatProgressModel",
            "bar_style": "",
            "max": 1,
            "_view_module": "@jupyter-widgets/controls",
            "_model_module_version": "1.5.0",
            "value": 1,
            "_view_count": null,
            "_view_module_version": "1.5.0",
            "orientation": "horizontal",
            "min": 0,
            "description_tooltip": null,
            "_model_module": "@jupyter-widgets/controls",
            "layout": "IPY_MODEL_be3c2ead7b7948d9b5235bd2a544a3c2"
          }
        },
        "0bb49e2ad87741acbe496a8dab92cea9": {
          "model_module": "@jupyter-widgets/controls",
          "model_name": "DescriptionStyleModel",
          "state": {
            "_view_name": "StyleView",
            "_model_name": "DescriptionStyleModel",
            "description_width": "",
            "_view_module": "@jupyter-widgets/base",
            "_model_module_version": "1.5.0",
            "_view_count": null,
            "_view_module_version": "1.2.0",
            "_model_module": "@jupyter-widgets/controls"
          }
        },
        "2ca29ac04bc046e386ac334997059ec8": {
          "model_module": "@jupyter-widgets/base",
          "model_name": "LayoutModel",
          "state": {
            "_view_name": "LayoutView",
            "grid_template_rows": null,
            "right": null,
            "justify_content": null,
            "_view_module": "@jupyter-widgets/base",
            "overflow": null,
            "_model_module_version": "1.2.0",
            "_view_count": null,
            "flex_flow": null,
            "width": null,
            "min_width": null,
            "border": null,
            "align_items": null,
            "bottom": null,
            "_model_module": "@jupyter-widgets/base",
            "top": null,
            "grid_column": null,
            "overflow_y": null,
            "overflow_x": null,
            "grid_auto_flow": null,
            "grid_area": null,
            "grid_template_columns": null,
            "flex": null,
            "_model_name": "LayoutModel",
            "justify_items": null,
            "grid_row": null,
            "max_height": null,
            "align_content": null,
            "visibility": null,
            "align_self": null,
            "height": null,
            "min_height": null,
            "padding": null,
            "grid_auto_rows": null,
            "grid_gap": null,
            "max_width": null,
            "order": null,
            "_view_module_version": "1.2.0",
            "grid_template_areas": null,
            "object_position": null,
            "object_fit": null,
            "grid_auto_columns": null,
            "margin": null,
            "display": null,
            "left": null
          }
        },
        "2d82d772b03240b1a599e9e498cbb73d": {
          "model_module": "@jupyter-widgets/controls",
          "model_name": "ProgressStyleModel",
          "state": {
            "_view_name": "StyleView",
            "_model_name": "ProgressStyleModel",
            "description_width": "",
            "_view_module": "@jupyter-widgets/base",
            "_model_module_version": "1.5.0",
            "_view_count": null,
            "_view_module_version": "1.2.0",
            "bar_color": null,
            "_model_module": "@jupyter-widgets/controls"
          }
        },
        "be3c2ead7b7948d9b5235bd2a544a3c2": {
          "model_module": "@jupyter-widgets/base",
          "model_name": "LayoutModel",
          "state": {
            "_view_name": "LayoutView",
            "grid_template_rows": null,
            "right": null,
            "justify_content": null,
            "_view_module": "@jupyter-widgets/base",
            "overflow": null,
            "_model_module_version": "1.2.0",
            "_view_count": null,
            "flex_flow": null,
            "width": null,
            "min_width": null,
            "border": null,
            "align_items": null,
            "bottom": null,
            "_model_module": "@jupyter-widgets/base",
            "top": null,
            "grid_column": null,
            "overflow_y": null,
            "overflow_x": null,
            "grid_auto_flow": null,
            "grid_area": null,
            "grid_template_columns": null,
            "flex": null,
            "_model_name": "LayoutModel",
            "justify_items": null,
            "grid_row": null,
            "max_height": null,
            "align_content": null,
            "visibility": null,
            "align_self": null,
            "height": null,
            "min_height": null,
            "padding": null,
            "grid_auto_rows": null,
            "grid_gap": null,
            "max_width": null,
            "order": null,
            "_view_module_version": "1.2.0",
            "grid_template_areas": null,
            "object_position": null,
            "object_fit": null,
            "grid_auto_columns": null,
            "margin": null,
            "display": null,
            "left": null
          }
        }
      }
    }
  },
  "cells": [
    {
      "cell_type": "markdown",
      "metadata": {
        "id": "view-in-github",
        "colab_type": "text"
      },
      "source": [
        "<a href=\"https://colab.research.google.com/github/ramkamal2000/cs6910_assignment3/blob/main/analysis.ipynb\" target=\"_parent\"><img src=\"https://colab.research.google.com/assets/colab-badge.svg\" alt=\"Open In Colab\"/></a>"
      ]
    },
    {
      "cell_type": "markdown",
      "metadata": {
        "id": "cMEvyeCDptYe"
      },
      "source": [
        "# Mount Drive"
      ]
    },
    {
      "cell_type": "code",
      "metadata": {
        "colab": {
          "base_uri": "https://localhost:8080/"
        },
        "id": "mXry_1lB7qU-",
        "outputId": "42113ab1-faaa-4021-8d64-999534018ef4"
      },
      "source": [
        "'''\n",
        "from google.colab import drive\n",
        "drive.mount('/content/drive')\n",
        "'''"
      ],
      "execution_count": 1,
      "outputs": [
        {
          "output_type": "stream",
          "text": [
            "Drive already mounted at /content/drive; to attempt to forcibly remount, call drive.mount(\"/content/drive\", force_remount=True).\n"
          ],
          "name": "stdout"
        }
      ]
    },
    {
      "cell_type": "markdown",
      "metadata": {
        "id": "E7QPAn7HFkVb"
      },
      "source": [
        "# Installing Required Libraries"
      ]
    },
    {
      "cell_type": "code",
      "metadata": {
        "colab": {
          "base_uri": "https://localhost:8080/"
        },
        "id": "zRpE0yPNFnOF",
        "outputId": "3d9222d9-21eb-4720-b162-3a312928d50e"
      },
      "source": [
        "!pip install wandb"
      ],
      "execution_count": 2,
      "outputs": [
        {
          "output_type": "stream",
          "text": [
            "Requirement already satisfied: wandb in /usr/local/lib/python3.7/dist-packages (0.10.30)\n",
            "Requirement already satisfied: python-dateutil>=2.6.1 in /usr/local/lib/python3.7/dist-packages (from wandb) (2.8.1)\n",
            "Requirement already satisfied: sentry-sdk>=0.4.0 in /usr/local/lib/python3.7/dist-packages (from wandb) (1.1.0)\n",
            "Requirement already satisfied: six>=1.13.0 in /usr/local/lib/python3.7/dist-packages (from wandb) (1.15.0)\n",
            "Requirement already satisfied: docker-pycreds>=0.4.0 in /usr/local/lib/python3.7/dist-packages (from wandb) (0.4.0)\n",
            "Requirement already satisfied: protobuf>=3.12.0 in /usr/local/lib/python3.7/dist-packages (from wandb) (3.12.4)\n",
            "Requirement already satisfied: shortuuid>=0.5.0 in /usr/local/lib/python3.7/dist-packages (from wandb) (1.0.1)\n",
            "Requirement already satisfied: GitPython>=1.0.0 in /usr/local/lib/python3.7/dist-packages (from wandb) (3.1.17)\n",
            "Requirement already satisfied: psutil>=5.0.0 in /usr/local/lib/python3.7/dist-packages (from wandb) (5.4.8)\n",
            "Requirement already satisfied: configparser>=3.8.1 in /usr/local/lib/python3.7/dist-packages (from wandb) (5.0.2)\n",
            "Requirement already satisfied: subprocess32>=3.5.3 in /usr/local/lib/python3.7/dist-packages (from wandb) (3.5.4)\n",
            "Requirement already satisfied: pathtools in /usr/local/lib/python3.7/dist-packages (from wandb) (0.1.2)\n",
            "Requirement already satisfied: Click>=7.0 in /usr/local/lib/python3.7/dist-packages (from wandb) (8.0.0)\n",
            "Requirement already satisfied: promise<3,>=2.0 in /usr/local/lib/python3.7/dist-packages (from wandb) (2.3)\n",
            "Requirement already satisfied: PyYAML in /usr/local/lib/python3.7/dist-packages (from wandb) (3.13)\n",
            "Requirement already satisfied: requests<3,>=2.0.0 in /usr/local/lib/python3.7/dist-packages (from wandb) (2.23.0)\n",
            "Requirement already satisfied: certifi in /usr/local/lib/python3.7/dist-packages (from sentry-sdk>=0.4.0->wandb) (2020.12.5)\n",
            "Requirement already satisfied: urllib3>=1.10.0 in /usr/local/lib/python3.7/dist-packages (from sentry-sdk>=0.4.0->wandb) (1.24.3)\n",
            "Requirement already satisfied: setuptools in /usr/local/lib/python3.7/dist-packages (from protobuf>=3.12.0->wandb) (56.1.0)\n",
            "Requirement already satisfied: typing-extensions>=3.7.4.0; python_version < \"3.8\" in /usr/local/lib/python3.7/dist-packages (from GitPython>=1.0.0->wandb) (3.7.4.3)\n",
            "Requirement already satisfied: gitdb<5,>=4.0.1 in /usr/local/lib/python3.7/dist-packages (from GitPython>=1.0.0->wandb) (4.0.7)\n",
            "Requirement already satisfied: idna<3,>=2.5 in /usr/local/lib/python3.7/dist-packages (from requests<3,>=2.0.0->wandb) (2.10)\n",
            "Requirement already satisfied: chardet<4,>=3.0.2 in /usr/local/lib/python3.7/dist-packages (from requests<3,>=2.0.0->wandb) (3.0.4)\n",
            "Requirement already satisfied: smmap<5,>=3.0.1 in /usr/local/lib/python3.7/dist-packages (from gitdb<5,>=4.0.1->GitPython>=1.0.0->wandb) (4.0.0)\n"
          ],
          "name": "stdout"
        }
      ]
    },
    {
      "cell_type": "markdown",
      "metadata": {
        "id": "cyK8fEgep-wr"
      },
      "source": [
        "# Import Libraries"
      ]
    },
    {
      "cell_type": "code",
      "metadata": {
        "id": "M_A559w-7lo_"
      },
      "source": [
        "import pickle\n",
        "import pandas as pd\n",
        "import tarfile\n",
        "import os\n",
        "import numpy as np\n",
        "import matplotlib.pyplot as plt\n",
        "import difflib\n",
        "import wandb\n",
        "import seaborn as sns\n",
        "\n",
        "from nltk import edit_distance\n",
        "from collections import Counter\n",
        "import itertools"
      ],
      "execution_count": 3,
      "outputs": []
    },
    {
      "cell_type": "code",
      "metadata": {
        "id": "LkZT-T-i3g-l"
      },
      "source": [
        "# MAKE APPROPRIATE CHANGES\n",
        "\n",
        "root_dir = '/content/drive/MyDrive/Colab Notebooks/DL3'\n",
        "# root_dir = os.getcwd()"
      ],
      "execution_count": 4,
      "outputs": []
    },
    {
      "cell_type": "markdown",
      "metadata": {
        "id": "x7sNRMvPrzKj"
      },
      "source": [
        "# Download Dataset"
      ]
    },
    {
      "cell_type": "code",
      "metadata": {
        "colab": {
          "base_uri": "https://localhost:8080/"
        },
        "id": "AUCO7R58r2Iu",
        "outputId": "c4097987-1adb-4c9d-9a25-12bb105cdfd7"
      },
      "source": [
        "!wget -nc https://storage.googleapis.com/gresearch/dakshina/dakshina_dataset_v1.0.tar\n",
        "\n",
        "if not os.path.isdir(root_dir+'/dakshina_dataset_v1.0'):\n",
        "  tarfile.open(root_dir+\"/dakshina_dataset_v1.0.tar\").extractall()"
      ],
      "execution_count": 5,
      "outputs": [
        {
          "output_type": "stream",
          "text": [
            "File ‘dakshina_dataset_v1.0.tar’ already there; not retrieving.\n",
            "\n"
          ],
          "name": "stdout"
        }
      ]
    },
    {
      "cell_type": "code",
      "metadata": {
        "colab": {
          "base_uri": "https://localhost:8080/",
          "height": 1000,
          "referenced_widgets": [
            "aa5a5007db34487dbe49c6e64b8d73ce",
            "de87409aff9c451482e96168451f355c",
            "65f146ffde8645e2a45852e69461432c",
            "3786ab929033401098f19c1ad09eed20",
            "123111c6f7c44f919f813e51145f214a",
            "7bbbcb87bb9445f48ee72a98c61691c4",
            "5d934fc4be784f8a8af8e1dbcc7dfb27",
            "75eb56a04b724f09a52589fe35328b79"
          ]
        },
        "id": "p-_uW1hRFqgk",
        "outputId": "9dd7bfae-d2ce-471f-97f5-0f3d733be057"
      },
      "source": [
        "# logging into wandb\n",
        "wandb.login(key='14394907543f59ea21931529e34b4d80d2ca8c9c')\n",
        "wandb.init(project='rnn_analysis')"
      ],
      "execution_count": 60,
      "outputs": [
        {
          "output_type": "stream",
          "text": [
            "\u001b[34m\u001b[1mwandb\u001b[0m: \u001b[33mWARNING\u001b[0m Calling wandb.login() after wandb.init() has no effect.\n"
          ],
          "name": "stderr"
        },
        {
          "output_type": "display_data",
          "data": {
            "text/html": [
              "Finishing last run (ID:3r9rwuq9) before initializing another..."
            ],
            "text/plain": [
              "<IPython.core.display.HTML object>"
            ]
          },
          "metadata": {
            "tags": []
          }
        },
        {
          "output_type": "display_data",
          "data": {
            "text/html": [
              "<br/>Waiting for W&B process to finish, PID 1135<br/>Program ended successfully."
            ],
            "text/plain": [
              "<IPython.core.display.HTML object>"
            ]
          },
          "metadata": {
            "tags": []
          }
        },
        {
          "output_type": "display_data",
          "data": {
            "application/vnd.jupyter.widget-view+json": {
              "model_id": "aa5a5007db34487dbe49c6e64b8d73ce",
              "version_minor": 0,
              "version_major": 2
            },
            "text/plain": [
              "VBox(children=(Label(value=' 0.13MB of 0.13MB uploaded (0.00MB deduped)\\r'), FloatProgress(value=1.0, max=1.0)…"
            ]
          },
          "metadata": {
            "tags": []
          }
        },
        {
          "output_type": "display_data",
          "data": {
            "text/html": [
              "Find user logs for this run at: <code>/content/wandb/run-20210518_143537-3r9rwuq9/logs/debug.log</code>"
            ],
            "text/plain": [
              "<IPython.core.display.HTML object>"
            ]
          },
          "metadata": {
            "tags": []
          }
        },
        {
          "output_type": "display_data",
          "data": {
            "text/html": [
              "Find internal logs for this run at: <code>/content/wandb/run-20210518_143537-3r9rwuq9/logs/debug-internal.log</code>"
            ],
            "text/plain": [
              "<IPython.core.display.HTML object>"
            ]
          },
          "metadata": {
            "tags": []
          }
        },
        {
          "output_type": "display_data",
          "data": {
            "text/html": [
              "<h3>Run summary:</h3><br/><style>\n",
              "    table.wandb td:nth-child(1) { padding: 0 10px; text-align: right }\n",
              "    </style><table class=\"wandb\">\n",
              "<tr><td>_runtime</td><td>6</td></tr><tr><td>_timestamp</td><td>1621348546</td></tr><tr><td>_step</td><td>1</td></tr></table>"
            ],
            "text/plain": [
              "<IPython.core.display.HTML object>"
            ]
          },
          "metadata": {
            "tags": []
          }
        },
        {
          "output_type": "display_data",
          "data": {
            "text/html": [
              "<h3>Run history:</h3><br/><style>\n",
              "    table.wandb td:nth-child(1) { padding: 0 10px; text-align: right }\n",
              "    </style><table class=\"wandb\">\n",
              "<tr><td>_runtime</td><td>▁█</td></tr><tr><td>_timestamp</td><td>▁█</td></tr><tr><td>_step</td><td>▁█</td></tr></table><br/>"
            ],
            "text/plain": [
              "<IPython.core.display.HTML object>"
            ]
          },
          "metadata": {
            "tags": []
          }
        },
        {
          "output_type": "display_data",
          "data": {
            "text/html": [
              "Synced 5 W&B file(s), 2 media file(s), 1 artifact file(s) and 0 other file(s)"
            ],
            "text/plain": [
              "<IPython.core.display.HTML object>"
            ]
          },
          "metadata": {
            "tags": []
          }
        },
        {
          "output_type": "display_data",
          "data": {
            "text/html": [
              "\n",
              "                    <br/>Synced <strong style=\"color:#cdcd00\">dutiful-dawn-4</strong>: <a href=\"https://wandb.ai/ramkamal/heatmap_test/runs/3r9rwuq9\" target=\"_blank\">https://wandb.ai/ramkamal/heatmap_test/runs/3r9rwuq9</a><br/>\n",
              "                "
            ],
            "text/plain": [
              "<IPython.core.display.HTML object>"
            ]
          },
          "metadata": {
            "tags": []
          }
        },
        {
          "output_type": "display_data",
          "data": {
            "text/html": [
              "...Successfully finished last run (ID:3r9rwuq9). Initializing new run:<br/><br/>"
            ],
            "text/plain": [
              "<IPython.core.display.HTML object>"
            ]
          },
          "metadata": {
            "tags": []
          }
        },
        {
          "output_type": "display_data",
          "data": {
            "text/html": [
              "\n",
              "                Tracking run with wandb version 0.10.30<br/>\n",
              "                Syncing run <strong style=\"color:#cdcd00\">prime-cosmos-1</strong> to <a href=\"https://wandb.ai\" target=\"_blank\">Weights & Biases</a> <a href=\"https://docs.wandb.com/integrations/jupyter.html\" target=\"_blank\">(Documentation)</a>.<br/>\n",
              "                Project page: <a href=\"https://wandb.ai/ramkamal/rnn_analysis\" target=\"_blank\">https://wandb.ai/ramkamal/rnn_analysis</a><br/>\n",
              "                Run page: <a href=\"https://wandb.ai/ramkamal/rnn_analysis/runs/39thnwyk\" target=\"_blank\">https://wandb.ai/ramkamal/rnn_analysis/runs/39thnwyk</a><br/>\n",
              "                Run data is saved locally in <code>/content/wandb/run-20210518_143645-39thnwyk</code><br/><br/>\n",
              "            "
            ],
            "text/plain": [
              "<IPython.core.display.HTML object>"
            ]
          },
          "metadata": {
            "tags": []
          }
        },
        {
          "output_type": "execute_result",
          "data": {
            "text/plain": [
              "<wandb.sdk.wandb_run.Run at 0x7f7ffe484590>"
            ],
            "text/html": [
              "<h1>Run(39thnwyk)</h1><iframe src=\"https://wandb.ai/ramkamal/rnn_analysis/runs/39thnwyk\" style=\"border:none;width:100%;height:400px\"></iframe>"
            ]
          },
          "metadata": {
            "tags": []
          },
          "execution_count": 60
        }
      ]
    },
    {
      "cell_type": "markdown",
      "metadata": {
        "id": "3NTGM7B0uhhv"
      },
      "source": [
        "# Load Dataset"
      ]
    },
    {
      "cell_type": "code",
      "metadata": {
        "id": "eXcLngLfuuQt"
      },
      "source": [
        "# class to help load data\n",
        "class data_loader():\n",
        "\n",
        "  @staticmethod\n",
        "  def _load_raw_df(languages = [\"ta\"]):\n",
        "    lex = dict()\n",
        "    lex['train'], lex['val'], lex['test'] = [], [], [] \n",
        "    column_names = ['output', 'input', 'count']\n",
        "    \n",
        "    for la in languages:\n",
        "      lex['train'].append(pd.read_csv(root_dir + '/dakshina_dataset_v1.0/'+la+'/lexicons/'+la+'.translit.sampled.train.tsv', sep='\\t', header=None, names=column_names))\n",
        "      lex['val'].append(pd.read_csv(root_dir + '/dakshina_dataset_v1.0/'+la+'/lexicons/'+la+'.translit.sampled.dev.tsv', sep='\\t', header=None, names=column_names))\n",
        "      lex['test'].append(pd.read_csv(root_dir + '/dakshina_dataset_v1.0/'+la+'/lexicons/'+la+'.translit.sampled.test.tsv', sep='\\t', header=None, names=column_names))\n",
        "\n",
        "    lex['train'] = pd.concat(lex['train'])\n",
        "    lex['val'] = pd.concat(lex['val'])\n",
        "    lex['test'] = pd.concat(lex['test'])\n",
        "\n",
        "    return lex    \n",
        "\n",
        "  @staticmethod\n",
        "  def _make_final_df(lex):\n",
        "    \n",
        "    for div in ['train', 'val']:\n",
        "    \n",
        "      # removing non max transliterations\n",
        "      idx = lex[div].groupby(['input'])['count'].transform(max) == lex[div]['count']\n",
        "      lex[div] = lex[div][idx].reset_index(drop=True)\n",
        "\n",
        "      # calclulating difference in lengths of various transliterations\n",
        "      lex[div]['input_len'] = lex[div].apply(lambda x: len(str(x['input'])), axis=1)\n",
        "      lex[div]['output_len'] = lex[div].apply(lambda y: len(str(y['output'])), axis=1)\n",
        "      lex[div]['mod_dif'] = lex[div].apply(lambda z: abs(z['input_len'] - z['output_len']), axis=1) \n",
        "\n",
        "      # removing transliterations that vary by a lot in length\n",
        "      idx = lex[div].groupby(['input'])['mod_dif'].transform(min) == lex[div]['mod_dif']\n",
        "      lex[div] = lex[div][idx].reset_index(drop=True)\n",
        "\n",
        "      # removing duplicates if any remain\n",
        "      lex[div].drop_duplicates(subset='input', keep='first', inplace=True)\n",
        "\n",
        "      # removing redundant columns\n",
        "      lex[div].drop(labels=['count', 'input_len', 'output_len', 'mod_dif'], inplace=True, axis=1)\n",
        "\n",
        "      # shuffling the dataset i.e. rows of the dataset\n",
        "      lex[div] = lex[div].sample(frac=1, random_state=6910)\n",
        "      lex[div] = lex[div].reset_index(drop=True)\n",
        "\n",
        "    lex['test'] = lex['test'].sample(frac=1, random_state=6910)\n",
        "    lex['test'].drop(labels=['count'], axis=1, inplace=True)\n",
        "    lex['test'] = lex['test'].reset_index(drop=True)\n",
        "    return lex\n",
        "\n",
        "  @staticmethod\n",
        "  def _generate_batch(X, y, data_dict, num_decoder_tokens, batch_size = 1):\n",
        "\n",
        "    while True:\n",
        "        for j in range(0, len(X), batch_size):\n",
        "            \n",
        "            # placeholder data structures\n",
        "            encoder_input_data = np.zeros((batch_size, data_dict['max_source_length']),dtype='float32')\n",
        "            decoder_input_data = np.zeros((batch_size, data_dict['max_target_length']),dtype='float32')\n",
        "            decoder_target_data = np.zeros((batch_size, data_dict['max_target_length'], num_decoder_tokens),dtype='float32')\n",
        "\n",
        "            # assessing one batch at a time\n",
        "            for i, (input_text, target_text) in enumerate(zip(X[j:j+batch_size], y[j:j+batch_size])):\n",
        "\n",
        "                for t, word in enumerate(input_text):\n",
        "                  encoder_input_data[i, t] = word\n",
        "                for t, word in enumerate(target_text):\n",
        "                    if t<len(target_text)-1:\n",
        "                        # decoder input sequence\n",
        "                        # does not include the <EOW> token\n",
        "                        decoder_input_data[i, t] = word \n",
        "                    if t>0:\n",
        "                        # decoder target sequence (one hot encoded)\n",
        "                        # does not include the <SOW> token\n",
        "                        decoder_target_data[i, t - 1, word] = 1.\n",
        "                    \n",
        "            yield([encoder_input_data, decoder_input_data], decoder_target_data)\n",
        "\n",
        "  @staticmethod\n",
        "  def _generate_batch_greedy(X, y, data_dict, num_decoder_tokens, batch_size = 1):\n",
        "\n",
        "    while True:\n",
        "        for j in range(0, len(X), batch_size):\n",
        "\n",
        "            # placeholder data structures\n",
        "            encoder_input_data = np.zeros((batch_size, data_dict['max_source_length']),dtype='float32')\n",
        "            decoder_input_data = np.zeros((batch_size, 1),dtype='float32')\n",
        "            decoder_target_data = np.zeros((batch_size, data_dict['max_target_length'], num_decoder_tokens),dtype='float32')\n",
        "            \n",
        "            # assessing one batch at a time\n",
        "            for i, (input_text, target_text) in enumerate(zip(X[j:j+batch_size], y[j:j+batch_size])):\n",
        "                for t, word in enumerate(input_text):\n",
        "                  encoder_input_data[i, t] = word\n",
        "                for t, word in enumerate(target_text):\n",
        "                    if t==0 :\n",
        "                        decoder_input_data[i, t] = 1 # decoder input seq\n",
        "                    if t>0:\n",
        "                        # decoder target sequence (one hot encoded)\n",
        "                        # does not include the START_ token\n",
        "                        decoder_target_data[i, t - 1, word] = 1.\n",
        "                    \n",
        "            yield([encoder_input_data, decoder_input_data], decoder_target_data)"
      ],
      "execution_count": 61,
      "outputs": []
    },
    {
      "cell_type": "code",
      "metadata": {
        "id": "cfuaq0hEuxKR"
      },
      "source": [
        "# tokenizer class\n",
        "class Tokenizer:\n",
        "\n",
        "  def __init__(self, df):\n",
        "\n",
        "    self.start_token = '<SOW>'\n",
        "    self.stop_token = '<EOW>'\n",
        "    self.unknown_token = '<UNK>'\n",
        "\n",
        "    self.input_corpus = [self.start_token, self.stop_token, self.unknown_token]\n",
        "    self.output_corpus = [self.start_token, self.stop_token, self.unknown_token]\n",
        "\n",
        "    input_words = df.input.tolist()\n",
        "    output_words = df.output.tolist()\n",
        "\n",
        "    for word in input_words:\n",
        "      tokens = str(word)\n",
        "      for token in tokens:\n",
        "        if token not in self.input_corpus:\n",
        "          self.input_corpus.append(token)\n",
        "\n",
        "    for word in output_words:\n",
        "      tokens = str(word)\n",
        "      for token in tokens:\n",
        "        if token not in self.output_corpus:\n",
        "          self.output_corpus.append(token)\n",
        "    \n",
        "    self.encode_dict_input = {self.input_corpus[i] : i+1 for i in range(len(self.input_corpus))}\n",
        "    self.decode_dict_input = {k:v for v,k in self.encode_dict_input.items()}\n",
        "    \n",
        "    \n",
        "    self.encode_dict_output = {self.output_corpus[i] : i+1 for i in range(len(self.output_corpus))}\n",
        "    self.decode_dict_output = {k:v for v,k in self.encode_dict_output.items()}\n",
        "    self.decode_dict_output.update({2:''})\n",
        "\n",
        "  # takes in lists of words and returns lists of integers\n",
        "  def encode(self, X, mode='input'):\n",
        "\n",
        "    if (mode=='input'):\n",
        "      input_list = []\n",
        "      for word in X:\n",
        "        word = str(word)\n",
        "        integer_list =np.array([self.encode_dict_input.get(token, self.encode_dict_input[self.unknown_token]) for token in word])\n",
        "        input_list.append(integer_list)\n",
        "      \n",
        "      return input_list\n",
        "    \n",
        "    if (mode=='output'):\n",
        "      output_list = []\n",
        "      for word in X:\n",
        "        word = str(word)\n",
        "        integer_list = np.array([self.encode_dict_output[self.start_token]] + [self.encode_dict_output.get(token, self.encode_dict_output[self.unknown_token]) for token in word] + [self.encode_dict_output[self.stop_token]])\n",
        "        output_list.append(integer_list)\n",
        "      \n",
        "      return output_list\n",
        "    \n",
        "  # takes in lists of integers and returns lists of words\n",
        "  def decode(self, X, mode='input'):\n",
        "\n",
        "    if (mode=='input'):\n",
        "      input_list = []\n",
        "      for integers in X:\n",
        "        token_list = [self.decode_dict_input.get(integer, '') for integer in integers] \n",
        "        input_list.append(''.join(token_list))\n",
        "      \n",
        "      return input_list\n",
        "\n",
        "    if (mode=='output'):\n",
        "      output_list = []\n",
        "      for integers in X:\n",
        "        token_list = [self.decode_dict_output.get(integer, '') for integer in integers[:-1]] \n",
        "        output_list.append(''.join(token_list))\n",
        "      \n",
        "      return output_list"
      ],
      "execution_count": 62,
      "outputs": []
    },
    {
      "cell_type": "code",
      "metadata": {
        "id": "B0Tlnslsuzzv"
      },
      "source": [
        "# wrapper module that encapsulates all earlier classes and functions\n",
        "def return_data_dict(languages=[\"ta\"], batch_size=32):\n",
        "\n",
        "  lex = data_loader._load_raw_df(languages)\n",
        "  lex = data_loader._make_final_df(lex)\n",
        "\n",
        "  data_dict = dict()\n",
        "\n",
        "  df_train = lex['train']\n",
        "  df_val = lex['val']\n",
        "  df_test = lex['test']\n",
        "\n",
        "  tk = Tokenizer(df_train)\n",
        "\n",
        "  data_dict['in_size'] = len(tk.input_corpus) + 1\n",
        "  data_dict['out_size'] = len(tk.output_corpus) + 1\n",
        "\n",
        "  X_train = tk.encode(df_train.input.tolist(), mode='input')\n",
        "  Y_train = tk.encode(df_train.output.tolist(), mode='output')\n",
        "  \n",
        "  X_val = tk.encode(df_val.input.tolist(), mode='input')\n",
        "  Y_val = tk.encode(df_val.output.tolist(), mode='output')\n",
        "  \n",
        "  X_test = tk.encode(df_test.input.tolist(), mode='input')\n",
        "  Y_test = tk.encode(df_test.output.tolist(), mode='output')\n",
        "\n",
        "\n",
        "  data_dict['train'], data_dict['val'], data_dict['test']= dict(), dict(), dict()\n",
        "\n",
        "\n",
        "  data_dict['train']['df'] = df_train\n",
        "  data_dict['val']['df'] = df_val\n",
        "  data_dict['test']['df'] = df_test\n",
        "\n",
        "\n",
        "  data_dict['train']['max_source_length'] = np.max(np.array([len(x) for x in X_train]))\n",
        "  data_dict['train']['max_target_length'] = np.max(np.array([len(x) for x in Y_train]))\n",
        "  \n",
        "  data_dict['val']['max_source_length'] = np.max(np.array([len(x) for x in X_val]))\n",
        "  data_dict['val']['max_target_length'] = np.max(np.array([len(x) for x in Y_test]))\n",
        "  \n",
        "  data_dict['test']['max_source_length'] = np.max(np.array([len(x) for x in X_test]))\n",
        "  data_dict['test']['max_target_length'] = np.max(np.array([len(x) for x in Y_test]))\n",
        "\n",
        "\n",
        "  data_dict['max_source_length'] = max(data_dict['train']['max_source_length'], data_dict['val']['max_source_length'], data_dict['test']['max_source_length'])\n",
        "  data_dict['max_target_length'] = max(data_dict['train']['max_target_length'], data_dict['val']['max_target_length'], data_dict['test']['max_target_length'])\n",
        "\n",
        "\n",
        "  data_dict['train']['batch'] = data_loader._generate_batch(X_train, Y_train, data_dict, data_dict['out_size'], batch_size)\n",
        "  data_dict['train']['batch_greedy'] = data_loader._generate_batch_greedy(X_train, Y_train, data_dict, data_dict['out_size'], batch_size)\n",
        "  \n",
        "  data_dict['val']['batch'] = data_loader._generate_batch(X_val, Y_val, data_dict, data_dict['out_size'], batch_size)\n",
        "  data_dict['val']['batch_greedy'] = data_loader._generate_batch_greedy(X_val, Y_val, data_dict, data_dict['out_size'], batch_size)\n",
        "\n",
        "  data_dict['test']['batch'] = data_loader._generate_batch(X_test, Y_test, data_dict, data_dict['out_size'], batch_size)  \n",
        "  data_dict['test']['batch_greedy'] = data_loader._generate_batch_greedy(X_test, Y_test, data_dict, data_dict['out_size'], batch_size)    \n",
        "  data_dict['test']['batch_1'] = data_loader._generate_batch_greedy(X_test, Y_test, data_dict, data_dict['out_size'], 1)\n",
        "\n",
        "  data_dict['tokenizer'] = tk\n",
        "\n",
        "  return data_dict"
      ],
      "execution_count": 63,
      "outputs": []
    },
    {
      "cell_type": "code",
      "metadata": {
        "colab": {
          "base_uri": "https://localhost:8080/"
        },
        "id": "s9BPp2nzu0WK",
        "outputId": "c22f4ccd-5ae1-4750-e930-19dd822d00d5"
      },
      "source": [
        "# we just need the tokenizer for this notebook\n",
        "data_dict = return_data_dict()\n",
        "tk = data_dict['tokenizer']\n",
        "input_vocab = tk.input_corpus[3:]\n",
        "len(input_vocab)"
      ],
      "execution_count": 64,
      "outputs": [
        {
          "output_type": "execute_result",
          "data": {
            "text/plain": [
              "26"
            ]
          },
          "metadata": {
            "tags": []
          },
          "execution_count": 64
        }
      ]
    },
    {
      "cell_type": "markdown",
      "metadata": {
        "id": "QT4wwH_UqDZ5"
      },
      "source": [
        "# RNN w/o Attention Dataset Loading"
      ]
    },
    {
      "cell_type": "code",
      "metadata": {
        "id": "KNe6jLBfkXqp"
      },
      "source": [
        "# loading rnn+beam\n",
        "path_rnn_beam = root_dir+'/rnn/rnn_beam.csv'\n",
        "df_rnn_beam = pd.read_csv(path_rnn_beam)\n",
        "X = df_rnn_beam.X.to_list()\n",
        "Y_true = df_rnn_beam.Y_pred.to_list()\n",
        "Y_pred = df_rnn_beam.Y_true.to_list()\n",
        "match = [1*(a==b) for a,b in zip(Y_true, Y_pred)]"
      ],
      "execution_count": 65,
      "outputs": []
    },
    {
      "cell_type": "code",
      "metadata": {
        "colab": {
          "base_uri": "https://localhost:8080/"
        },
        "id": "xH7Zn0fokfMP",
        "outputId": "03578c06-63c4-450b-e3cb-941bc0d048b9"
      },
      "source": [
        "# rnn+beam accuracy\n",
        "sum(match)/len(match)"
      ],
      "execution_count": 66,
      "outputs": [
        {
          "output_type": "execute_result",
          "data": {
            "text/plain": [
              "0.32415501165501165"
            ]
          },
          "metadata": {
            "tags": []
          },
          "execution_count": 66
        }
      ]
    },
    {
      "cell_type": "code",
      "metadata": {
        "id": "ZaMRFz6_nGMi"
      },
      "source": [
        "# loading rnn+greedy\n",
        "path_rnn_greedy = root_dir+'/rnn/rnn_greedy.csv'\n",
        "df_rnn_greedy = pd.read_csv(path_rnn_greedy)\n",
        "X = df_rnn_greedy.X.to_list()\n",
        "Y_true = df_rnn_greedy.Y_true.to_list()\n",
        "Y_pred = df_rnn_greedy.Y_pred.to_list()\n",
        "match = [1*(a==b) for a,b in zip(Y_true, Y_pred)]"
      ],
      "execution_count": 67,
      "outputs": []
    },
    {
      "cell_type": "code",
      "metadata": {
        "colab": {
          "base_uri": "https://localhost:8080/"
        },
        "id": "mkO5hie7nG0E",
        "outputId": "43179639-944d-42dd-f878-2611662c5a78"
      },
      "source": [
        "# rnn+greedy accuracy\n",
        "sum(match)/len(match)"
      ],
      "execution_count": 68,
      "outputs": [
        {
          "output_type": "execute_result",
          "data": {
            "text/plain": [
              "0.4726107226107226"
            ]
          },
          "metadata": {
            "tags": []
          },
          "execution_count": 68
        }
      ]
    },
    {
      "cell_type": "code",
      "metadata": {
        "id": "jPX3KwfQIJ2W"
      },
      "source": [
        "df = pd.DataFrame({\n",
        "    'X' : X,\n",
        "    'true' : Y_true,\n",
        "    'pred' : Y_pred,\n",
        "    'match' : match\n",
        "})"
      ],
      "execution_count": 69,
      "outputs": []
    },
    {
      "cell_type": "code",
      "metadata": {
        "colab": {
          "base_uri": "https://localhost:8080/",
          "height": 194
        },
        "id": "y0stwXI_2C8m",
        "outputId": "1c63027d-09a6-41aa-9014-103c55aab680"
      },
      "source": [
        "df.head()"
      ],
      "execution_count": 70,
      "outputs": [
        {
          "output_type": "execute_result",
          "data": {
            "text/html": [
              "<div>\n",
              "<style scoped>\n",
              "    .dataframe tbody tr th:only-of-type {\n",
              "        vertical-align: middle;\n",
              "    }\n",
              "\n",
              "    .dataframe tbody tr th {\n",
              "        vertical-align: top;\n",
              "    }\n",
              "\n",
              "    .dataframe thead th {\n",
              "        text-align: right;\n",
              "    }\n",
              "</style>\n",
              "<table border=\"1\" class=\"dataframe\">\n",
              "  <thead>\n",
              "    <tr style=\"text-align: right;\">\n",
              "      <th></th>\n",
              "      <th>X</th>\n",
              "      <th>true</th>\n",
              "      <th>pred</th>\n",
              "      <th>match</th>\n",
              "    </tr>\n",
              "  </thead>\n",
              "  <tbody>\n",
              "    <tr>\n",
              "      <th>0</th>\n",
              "      <td>youri</td>\n",
              "      <td>யூரி</td>\n",
              "      <td>யூரி</td>\n",
              "      <td>1</td>\n",
              "    </tr>\n",
              "    <tr>\n",
              "      <th>1</th>\n",
              "      <td>preim</td>\n",
              "      <td>பிரேம்</td>\n",
              "      <td>பிராம்</td>\n",
              "      <td>0</td>\n",
              "    </tr>\n",
              "    <tr>\n",
              "      <th>2</th>\n",
              "      <td>elimaiyaaka</td>\n",
              "      <td>எளிமையாக</td>\n",
              "      <td>எளிமையாக</td>\n",
              "      <td>1</td>\n",
              "    </tr>\n",
              "    <tr>\n",
              "      <th>3</th>\n",
              "      <td>kwantam</td>\n",
              "      <td>குவாண்டம்</td>\n",
              "      <td>குவண்டம்</td>\n",
              "      <td>0</td>\n",
              "    </tr>\n",
              "    <tr>\n",
              "      <th>4</th>\n",
              "      <td>yavvithamaana</td>\n",
              "      <td>எவ்விதமான</td>\n",
              "      <td>எவ்விதமான</td>\n",
              "      <td>1</td>\n",
              "    </tr>\n",
              "  </tbody>\n",
              "</table>\n",
              "</div>"
            ],
            "text/plain": [
              "               X       true       pred  match\n",
              "0          youri       யூரி       யூரி      1\n",
              "1          preim     பிரேம்     பிராம்      0\n",
              "2    elimaiyaaka   எளிமையாக   எளிமையாக      1\n",
              "3        kwantam  குவாண்டம்   குவண்டம்      0\n",
              "4  yavvithamaana  எவ்விதமான  எவ்விதமான      1"
            ]
          },
          "metadata": {
            "tags": []
          },
          "execution_count": 70
        }
      ]
    },
    {
      "cell_type": "markdown",
      "metadata": {
        "id": "POGwE189PUb8"
      },
      "source": [
        "## Length Of English Input"
      ]
    },
    {
      "cell_type": "code",
      "metadata": {
        "id": "HvvEtZRJzeZ4"
      },
      "source": [
        "df_2 = df.copy()\n",
        "df_2['X_len'] = df_2.apply(lambda x: len(x['X']), axis=1)\n",
        "\n",
        "df_2 = df_2.groupby(['X_len', 'match']).count()\n",
        "df_2.reset_index(level='match', inplace=True)\n",
        "df_2.drop(columns=['true', 'pred'], inplace=True)\n",
        "\n",
        "df_3 = df_2.groupby(level='X_len').sum()\n",
        "df_3.drop(columns=['match'], inplace=True)\n",
        "df_3 = df_3.rename(columns={'X': 'total'})\n",
        "\n",
        "df_2 = df_2.rename(columns={'X': 'count'})\n",
        "\n",
        "df_4 = pd.concat([df_2, df_3], axis=1)\n",
        "df_4.reset_index(level='X_len', inplace=True)\n",
        "\n",
        "len_values = df_4.X_len.unique()\n",
        "full_dict = df_4.set_index(['X_len', 'match']).to_dict()\n",
        "count_dict, total_dict = full_dict['count'], full_dict['total']"
      ],
      "execution_count": 71,
      "outputs": []
    },
    {
      "cell_type": "code",
      "metadata": {
        "id": "MIe9gU97NlGE"
      },
      "source": [
        "acc_values = [count_dict.get((len, 1), 0)/total_dict.get((len, 1), 1) for len in len_values] "
      ],
      "execution_count": 72,
      "outputs": []
    },
    {
      "cell_type": "code",
      "metadata": {
        "id": "6IMtXrOl13nt"
      },
      "source": [
        "plt.bar(len_values, acc_values)\n",
        "plt.grid()\n",
        "plt.xlabel('Input Length')\n",
        "plt.ylabel('Accuracy')\n",
        "plt.title('Accuracy vs Input Length')\n",
        "\n",
        "wandb.log({'Accuracy vs Input Length': plt})"
      ],
      "execution_count": 73,
      "outputs": []
    },
    {
      "cell_type": "markdown",
      "metadata": {
        "id": "lzUsj912PtOl"
      },
      "source": [
        "## Edit Distance"
      ]
    },
    {
      "cell_type": "code",
      "metadata": {
        "colab": {
          "base_uri": "https://localhost:8080/"
        },
        "id": "PVHkNuQCBf91",
        "outputId": "ec727e07-b6a4-4d1f-f99e-d67cb744abdb"
      },
      "source": [
        "df_2 = df.copy()\n",
        "df_2['edit'] = df_2.apply(lambda x: edit_distance(x['true'], x['pred']), axis=1)\n",
        "\n",
        "df_3 = df_2[df_2['match']==0]\n",
        "df_3.drop(columns=['match'], inplace=True)"
      ],
      "execution_count": 74,
      "outputs": [
        {
          "output_type": "stream",
          "text": [
            "/usr/local/lib/python3.7/dist-packages/pandas/core/frame.py:4174: SettingWithCopyWarning:\n",
            "\n",
            "\n",
            "A value is trying to be set on a copy of a slice from a DataFrame\n",
            "\n",
            "See the caveats in the documentation: https://pandas.pydata.org/pandas-docs/stable/user_guide/indexing.html#returning-a-view-versus-a-copy\n",
            "\n"
          ],
          "name": "stderr"
        }
      ]
    },
    {
      "cell_type": "code",
      "metadata": {
        "id": "tSXS5FcpBzRB"
      },
      "source": [
        "df_3.edit.plot.hist()\n",
        "plt.grid()\n",
        "plt.xlabel('Edit Distance')\n",
        "plt.title('Error F vs ED')\n",
        "\n",
        "wandb.log({'Error Frequency vs Edit Distance': plt})"
      ],
      "execution_count": 75,
      "outputs": []
    },
    {
      "cell_type": "markdown",
      "metadata": {
        "id": "_iCyqfpnUm05"
      },
      "source": [
        "# Tamil Alphabet Wise Accuracy Rate"
      ]
    },
    {
      "cell_type": "code",
      "metadata": {
        "id": "weVoEZGwSyj5"
      },
      "source": [
        "diff_list = []\n",
        "\n",
        "for y_true, y_pred in zip(Y_true, Y_pred):\n",
        "  output_list = [li for li in difflib.ndiff(y_true, y_pred) if li[0] != ' ']\n",
        "  diff_list += output_list"
      ],
      "execution_count": 76,
      "outputs": []
    },
    {
      "cell_type": "code",
      "metadata": {
        "id": "BkKSKucIX7eC"
      },
      "source": [
        "plus_list, minus_list = [], []\n",
        "\n",
        "for diff in diff_list:\n",
        "  if diff[0]=='+':\n",
        "    plus_list.append(diff[2:])\n",
        "  else:\n",
        "    minus_list.append(diff[2:])\n",
        "\n",
        "net_list = plus_list + minus_list"
      ],
      "execution_count": 77,
      "outputs": []
    },
    {
      "cell_type": "code",
      "metadata": {
        "id": "jCJzUMTzcgqh"
      },
      "source": [
        "master_input = []\n",
        "master_output = []\n",
        "\n",
        "for word in Y_true:\n",
        "  master_input += list(word)\n",
        "\n",
        "for word in Y_pred:\n",
        "  master_output += list(word)"
      ],
      "execution_count": 78,
      "outputs": []
    },
    {
      "cell_type": "code",
      "metadata": {
        "id": "MJVCfSovbEPl"
      },
      "source": [
        "plus_counter = Counter(plus_list)\n",
        "minus_counter = Counter(minus_list)\n",
        "net_counter = Counter(net_list)\n",
        "\n",
        "master_input_counter = Counter(master_input)\n",
        "master_output_counter = Counter(master_output)"
      ],
      "execution_count": 79,
      "outputs": []
    },
    {
      "cell_type": "code",
      "metadata": {
        "id": "gTz5AglnbXtq"
      },
      "source": [
        "for key in minus_counter.keys():\n",
        "  # print(key, minus_counter[key], master_counter[key])\n",
        "  minus_counter[key] = minus_counter[key] / master_input_counter[key]\n",
        "\n",
        "for key in plus_counter.keys():\n",
        "  # print(key, plus_counter[key], master_counter[key])\n",
        "  plus_counter[key] = plus_counter[key] / master_output_counter[key]"
      ],
      "execution_count": 80,
      "outputs": []
    },
    {
      "cell_type": "code",
      "metadata": {
        "colab": {
          "base_uri": "https://localhost:8080/"
        },
        "id": "-vcc7Mqhe6NM",
        "outputId": "94f91f4c-95b9-4fd0-8d07-0b403751c4fb"
      },
      "source": [
        "# top 10 - fraction of letters omitted that are mistakes\n",
        "df_minus = pd.DataFrame(minus_counter.most_common(10), columns=['Char', 'Omit Fraction'])\n",
        "print(df_minus.head())\n",
        "\n",
        "wandb.log({'Character Missing Fraction': wandb.Table(columns=['Char', 'Omit Fraction'],\n",
        "                                                     data=df_minus)})"
      ],
      "execution_count": 81,
      "outputs": [
        {
          "output_type": "stream",
          "text": [
            "  Char  Omit Fraction\n",
            "0    ௌ       1.000000\n",
            "1    ஃ       1.000000\n",
            "2    ஐ       0.800000\n",
            "3    ஓ       0.789474\n",
            "4    ஷ       0.750000\n"
          ],
          "name": "stdout"
        }
      ]
    },
    {
      "cell_type": "code",
      "metadata": {
        "colab": {
          "base_uri": "https://localhost:8080/"
        },
        "id": "GeLMu_m8hYAt",
        "outputId": "e8833693-0bfd-484d-de31-b252dd6fbe6f"
      },
      "source": [
        "# top 10 - fraction of letters outputted that are mistakes\n",
        "df_plus = pd.DataFrame(plus_counter.most_common(10), columns=['Char', 'Excess Fraction'])\n",
        "print(df_plus.head())\n",
        "\n",
        "wandb.log({'Character Excess Fraction': wandb.Table(columns=['Char', 'Excess Fraction'],\n",
        "                                                    data=df_plus)})"
      ],
      "execution_count": 82,
      "outputs": [
        {
          "output_type": "stream",
          "text": [
            "  Char  Excess Fraction\n",
            "0    ஐ         0.900000\n",
            "1    ஓ         0.692308\n",
            "2    ஈ         0.583333\n",
            "3    ஷ         0.370370\n",
            "4    ஸ         0.321839\n"
          ],
          "name": "stdout"
        }
      ]
    },
    {
      "cell_type": "markdown",
      "metadata": {
        "id": "UjIc3LOjifEe"
      },
      "source": [
        "# \"Confusion Matrix\""
      ]
    },
    {
      "cell_type": "code",
      "metadata": {
        "id": "KzrZ3Xa9iLS4"
      },
      "source": [
        "df_2 = df.copy()\n",
        "df_2['edit'] = df_2.apply(lambda x: edit_distance(x['true'], x['pred']), axis=1)\n",
        "df_2['mod_dif'] = df_2.apply(lambda z: abs(len(z['true']) - len(z['pred'])), axis=1)\n",
        "\n",
        "df_3 = df_2[df_2['edit']==1]\n",
        "df_3 = df_3[df_3['mod_dif']==0]\n",
        "df_3.drop(columns=['match', 'edit', 'mod_dif'], inplace=True)\n",
        "\n",
        "Y1_true = df_3.true.to_list()\n",
        "Y1_pred = df_3.pred.to_list()"
      ],
      "execution_count": 83,
      "outputs": []
    },
    {
      "cell_type": "code",
      "metadata": {
        "id": "BjI-kjqcnSMQ"
      },
      "source": [
        "diff_list = []\n",
        "\n",
        "for y_true, y_pred in zip(Y1_true, Y1_pred):\n",
        "  output_list = tuple([li for li in difflib.ndiff(y_true, y_pred) if li[0] != ' '])\n",
        "  if(len(output_list)==2):\n",
        "    diff_list.append(output_list)"
      ],
      "execution_count": 84,
      "outputs": []
    },
    {
      "cell_type": "code",
      "metadata": {
        "id": "DffEsMa6nSoc"
      },
      "source": [
        "hm = np.zeros((len(tk.output_corpus), len(tk.output_corpus)))\n",
        "\n",
        "for true, pred in diff_list:\n",
        "  hm[tk.encode_dict_output[true[-1]]-1][tk.encode_dict_output[pred[-1]]-1] += 1"
      ],
      "execution_count": 85,
      "outputs": []
    },
    {
      "cell_type": "code",
      "metadata": {
        "id": "aCxqr8EmoBg7"
      },
      "source": [
        "df_hm = pd.DataFrame(hm)\n",
        "df_hm.columns = list(range(1, len(tk.output_corpus)+1))\n",
        "df_hm.index = list(range(1, len(tk.output_corpus)+1))\n",
        "df_hm.index.name, df_hm.columns.name = 'True', 'Pred'"
      ],
      "execution_count": 86,
      "outputs": []
    },
    {
      "cell_type": "code",
      "metadata": {
        "colab": {
          "base_uri": "https://localhost:8080/",
          "height": 877
        },
        "id": "gSqznnLfrw0m",
        "outputId": "2dc5aa0d-fc6f-4423-9db5-6afb0ac81c50"
      },
      "source": [
        "plt.figure(figsize=(15, 15))\n",
        "fig = sns.heatmap(df_hm, annot=True, fmt='g')\n",
        "\n",
        "wandb.log({'Confusion Matrix For ED=1': wandb.Image(fig, caption='Confusion Matrix For ED=1')})\n",
        "plt.show()"
      ],
      "execution_count": 87,
      "outputs": [
        {
          "output_type": "display_data",
          "data": {
            "image/png": "[encoded data removed]",
            "text/plain": [
              "<Figure size 1080x1080 with 2 Axes>"
            ]
          },
          "metadata": {
            "tags": [],
            "needs_background": "light"
          }
        }
      ]
    },
    {
      "cell_type": "code",
      "metadata": {
        "colab": {
          "base_uri": "https://localhost:8080/"
        },
        "id": "tS1JSYAJtHxC",
        "outputId": "4c5fc914-54b0-4f52-be14-7bf68a1bef85"
      },
      "source": [
        "one_diff_counter = Counter(diff_list)\n",
        "one_diff_counter = [(a, b, c) for (a, b), c in one_diff_counter.most_common(20)]\n",
        "df_ofc = pd.DataFrame(one_diff_counter)\n",
        "print(df_ofc.head())\n",
        "\n",
        "wandb.log({\"ED=1 Top Mistranliterations\": wandb.Table(columns=['Original', 'Output', 'Count'],\n",
        "                                                      data=df_ofc)})"
      ],
      "execution_count": 88,
      "outputs": [
        {
          "output_type": "stream",
          "text": [
            "     0    1   2\n",
            "0  - ற  + ர  91\n",
            "1  - ள  + ல  62\n",
            "2  - ர  + ற  47\n",
            "3  - ூ  + ோ  46\n",
            "4  - ட  + த  44\n"
          ],
          "name": "stdout"
        }
      ]
    },
    {
      "cell_type": "markdown",
      "metadata": {
        "id": "36R7vT9jyJt3"
      },
      "source": [
        "## Random Samples"
      ]
    },
    {
      "cell_type": "code",
      "metadata": {
        "id": "MtSVO3HbultN"
      },
      "source": [
        "df_2 = df.copy()\n",
        "df_2['edit'] = df_2.apply(lambda x: edit_distance(x['true'], x['pred']), axis=1)\n",
        "\n",
        "df_2_wrong = df_2[df_2['match']==0]\n",
        "df_2_wrong = df_2_wrong.groupby('edit').nth(0)\n",
        "df_2_wrong.reset_index(inplace=True)"
      ],
      "execution_count": 89,
      "outputs": []
    },
    {
      "cell_type": "code",
      "metadata": {
        "colab": {
          "base_uri": "https://localhost:8080/"
        },
        "id": "xou4n4x-yOAV",
        "outputId": "bb800d93-2f37-474f-82bb-84ad39500f96"
      },
      "source": [
        "print(df_2_wrong.head())\n",
        "\n",
        "wandb.log({\"Random Samples\": wandb.Table(dataframe=df_2_wrong)})"
      ],
      "execution_count": 90,
      "outputs": [
        {
          "output_type": "stream",
          "text": [
            "   edit          X       true       pred  match\n",
            "0     1      preim     பிரேம்     பிராம்      0\n",
            "1     2    puudaan     பூடான்   பூட்டான்      0\n",
            "2     3  nayathodu   நயத்தோடு    நாயதோடு      0\n",
            "3     4  ahmedabad  அகமதாபாத்  அகாடிபாட்      0\n",
            "4     5  vicarikka     வழக்கு   விகரிக்க      0\n"
          ],
          "name": "stdout"
        }
      ]
    },
    {
      "cell_type": "markdown",
      "metadata": {
        "id": "VKWEuznn2gZz"
      },
      "source": [
        "# Attention Dataset Loading"
      ]
    },
    {
      "cell_type": "code",
      "metadata": {
        "id": "cY67WpDK2sxy"
      },
      "source": [
        "path_attn_beam = root_dir+'/attention/beam_attn'\n",
        "Y_true, Y_pred = pd.read_pickle(path_attn_beam)\n",
        "match = [1*(y_true==y_pred) for y_true, y_pred in zip(Y_true, Y_pred)]"
      ],
      "execution_count": 91,
      "outputs": []
    },
    {
      "cell_type": "code",
      "metadata": {
        "colab": {
          "base_uri": "https://localhost:8080/"
        },
        "id": "lChlgdx69m-e",
        "outputId": "072eab60-fe99-4600-980a-d6837bda5b59"
      },
      "source": [
        "sum(match)/len(match)"
      ],
      "execution_count": 92,
      "outputs": [
        {
          "output_type": "execute_result",
          "data": {
            "text/plain": [
              "0.5366603248938973"
            ]
          },
          "metadata": {
            "tags": []
          },
          "execution_count": 92
        }
      ]
    },
    {
      "cell_type": "code",
      "metadata": {
        "id": "akrSTvHq9nnN"
      },
      "source": [
        "path_attn_greedy = root_dir+'/attention/attn_greedy.csv'\n",
        "df_attn_greedy = pd.read_csv(path_attn_greedy)\n",
        "X = df_attn_greedy.X.to_list()\n",
        "Y_true = df_attn_greedy.Y_pred.to_list()\n",
        "Y_pred = df_attn_greedy.Y_true.to_list()\n",
        "match = [1*(a==b) for a,b in zip(Y_true, Y_pred)]"
      ],
      "execution_count": 93,
      "outputs": []
    },
    {
      "cell_type": "code",
      "metadata": {
        "colab": {
          "base_uri": "https://localhost:8080/"
        },
        "id": "y-jf5G5--sBE",
        "outputId": "6035e3b1-1d58-44c3-c10f-3dd07c228d16"
      },
      "source": [
        "sum(match)/len(match)"
      ],
      "execution_count": 94,
      "outputs": [
        {
          "output_type": "execute_result",
          "data": {
            "text/plain": [
              "0.518502331002331"
            ]
          },
          "metadata": {
            "tags": []
          },
          "execution_count": 94
        }
      ]
    },
    {
      "cell_type": "code",
      "metadata": {
        "id": "33x6p8yI-sfC"
      },
      "source": [
        "dfa = pd.DataFrame({\n",
        "    'X' : X,\n",
        "    'true' : Y_true,\n",
        "    'pred' : Y_pred,\n",
        "    'match' : match\n",
        "})"
      ],
      "execution_count": 95,
      "outputs": []
    },
    {
      "cell_type": "markdown",
      "metadata": {
        "id": "ZrPMW-1YncKr"
      },
      "source": [
        "# What Has Attention Done Correctly"
      ]
    },
    {
      "cell_type": "code",
      "metadata": {
        "colab": {
          "base_uri": "https://localhost:8080/",
          "height": 768,
          "referenced_widgets": [
            "2ebfb400aaa6406ca18bccbf13864d64",
            "76dcd2ebfc8e4fdca0c710f541947084",
            "7aff0eb6a9a24754baf9ffc7458f5a44",
            "b71b61a01b864d2abced9986c639b7c0",
            "05b87a58082744bb91386744a5ebc342",
            "761596ce7edf487e99c738637081b5be",
            "0750d5981e4a48b5bc05a3e8877eb684",
            "93a8125182144842867980a7f8329ac1"
          ]
        },
        "id": "XGE0zZsEO6eK",
        "outputId": "105aedf7-c471-49d0-d393-14e869e73496"
      },
      "source": [
        "wandb.init(project='attn_analysis')"
      ],
      "execution_count": 97,
      "outputs": [
        {
          "output_type": "display_data",
          "data": {
            "text/html": [
              "Finishing last run (ID:1o38l2n6) before initializing another..."
            ],
            "text/plain": [
              "<IPython.core.display.HTML object>"
            ]
          },
          "metadata": {
            "tags": []
          }
        },
        {
          "output_type": "display_data",
          "data": {
            "text/html": [
              "<br/>Waiting for W&B process to finish, PID 1449<br/>Program ended successfully."
            ],
            "text/plain": [
              "<IPython.core.display.HTML object>"
            ]
          },
          "metadata": {
            "tags": []
          }
        },
        {
          "output_type": "display_data",
          "data": {
            "application/vnd.jupyter.widget-view+json": {
              "model_id": "2ebfb400aaa6406ca18bccbf13864d64",
              "version_minor": 0,
              "version_major": 2
            },
            "text/plain": [
              "VBox(children=(Label(value=' 0.00MB of 0.00MB uploaded (0.00MB deduped)\\r'), FloatProgress(value=1.0, max=1.0)…"
            ]
          },
          "metadata": {
            "tags": []
          }
        },
        {
          "output_type": "display_data",
          "data": {
            "text/html": [
              "Find user logs for this run at: <code>/content/wandb/run-20210518_150846-1o38l2n6/logs/debug.log</code>"
            ],
            "text/plain": [
              "<IPython.core.display.HTML object>"
            ]
          },
          "metadata": {
            "tags": []
          }
        },
        {
          "output_type": "display_data",
          "data": {
            "text/html": [
              "Find internal logs for this run at: <code>/content/wandb/run-20210518_150846-1o38l2n6/logs/debug-internal.log</code>"
            ],
            "text/plain": [
              "<IPython.core.display.HTML object>"
            ]
          },
          "metadata": {
            "tags": []
          }
        },
        {
          "output_type": "display_data",
          "data": {
            "text/html": [
              "Synced 4 W&B file(s), 0 media file(s), 0 artifact file(s) and 0 other file(s)"
            ],
            "text/plain": [
              "<IPython.core.display.HTML object>"
            ]
          },
          "metadata": {
            "tags": []
          }
        },
        {
          "output_type": "display_data",
          "data": {
            "text/html": [
              "\n",
              "                    <br/>Synced <strong style=\"color:#cdcd00\">graceful-cosmos-6</strong>: <a href=\"https://wandb.ai/ramkamal/attn_test/runs/1o38l2n6\" target=\"_blank\">https://wandb.ai/ramkamal/attn_test/runs/1o38l2n6</a><br/>\n",
              "                "
            ],
            "text/plain": [
              "<IPython.core.display.HTML object>"
            ]
          },
          "metadata": {
            "tags": []
          }
        },
        {
          "output_type": "display_data",
          "data": {
            "text/html": [
              "...Successfully finished last run (ID:1o38l2n6). Initializing new run:<br/><br/>"
            ],
            "text/plain": [
              "<IPython.core.display.HTML object>"
            ]
          },
          "metadata": {
            "tags": []
          }
        },
        {
          "output_type": "display_data",
          "data": {
            "text/html": [
              "\n",
              "                Tracking run with wandb version 0.10.30<br/>\n",
              "                Syncing run <strong style=\"color:#cdcd00\">fallen-tree-1</strong> to <a href=\"https://wandb.ai\" target=\"_blank\">Weights & Biases</a> <a href=\"https://docs.wandb.com/integrations/jupyter.html\" target=\"_blank\">(Documentation)</a>.<br/>\n",
              "                Project page: <a href=\"https://wandb.ai/ramkamal/attn_analysis\" target=\"_blank\">https://wandb.ai/ramkamal/attn_analysis</a><br/>\n",
              "                Run page: <a href=\"https://wandb.ai/ramkamal/attn_analysis/runs/gnsoaybj\" target=\"_blank\">https://wandb.ai/ramkamal/attn_analysis/runs/gnsoaybj</a><br/>\n",
              "                Run data is saved locally in <code>/content/wandb/run-20210518_150857-gnsoaybj</code><br/><br/>\n",
              "            "
            ],
            "text/plain": [
              "<IPython.core.display.HTML object>"
            ]
          },
          "metadata": {
            "tags": []
          }
        },
        {
          "output_type": "execute_result",
          "data": {
            "text/plain": [
              "<wandb.sdk.wandb_run.Run at 0x7f800d57ab90>"
            ],
            "text/html": [
              "<h1>Run(gnsoaybj)</h1><iframe src=\"https://wandb.ai/ramkamal/attn_analysis/runs/gnsoaybj\" style=\"border:none;width:100%;height:400px\"></iframe>"
            ]
          },
          "metadata": {
            "tags": []
          },
          "execution_count": 97
        }
      ]
    },
    {
      "cell_type": "code",
      "metadata": {
        "colab": {
          "base_uri": "https://localhost:8080/"
        },
        "id": "pFnDAR8mogOC",
        "outputId": "11b7375d-d316-4565-b29d-cf5d951618e3"
      },
      "source": [
        "# examples where vanilla worked, but attention failed\n",
        "\n",
        "df_2 = df[df['match']==1].drop(columns=['match', 'pred'])\n",
        "df_3 = dfa[dfa['match']==0].drop(columns=['match', 'true'])\n",
        "df_4 = pd.merge(df_2, df_3, how='inner', on=['X'])\n",
        "print(df_4.head())\n",
        "\n",
        "wandb.log({'Failure of Attention':\n",
        "           wandb.Table(dataframe=df_4)})"
      ],
      "execution_count": 98,
      "outputs": [
        {
          "output_type": "stream",
          "text": [
            "                 X          true          pred\n",
            "0      elimaiyaaka      எளிமையாக      எளிமையாக\n",
            "1    yavvithamaana     எவ்விதமான     எவ்விதமான\n",
            "2  thoontriyathaal   தோன்றியதால்   தோன்றியதால்\n",
            "3    pozhudupoakku  பொழுதுபோக்கு  பொழுதுபோக்கு\n",
            "4          aayeena          ஆயின          ஆயின\n"
          ],
          "name": "stdout"
        }
      ]
    },
    {
      "cell_type": "code",
      "metadata": {
        "colab": {
          "base_uri": "https://localhost:8080/"
        },
        "id": "eI7p6kpadpIY",
        "outputId": "65a8f2f1-7107-4e59-e4d9-195005ca575b"
      },
      "source": [
        "# examples where attention worked, but vanilla failed\n",
        "\n",
        "df_2 = df[df['match']==0].drop(columns=['match', 'true'])\n",
        "df_3 = dfa[dfa['match']==1].drop(columns=['match', 'pred'])\n",
        "df_4 = pd.merge(df_2, df_3, how='inner', on=['X'])\n",
        "print(df_4.head())\n",
        "\n",
        "wandb.log({'Failure of Vanilla':\n",
        "           wandb.Table(dataframe=df_4)})"
      ],
      "execution_count": 99,
      "outputs": [
        {
          "output_type": "stream",
          "text": [
            "             X       pred       true\n",
            "0      kooldan    கூல்டன்    கோல்டன்\n",
            "1      puudaan   பூட்டான்     பூடான்\n",
            "2        bakaa       பாகா        பகா\n",
            "3  seerudaikal  சீருதைகள்  சீருடைகள்\n",
            "4      aayinar     ஆய்னர்     ஆயினர்\n"
          ],
          "name": "stdout"
        }
      ]
    },
    {
      "cell_type": "markdown",
      "metadata": {
        "id": "XPtM1pVDMObg"
      },
      "source": [
        "# Edit Distance Analysis"
      ]
    },
    {
      "cell_type": "code",
      "metadata": {
        "id": "iAkbmpzZMM7c"
      },
      "source": [
        "df_c = df_4.copy()\n",
        "df_c['edit'] = df_c.apply(lambda x: edit_distance(x['true'], x['pred']), axis=1)"
      ],
      "execution_count": 100,
      "outputs": []
    },
    {
      "cell_type": "code",
      "metadata": {
        "colab": {
          "base_uri": "https://localhost:8080/",
          "height": 295
        },
        "id": "nWuGC4smMzoE",
        "outputId": "1237bc4b-eabc-4217-bffd-5413aed5a23a"
      },
      "source": [
        "df_c.edit.plot.hist()\n",
        "plt.grid()\n",
        "plt.xlabel(\"Edit Distance\")\n",
        "plt.title(\"Correction Freq vs ED\")\n",
        "\n",
        "wandb.log({\"Correction Freq vs ED\":\n",
        "           wandb.Image(plt, caption=\"Correction Freq vs ED\")})"
      ],
      "execution_count": 101,
      "outputs": [
        {
          "output_type": "display_data",
          "data": {
            "image/png": "[encoded data removed]",
            "text/plain": [
              "<Figure size 432x288 with 1 Axes>"
            ]
          },
          "metadata": {
            "tags": [],
            "needs_background": "light"
          }
        }
      ]
    },
    {
      "cell_type": "markdown",
      "metadata": {
        "id": "s5CdOscPQCFR"
      },
      "source": [
        "# \"Correction Confusion Matrix\""
      ]
    },
    {
      "cell_type": "code",
      "metadata": {
        "id": "s0it_sCaQf2m"
      },
      "source": [
        "df_2 = df_c.copy()\n",
        "df_2['edit'] = df_2.apply(lambda x: edit_distance(x['true'], x['pred']), axis=1)\n",
        "df_2['mod_dif'] = df_2.apply(lambda z: abs(len(z['true']) - len(z['pred'])), axis=1)\n",
        "\n",
        "df_3 = df_2[df_2['edit']==1]\n",
        "df_3 = df_3[df_3['mod_dif']==0]\n",
        "df_3.drop(columns=['edit', 'mod_dif'], inplace=True)\n",
        "\n",
        "Y1_true = df_3.true.to_list()\n",
        "Y1_pred = df_3.pred.to_list()"
      ],
      "execution_count": 102,
      "outputs": []
    },
    {
      "cell_type": "code",
      "metadata": {
        "id": "oaGu50tzQ49v"
      },
      "source": [
        "diff_list = []\n",
        "\n",
        "for y_true, y_pred in zip(Y1_true, Y1_pred):\n",
        "  output_list = tuple([li for li in difflib.ndiff(y_true, y_pred) if li[0] != ' '])\n",
        "  if(len(output_list)==2):\n",
        "    diff_list.append(output_list)"
      ],
      "execution_count": 103,
      "outputs": []
    },
    {
      "cell_type": "code",
      "metadata": {
        "id": "VimwLY8wQ-MB"
      },
      "source": [
        "hm = np.zeros((len(tk.output_corpus), len(tk.output_corpus)))\n",
        "\n",
        "for true, pred in diff_list:\n",
        "  hm[tk.encode_dict_output[true[-1]]-1][tk.encode_dict_output[pred[-1]]-1] += 1"
      ],
      "execution_count": 104,
      "outputs": []
    },
    {
      "cell_type": "code",
      "metadata": {
        "id": "V9WgrUxfQ-lG"
      },
      "source": [
        "df_hm = pd.DataFrame(hm)\n",
        "df_hm.columns = list(range(1, len(tk.output_corpus)+1))\n",
        "df_hm.index = list(range(1, len(tk.output_corpus)+1))\n",
        "df_hm.index.name, df_hm.columns.name = 'True', 'Pred'"
      ],
      "execution_count": 105,
      "outputs": []
    },
    {
      "cell_type": "code",
      "metadata": {
        "colab": {
          "base_uri": "https://localhost:8080/",
          "height": 877
        },
        "id": "sOSRMB1LRF3y",
        "outputId": "ad5bd77e-e7a8-4915-9d7b-d83f660730ab"
      },
      "source": [
        "plt.figure(figsize=(15, 15))\n",
        "fig = sns.heatmap(df_hm, annot=True, fmt='g')\n",
        "\n",
        "wandb.log({'Correction Confusion Matrix For ED=1': wandb.Image(fig, caption='Correction Confusion Matrix For ED=1')})\n",
        "plt.show()"
      ],
      "execution_count": 106,
      "outputs": [
        {
          "output_type": "display_data",
          "data": {
            "image/png": "[encoded data removed]",
            "text/plain": [
              "<Figure size 1080x1080 with 2 Axes>"
            ]
          },
          "metadata": {
            "tags": [],
            "needs_background": "light"
          }
        }
      ]
    },
    {
      "cell_type": "code",
      "metadata": {
        "colab": {
          "base_uri": "https://localhost:8080/"
        },
        "id": "roVua4bPRJJE",
        "outputId": "790cc4fa-e49d-4b72-bd40-617d5bb50336"
      },
      "source": [
        "one_diff_counter = Counter(diff_list)\n",
        "one_diff_counter = [(a, b, c) for (a, b), c in one_diff_counter.most_common(20)]\n",
        "df_ofc = pd.DataFrame(one_diff_counter)\n",
        "print(df_ofc.head())\n",
        "\n",
        "wandb.log({\"ED=1 Top Corrected Mistranliterations\": wandb.Table(columns=['Original', 'Output', 'Count'],\n",
        "                                                                data=df_ofc)})"
      ],
      "execution_count": 107,
      "outputs": [
        {
          "output_type": "stream",
          "text": [
            "     0    1   2\n",
            "0  - ட  + த  26\n",
            "1  - ூ  + ோ  16\n",
            "2  - ன  + ண  14\n",
            "3  - ர  + ற  13\n",
            "4  - ண  + ன  12\n"
          ],
          "name": "stdout"
        }
      ]
    },
    {
      "cell_type": "markdown",
      "metadata": {
        "id": "Zbp7f2Rbdufw"
      },
      "source": [
        "# Attention Heatmap"
      ]
    },
    {
      "cell_type": "code",
      "metadata": {
        "colab": {
          "base_uri": "https://localhost:8080/",
          "height": 1000,
          "referenced_widgets": [
            "28524309e41d460787be576d0020be56",
            "40247a6aee6249b392f163344599b3df",
            "7edd10d067434c10bce9c3addfddd4e4",
            "2d5123f047e1462ba82344ad4a3c2e93",
            "0bb49e2ad87741acbe496a8dab92cea9",
            "2ca29ac04bc046e386ac334997059ec8",
            "2d82d772b03240b1a599e9e498cbb73d",
            "be3c2ead7b7948d9b5235bd2a544a3c2"
          ]
        },
        "id": "s02FoPvfSGIx",
        "outputId": "01aca678-19eb-4a82-8ae6-13d68c17d597"
      },
      "source": [
        "wandb.init(project='heatmap_analysis')"
      ],
      "execution_count": 108,
      "outputs": [
        {
          "output_type": "display_data",
          "data": {
            "text/html": [
              "Finishing last run (ID:gnsoaybj) before initializing another..."
            ],
            "text/plain": [
              "<IPython.core.display.HTML object>"
            ]
          },
          "metadata": {
            "tags": []
          }
        },
        {
          "output_type": "display_data",
          "data": {
            "text/html": [
              "<br/>Waiting for W&B process to finish, PID 1480<br/>Program ended successfully."
            ],
            "text/plain": [
              "<IPython.core.display.HTML object>"
            ]
          },
          "metadata": {
            "tags": []
          }
        },
        {
          "output_type": "display_data",
          "data": {
            "application/vnd.jupyter.widget-view+json": {
              "model_id": "28524309e41d460787be576d0020be56",
              "version_minor": 0,
              "version_major": 2
            },
            "text/plain": [
              "VBox(children=(Label(value=' 0.42MB of 0.42MB uploaded (0.00MB deduped)\\r'), FloatProgress(value=1.0, max=1.0)…"
            ]
          },
          "metadata": {
            "tags": []
          }
        },
        {
          "output_type": "display_data",
          "data": {
            "text/html": [
              "Find user logs for this run at: <code>/content/wandb/run-20210518_150857-gnsoaybj/logs/debug.log</code>"
            ],
            "text/plain": [
              "<IPython.core.display.HTML object>"
            ]
          },
          "metadata": {
            "tags": []
          }
        },
        {
          "output_type": "display_data",
          "data": {
            "text/html": [
              "Find internal logs for this run at: <code>/content/wandb/run-20210518_150857-gnsoaybj/logs/debug-internal.log</code>"
            ],
            "text/plain": [
              "<IPython.core.display.HTML object>"
            ]
          },
          "metadata": {
            "tags": []
          }
        },
        {
          "output_type": "display_data",
          "data": {
            "text/html": [
              "<h3>Run summary:</h3><br/><style>\n",
              "    table.wandb td:nth-child(1) { padding: 0 10px; text-align: right }\n",
              "    </style><table class=\"wandb\">\n",
              "<tr><td>_runtime</td><td>17</td></tr><tr><td>_timestamp</td><td>1621350557</td></tr><tr><td>_step</td><td>4</td></tr></table>"
            ],
            "text/plain": [
              "<IPython.core.display.HTML object>"
            ]
          },
          "metadata": {
            "tags": []
          }
        },
        {
          "output_type": "display_data",
          "data": {
            "text/html": [
              "<h3>Run history:</h3><br/><style>\n",
              "    table.wandb td:nth-child(1) { padding: 0 10px; text-align: right }\n",
              "    </style><table class=\"wandb\">\n",
              "<tr><td>_runtime</td><td>▁▂▃▅█</td></tr><tr><td>_timestamp</td><td>▁▂▃▅█</td></tr><tr><td>_step</td><td>▁▃▅▆█</td></tr></table><br/>"
            ],
            "text/plain": [
              "<IPython.core.display.HTML object>"
            ]
          },
          "metadata": {
            "tags": []
          }
        },
        {
          "output_type": "display_data",
          "data": {
            "text/html": [
              "Synced 5 W&B file(s), 5 media file(s), 3 artifact file(s) and 0 other file(s)"
            ],
            "text/plain": [
              "<IPython.core.display.HTML object>"
            ]
          },
          "metadata": {
            "tags": []
          }
        },
        {
          "output_type": "display_data",
          "data": {
            "text/html": [
              "\n",
              "                    <br/>Synced <strong style=\"color:#cdcd00\">fallen-tree-1</strong>: <a href=\"https://wandb.ai/ramkamal/attn_analysis/runs/gnsoaybj\" target=\"_blank\">https://wandb.ai/ramkamal/attn_analysis/runs/gnsoaybj</a><br/>\n",
              "                "
            ],
            "text/plain": [
              "<IPython.core.display.HTML object>"
            ]
          },
          "metadata": {
            "tags": []
          }
        },
        {
          "output_type": "display_data",
          "data": {
            "text/html": [
              "...Successfully finished last run (ID:gnsoaybj). Initializing new run:<br/><br/>"
            ],
            "text/plain": [
              "<IPython.core.display.HTML object>"
            ]
          },
          "metadata": {
            "tags": []
          }
        },
        {
          "output_type": "display_data",
          "data": {
            "text/html": [
              "\n",
              "                Tracking run with wandb version 0.10.30<br/>\n",
              "                Syncing run <strong style=\"color:#cdcd00\">stoic-morning-1</strong> to <a href=\"https://wandb.ai\" target=\"_blank\">Weights & Biases</a> <a href=\"https://docs.wandb.com/integrations/jupyter.html\" target=\"_blank\">(Documentation)</a>.<br/>\n",
              "                Project page: <a href=\"https://wandb.ai/ramkamal/heatmap_analysis\" target=\"_blank\">https://wandb.ai/ramkamal/heatmap_analysis</a><br/>\n",
              "                Run page: <a href=\"https://wandb.ai/ramkamal/heatmap_analysis/runs/3itq8rlt\" target=\"_blank\">https://wandb.ai/ramkamal/heatmap_analysis/runs/3itq8rlt</a><br/>\n",
              "                Run data is saved locally in <code>/content/wandb/run-20210518_153224-3itq8rlt</code><br/><br/>\n",
              "            "
            ],
            "text/plain": [
              "<IPython.core.display.HTML object>"
            ]
          },
          "metadata": {
            "tags": []
          }
        },
        {
          "output_type": "execute_result",
          "data": {
            "text/plain": [
              "<wandb.sdk.wandb_run.Run at 0x7f800d8c9e10>"
            ],
            "text/html": [
              "<h1>Run(3itq8rlt)</h1><iframe src=\"https://wandb.ai/ramkamal/heatmap_analysis/runs/3itq8rlt\" style=\"border:none;width:100%;height:400px\"></iframe>"
            ]
          },
          "metadata": {
            "tags": []
          },
          "execution_count": 108
        }
      ]
    },
    {
      "cell_type": "code",
      "metadata": {
        "id": "7Pllux8HjO9T"
      },
      "source": [
        "path_attn_weights = root_dir+'/attention/attn_weights'\n",
        "all_attn_weights = pd.read_pickle(path_attn_weights)\n",
        "\n",
        "df_2 = dfa.copy()\n",
        "df_2['idx'] = df_2.index\n",
        "df_2['X_len'] = df_2.apply(lambda x: len(x['X']), axis=1)\n",
        "df_3 = df_2.groupby('X_len').nth(1).reset_index(level=0)"
      ],
      "execution_count": 109,
      "outputs": []
    },
    {
      "cell_type": "code",
      "metadata": {
        "colab": {
          "base_uri": "https://localhost:8080/"
        },
        "id": "VYg5zdxpWcuH",
        "outputId": "48db80c1-8105-437a-9e8b-12d79e78a7f1"
      },
      "source": [
        "len_list = range(4, 22, 2)\n",
        "\n",
        "df_4 = df_3[df_3['X_len'].isin(len_list)].reset_index(drop=True)\n",
        "print(df_4.head())"
      ],
      "execution_count": 110,
      "outputs": [
        {
          "output_type": "stream",
          "text": [
            "   X_len             X        true        pred  match  idx\n",
            "0      4          gita         கிட        கீதை      0   78\n",
            "1      6        betles     பெட்லஸ்  பீட்டில்ஸ்      0   37\n",
            "2      8      kaaliyaa      காலியா      காலியா      1    7\n",
            "3     10    vikkiraman  விக்கிரமன்  விக்கிரமன்      1   32\n",
            "4     12  mikkavaraaga   மிக்கவராக   மிக்கவராக      1   24\n"
          ],
          "name": "stdout"
        }
      ]
    },
    {
      "cell_type": "code",
      "metadata": {
        "colab": {
          "base_uri": "https://localhost:8080/",
          "height": 1000
        },
        "id": "O0T90b1Jziz-",
        "outputId": "8b7704e7-a336-4962-977e-45d963e4643d"
      },
      "source": [
        "fig, axes = plt.subplots(3, 3, figsize=(30, 30))\n",
        "axes = axes.flatten()\n",
        "fig.suptitle('Sample Attention Heatmaps')\n",
        "\n",
        "for i, (index, row) in enumerate(df_4.iterrows()):\n",
        "  input_word = row['X']\n",
        "  output_word = row['true']\n",
        "  output_word_list = list(output_word)\n",
        "  weight = all_attn_weights[row['idx']]\n",
        "\n",
        "  # print(len(weight))\n",
        "  mats = []\n",
        "  l = len(input_word)\n",
        "  output_word_list.append('\\n')\n",
        "  for attn in weight:\n",
        "      mats.append(attn.reshape(-1)[:l])\n",
        "      \n",
        "  attention_mat = np.transpose(np.array(mats))\n",
        "\n",
        "  ax = axes[i]\n",
        "  ax.imshow(attention_mat)\n",
        "\n",
        "  ax.set_xticks(np.arange(attention_mat.shape[1]))\n",
        "  ax.set_yticks(np.arange(attention_mat.shape[0]))\n",
        "\n",
        "\n",
        "  ax.set_xticklabels([i for i in range(len(output_word_list))])\n",
        "  ax.set_yticklabels([inp for inp in input_word])\n",
        "\n",
        "  ax.tick_params(labelsize=32)\n",
        "  ax.tick_params(axis='x', labelrotation=90)\n",
        "\n",
        "wandb.log({\"Attention Heatmaps\": wandb.Image(fig, caption='Attention Heatmaps')})"
      ],
      "execution_count": 111,
      "outputs": [
        {
          "output_type": "display_data",
          "data": {
            "image/png": "[encoded data removed]",
            "text/plain": [
              "<Figure size 2160x2160 with 9 Axes>"
            ]
          },
          "metadata": {
            "tags": [],
            "needs_background": "light"
          }
        }
      ]
    },
    {
      "cell_type": "code",
      "metadata": {
        "id": "bViq_ZGhctXN"
      },
      "source": [
        "df_5 = df_4.copy()\n",
        "df_5['List Input'] = df_5.apply(lambda x: list(x['X']), axis=1)\n",
        "df_5['List Output'] = df_5.apply(lambda x: list(x['pred']), axis=1)\n",
        "df_5.drop(columns=['X', 'true', 'pred', 'match', 'idx'], inplace=True)"
      ],
      "execution_count": 112,
      "outputs": []
    },
    {
      "cell_type": "code",
      "metadata": {
        "colab": {
          "base_uri": "https://localhost:8080/"
        },
        "id": "XRfNeMt0e_kC",
        "outputId": "3d0397a7-6fe0-4bee-faa7-2a93f61be1be"
      },
      "source": [
        "print(df_5.head())\n",
        "\n",
        "wandb.log({'Heatmap Table': wandb.Table(dataframe=df_5)})"
      ],
      "execution_count": 113,
      "outputs": [
        {
          "output_type": "stream",
          "text": [
            "   X_len                            List Input                     List Output\n",
            "0      4                          [g, i, t, a]                    [க, ீ, த, ை]\n",
            "1      6                    [b, e, t, l, e, s]  [ப, ீ, ட, ், ட, ி, ல, ், ஸ, ்]\n",
            "2      8              [k, a, a, l, i, y, a, a]              [க, ா, ல, ி, ய, ா]\n",
            "3     10        [v, i, k, k, i, r, a, m, a, n]  [வ, ி, க, ், க, ி, ர, ம, ன, ்]\n",
            "4     12  [m, i, k, k, a, v, a, r, a, a, g, a]     [ம, ி, க, ், க, வ, ர, ா, க]\n"
          ],
          "name": "stdout"
        }
      ]
    }
  ]
}