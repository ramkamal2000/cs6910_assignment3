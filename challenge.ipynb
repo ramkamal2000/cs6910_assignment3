{
  "nbformat": 4,
  "nbformat_minor": 0,
  "metadata": {
    "colab": {
      "name": "Untitled3.ipynb",
      "provenance": [],
      "include_colab_link": true
    },
    "kernelspec": {
      "name": "python3",
      "display_name": "Python 3"
    },
    "language_info": {
      "name": "python"
    }
  },
  "cells": [
    {
      "cell_type": "markdown",
      "metadata": {
        "id": "view-in-github",
        "colab_type": "text"
      },
      "source": [
        "<a href=\"https://colab.research.google.com/github/ramkamal2000/cs6910_assignment3/blob/main/challenge.ipynb\" target=\"_parent\"><img src=\"https://colab.research.google.com/assets/colab-badge.svg\" alt=\"Open In Colab\"/></a>"
      ]
    },
    {
      "cell_type": "markdown",
      "metadata": {
        "id": "NYsRfzFX723d"
      },
      "source": [
        "# Mouting Drive"
      ]
    },
    {
      "cell_type": "code",
      "metadata": {
        "colab": {
          "base_uri": "https://localhost:8080/"
        },
        "id": "qm-QHXe274yJ",
        "outputId": "74658b75-34b8-45dc-ba6b-986c89412e89"
      },
      "source": [
        "'''\n",
        "from google.colab import drive\n",
        "drive.mount('/content/drive')\n",
        "'''"
      ],
      "execution_count": 2,
      "outputs": [
        {
          "output_type": "stream",
          "text": [
            "Mounted at /content/drive\n"
          ],
          "name": "stdout"
        }
      ]
    },
    {
      "cell_type": "markdown",
      "metadata": {
        "id": "FQAowuZy60cP"
      },
      "source": [
        "# Importing Required Libraries"
      ]
    },
    {
      "cell_type": "code",
      "metadata": {
        "id": "CZrpkgDF4o-g"
      },
      "source": [
        "import pandas as pd\n",
        "import numpy as np\n",
        "import html\n",
        "import random\n",
        "import os\n",
        "from IPython.core.display import display, HTML\n",
        "from IPython.display import clear_output\n",
        "from time import sleep\n",
        "\n",
        "from PIL import Image, ImageDraw"
      ],
      "execution_count": 194,
      "outputs": []
    },
    {
      "cell_type": "markdown",
      "metadata": {
        "id": "tAadadHq7FVN"
      },
      "source": [
        "# Loading Dataset"
      ]
    },
    {
      "cell_type": "code",
      "metadata": {
        "id": "TbFdmyyp6tKG"
      },
      "source": [
        "# CHANGE ACCORDINGLY\n",
        "\n",
        "root_dir = '/content/drive/MyDrive/Colab Notebooks/DL3'\n",
        "# root_dir = os.getcwd()"
      ],
      "execution_count": 58,
      "outputs": []
    },
    {
      "cell_type": "code",
      "metadata": {
        "id": "pfsnXvBr7JEB"
      },
      "source": [
        "# loading attention predictions\n",
        "path_attn_greedy = root_dir+'/attention/attn_greedy.csv'\n",
        "\n",
        "df_attn_greedy = pd.read_csv(path_attn_greedy)\n",
        "\n",
        "X = df_attn_greedy.X.to_list()\n",
        "Y_true = df_attn_greedy.Y_pred.to_list()\n",
        "Y_pred = df_attn_greedy.Y_true.to_list()\n",
        "match = [1*(a==b) for a,b in zip(Y_true, Y_pred)]"
      ],
      "execution_count": 59,
      "outputs": []
    },
    {
      "cell_type": "code",
      "metadata": {
        "id": "VcNNtoEg9ZRq"
      },
      "source": [
        "# loading attention weights\n",
        "path_attn_weights = root_dir+'/attention/attn_weights'\n",
        "all_attn_weights = pd.read_pickle(path_attn_weights)"
      ],
      "execution_count": 60,
      "outputs": []
    },
    {
      "cell_type": "markdown",
      "metadata": {
        "id": "G68xkFgZ-fSy"
      },
      "source": [
        "# Function To Help Visualize Attention"
      ]
    },
    {
      "cell_type": "code",
      "metadata": {
        "id": "iCXpO974Hyb5"
      },
      "source": [
        "# function to help visualize which input characters are being focussed on at each time step\n",
        "def visualize_attention(input_word, output_word, attn_weights):\n",
        "  \n",
        "  input_len = len(input_word)\n",
        "  output_len = len(output_word)\n",
        "\n",
        "  attn_weights = attn_weights / attn_weights.sum(axis=1, keepdims=True)\n",
        "\n",
        "  for i, weights in enumerate(attn_weights):\n",
        "    \n",
        "    max_alpha = 0.8 \n",
        "    highlighted_input_text = []\n",
        "    \n",
        "    for j in range(input_len):\n",
        "      weight = weights[j]\n",
        "      highlighted_input_text.append('<span style=\"background-color:rgba(206,135,250,' + str(weight / max_alpha) + ');\">' + html.escape(input_word[j]) + '</span>')\n",
        "    \n",
        "    highlighted_input_split = ' '.join(highlighted_input_text)+'<br/>'\n",
        "    highlighted_input = ''.join(highlighted_input_text)+'<br/>'\n",
        "    \n",
        "    print('Output:')\n",
        "    print(output_word[:i+1])\n",
        "\n",
        "    print('Input:')\n",
        "    display(HTML(highlighted_input))\n",
        "\n",
        "    sleep(1)\n",
        "    clear_output(wait=True)\n",
        "\n",
        "  clear_output()"
      ],
      "execution_count": 181,
      "outputs": []
    },
    {
      "cell_type": "markdown",
      "metadata": {
        "id": "N5lRcTEF-l1J"
      },
      "source": [
        "# Test Example"
      ]
    },
    {
      "cell_type": "code",
      "metadata": {
        "id": "T8fFeTku9o5K"
      },
      "source": [
        "# CHANGE ACCORDINGLY\n",
        "\n",
        "x = 10"
      ],
      "execution_count": 188,
      "outputs": []
    },
    {
      "cell_type": "code",
      "metadata": {
        "colab": {
          "base_uri": "https://localhost:8080/"
        },
        "id": "g89twKmc-nrT",
        "outputId": "f512bc92-fbc0-46ef-eea1-72f11bfe2e7e"
      },
      "source": [
        "input_word = X[x]\n",
        "output_word = Y_pred[x]\n",
        "\n",
        "attn_weights = all_attn_weights[x][:-1]\n",
        "attn_weights = np.vstack([wt[0][0] for wt in attn_weights])\n",
        "attn_weights = attn_weights[:, :len(input_word)]\n",
        "\n",
        "input_word, output_word"
      ],
      "execution_count": 191,
      "outputs": [
        {
          "output_type": "execute_result",
          "data": {
            "text/plain": [
              "('oththulaikka', 'ஒத்துழைக்க')"
            ]
          },
          "metadata": {
            "tags": []
          },
          "execution_count": 191
        }
      ]
    },
    {
      "cell_type": "code",
      "metadata": {
        "id": "LCcKOl3e-2Eo"
      },
      "source": [
        "visualize_attention(input_word, output_word, attn_weights)"
      ],
      "execution_count": 192,
      "outputs": []
    },
    {
      "cell_type": "markdown",
      "metadata": {
        "id": "ZXcK36o98IMX"
      },
      "source": [
        "# Toy Example"
      ]
    },
    {
      "cell_type": "code",
      "metadata": {
        "id": "uErGojE3G0p3"
      },
      "source": [
        "input_word = 'cart'\n",
        "output_word = 'காலயய'"
      ],
      "execution_count": 185,
      "outputs": []
    },
    {
      "cell_type": "code",
      "metadata": {
        "colab": {
          "base_uri": "https://localhost:8080/"
        },
        "id": "UjPFCrF8JSv_",
        "outputId": "77f2e121-140d-45b6-cf6e-c3395a63ba1b"
      },
      "source": [
        "# must be output_len X input_len\n",
        "attn_weights = np.array([[10., 2, 4, 1],\n",
        "                         [3, 10, 6, 0],\n",
        "                         [1, 1, 10, 3],\n",
        "                         [4, 5, 6, 5],\n",
        "                         [10, 0, 0, 0]])\n",
        "print(attn_weights)"
      ],
      "execution_count": 186,
      "outputs": [
        {
          "output_type": "stream",
          "text": [
            "[[10.  2.  4.  1.]\n",
            " [ 3. 10.  6.  0.]\n",
            " [ 1.  1. 10.  3.]\n",
            " [ 4.  5.  6.  5.]\n",
            " [10.  0.  0.  0.]]\n"
          ],
          "name": "stdout"
        }
      ]
    },
    {
      "cell_type": "code",
      "metadata": {
        "id": "0nTBlaXeTFxS"
      },
      "source": [
        "visualize_attention(input_word, output_word, attn_weights)"
      ],
      "execution_count": 187,
      "outputs": []
    }
  ]
}