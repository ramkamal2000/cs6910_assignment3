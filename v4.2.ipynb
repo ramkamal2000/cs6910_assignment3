{
  "nbformat": 4,
  "nbformat_minor": 0,
  "metadata": {
    "kernelspec": {
      "name": "python3",
      "display_name": "Python 3"
    },
    "colab": {
      "name": "v2.1.ipynb",
      "provenance": [],
      "collapsed_sections": []
    },
    "language_info": {
      "name": "python"
    },
    "accelerator": "GPU"
  },
  "cells": [
    {
      "cell_type": "markdown",
      "metadata": {
        "id": "dtcVxQrUVxtS"
      },
      "source": [
        "# TO DO\n",
        "1. Figure out dataset\n",
        "2. Break down into individual characters\n",
        "3. Form corpus from dataset for input and output characters\n",
        "4. Assign a number to each character\n",
        "5. Model will have an embedding so it will handle it\n",
        "6. Output will be a bunch of integers so we will have to decode it"
      ]
    },
    {
      "cell_type": "code",
      "metadata": {
        "id": "bClAC3xAEhKS"
      },
      "source": [
        "import tarfile\n",
        "import os\n",
        "import pandas as pd\n",
        "import keras\n",
        "import numpy as np\n",
        "from keras.layers import LSTM, Dense, Embedding, Input\n",
        "from keras.models import Model\n",
        "from keras.utils.vis_utils import plot_model"
      ],
      "execution_count": 1,
      "outputs": []
    },
    {
      "cell_type": "code",
      "metadata": {
        "id": "Fs9sbR5xCVo3",
        "colab": {
          "base_uri": "https://localhost:8080/"
        },
        "outputId": "570568a1-962c-4a59-af5e-212f065f1313"
      },
      "source": [
        "!wget -nc https://storage.googleapis.com/gresearch/dakshina/dakshina_dataset_v1.0.tar\n",
        "\n",
        "if not os.path.isdir('/content/dakshina_dataset_v1.0'):\n",
        "  tarfile.open(\"/content/dakshina_dataset_v1.0.tar\").extractall() "
      ],
      "execution_count": 2,
      "outputs": [
        {
          "output_type": "stream",
          "text": [
            "--2021-04-25 18:36:34--  https://storage.googleapis.com/gresearch/dakshina/dakshina_dataset_v1.0.tar\n",
            "Resolving storage.googleapis.com (storage.googleapis.com)... 172.217.12.240, 172.217.164.144, 142.250.81.208, ...\n",
            "Connecting to storage.googleapis.com (storage.googleapis.com)|172.217.12.240|:443... connected.\n",
            "HTTP request sent, awaiting response... 200 OK\n",
            "Length: 2008340480 (1.9G) [application/x-tar]\n",
            "Saving to: ‘dakshina_dataset_v1.0.tar’\n",
            "\n",
            "dakshina_dataset_v1 100%[===================>]   1.87G  25.2MB/s    in 18s     \n",
            "\n",
            "2021-04-25 18:36:52 (109 MB/s) - ‘dakshina_dataset_v1.0.tar’ saved [2008340480/2008340480]\n",
            "\n"
          ],
          "name": "stdout"
        }
      ]
    },
    {
      "cell_type": "markdown",
      "metadata": {
        "id": "-BstzblcHmd5"
      },
      "source": [
        "# Loading Data"
      ]
    },
    {
      "cell_type": "code",
      "metadata": {
        "id": "fNDJrkl5EUHX"
      },
      "source": [
        "class data_loader():\n",
        "\n",
        "  @staticmethod\n",
        "  def _load_raw_df(languages = [\"hi\", \"mr\"]):\n",
        "    lex = dict()\n",
        "    lex['train'], lex['val'], lex['test'] = [], [], [] \n",
        "    column_names = ['input', 'output', 'count']\n",
        "    \n",
        "    for la in languages:\n",
        "      lex['train'].append(pd.read_csv('/content/dakshina_dataset_v1.0/'+la+'/lexicons/'+la+'.translit.sampled.train.tsv', sep='\\t', header=None, names=column_names))\n",
        "      lex['val'].append(pd.read_csv('/content/dakshina_dataset_v1.0/'+la+'/lexicons/'+la+'.translit.sampled.dev.tsv', sep='\\t', header=None, names=column_names))\n",
        "      lex['test'].append(pd.read_csv('/content/dakshina_dataset_v1.0/'+la+'/lexicons/'+la+'.translit.sampled.test.tsv', sep='\\t', header=None, names=column_names))\n",
        "\n",
        "    lex['train'] = pd.concat(lex['train'])\n",
        "    lex['val'] = pd.concat(lex['val'])\n",
        "    lex['test'] = pd.concat(lex['test'])\n",
        "\n",
        "    return lex    \n",
        "\n",
        "  @staticmethod\n",
        "  def _make_final_df(lex):\n",
        "    \n",
        "    for div in ['train', 'val', 'test']:\n",
        "    \n",
        "      # removing non max transliterations\n",
        "      idx = lex[div].groupby(['input'])['count'].transform(max) == lex[div]['count']\n",
        "      lex[div] = lex[div][idx].reset_index(drop=True)\n",
        "\n",
        "      # calclulating difference in lengths of various transliterations\n",
        "      lex[div]['input_len'] = lex[div].apply(lambda x: len(str(x['input'])), axis=1)\n",
        "      lex[div]['output_len'] = lex[div].apply(lambda y: len(str(y['output'])), axis=1)\n",
        "      lex[div]['mod_dif'] = lex[div].apply(lambda z: abs(z['input_len'] - z['output_len']), axis=1) \n",
        "\n",
        "      # removing transliterations that vary by a lot in length\n",
        "      idx = lex[div].groupby(['input'])['mod_dif'].transform(min) == lex[div]['mod_dif']\n",
        "      lex[div] = lex[div][idx].reset_index(drop=True)\n",
        "\n",
        "      # removing duplicates if any remain\n",
        "      lex[div].drop_duplicates(subset='input', keep='first', inplace=True)\n",
        "\n",
        "      # removing redundant columns\n",
        "      lex[div].drop(labels=['count', 'input_len', 'output_len', 'mod_dif'], inplace=True, axis=1)\n",
        "\n",
        "    return lex\n",
        "\n",
        "  @staticmethod\n",
        "  def _generate_batch(X, y, data_dict, num_decoder_tokens, batch_size = 1):\n",
        "    ''' Generate a batch of data '''\n",
        "    while True:\n",
        "        for j in range(0, len(X), batch_size):\n",
        "            encoder_input_data = np.zeros((batch_size, data_dict['max_source_length']),dtype='float32')\n",
        "            decoder_input_data = np.zeros((batch_size, data_dict['max_target_length']),dtype='float32')\n",
        "            decoder_target_data = np.zeros((batch_size, data_dict['max_target_length'], num_decoder_tokens),dtype='float32')\n",
        "            for i, (input_text, target_text) in enumerate(zip(X[j:j+batch_size], y[j:j+batch_size])):\n",
        "                for t, word in enumerate(input_text):\n",
        "                  encoder_input_data[i, t] = word\n",
        "                for t, word in enumerate(target_text):\n",
        "                    if t<len(target_text)-1:\n",
        "                        decoder_input_data[i, t] = word # decoder input seq\n",
        "                    if t>0:\n",
        "                        # decoder target sequence (one hot encoded)\n",
        "                        # does not include the START_ token\n",
        "                        # Offset by one timestep\n",
        "                        #print(word)\n",
        "                        decoder_target_data[i, t - 1, word] = 1.\n",
        "                    \n",
        "            yield([encoder_input_data, decoder_input_data], decoder_target_data)"
      ],
      "execution_count": 37,
      "outputs": []
    },
    {
      "cell_type": "code",
      "metadata": {
        "id": "rOo1m6s3vDaN"
      },
      "source": [
        "class Tokenizer:\n",
        "\n",
        "  def __init__(self, df):\n",
        "\n",
        "    self.start_token = '<STR>'\n",
        "    self.stop_token = '<STP>'\n",
        "    self.unknown_token = '<UNK>'\n",
        "\n",
        "    self.input_corpus = [self.start_token, self.stop_token, self.unknown_token]\n",
        "    self.output_corpus = [self.start_token, self.stop_token, self.unknown_token]\n",
        "\n",
        "    input_words = df.input.tolist()\n",
        "    output_words = df.output.tolist()\n",
        "\n",
        "    for word in input_words:\n",
        "      tokens = str(word)\n",
        "      for token in tokens:\n",
        "        if token not in self.input_corpus:\n",
        "          self.input_corpus.append(token)\n",
        "\n",
        "    for word in output_words:\n",
        "      tokens = str(word)\n",
        "      for token in tokens:\n",
        "        if token not in self.output_corpus:\n",
        "          self.output_corpus.append(token)\n",
        "    \n",
        "    self.encode_dict_input = {self.input_corpus[i] : i+1 for i in range(len(self.input_corpus))}\n",
        "    self.decode_dict_input = {k:v for v,k in self.encode_dict_input.items()}\n",
        "    \n",
        "    self.encode_dict_output = {self.output_corpus[i] : i+1 for i in range(len(self.output_corpus))}\n",
        "    self.decode_dict_output = {k:v for v,k in self.encode_dict_output.items()}\n",
        "\n",
        "  # takes in lists of words and returns lists of integers\n",
        "  def encode(self, X, mode='input'):\n",
        "\n",
        "    if (mode=='input'):\n",
        "      input_list = []\n",
        "      for word in X:\n",
        "        word = str(word)\n",
        "        # integer_list = [self.encode_dict_input[self.start_token]] + [self.encode_dict_input.get(token, self.encode_dict_input[self.unknown_token]) for token in word] + [self.encode_dict_input[self.stop_token]]\n",
        "        integer_list =np.array([self.encode_dict_input.get(token, self.encode_dict_input[self.unknown_token]) for token in word])\n",
        "        input_list.append(integer_list)\n",
        "      \n",
        "      return input_list\n",
        "    \n",
        "    if (mode=='output'):\n",
        "      output_list = []\n",
        "      for word in X:\n",
        "        word = str(word)\n",
        "        integer_list = np.array([self.encode_dict_output[self.start_token]] + [self.encode_dict_output.get(token, self.encode_dict_output[self.unknown_token]) for token in word] + [self.encode_dict_output[self.stop_token]])\n",
        "        output_list.append(integer_list)\n",
        "      \n",
        "      return output_list\n",
        "    \n",
        "\n",
        "  # takes in lists of integers and returns lists of words\n",
        "  def decode(self, X, mode='input'):\n",
        "\n",
        "    if (mode=='input'):\n",
        "      input_list = []\n",
        "      for integers in X:\n",
        "        token_list = [self.decode_dict_input.get(integer, '0') for integer in integers] \n",
        "        input_list.append(''.join(token_list))\n",
        "      \n",
        "      return input_list\n",
        "\n",
        "    if (mode=='output'):\n",
        "      output_list = []\n",
        "      for integers in X:\n",
        "        token_list = [self.decode_dict_output.get(integer, '0') for integer in integers[1:-1]] \n",
        "        output_list.append(''.join(token_list))\n",
        "      \n",
        "      return output_list"
      ],
      "execution_count": 26,
      "outputs": []
    },
    {
      "cell_type": "code",
      "metadata": {
        "id": "455lMgbPwQ6Q"
      },
      "source": [
        "# def generate_batch(X = X_train, y = Y_train, batch_size = 1):\n",
        "#   ''' Generate a batch of data '''\n",
        "#   while True:\n",
        "#     for j in range(0, len(X), batch_size):\n",
        "#         encoder_input_data = np.zeros((batch_size, max_source_length),dtype='float32')\n",
        "#         decoder_input_data = np.zeros((batch_size, max_target_length),dtype='float32')\n",
        "#         decoder_target_data = np.zeros((batch_size, max_target_length, num_decoder_tokens),dtype='float32')\n",
        "#         for i, (input_text, target_text) in enumerate(zip(X[j:j+batch_size], y[j:j+batch_size])):\n",
        "#             for t, word in enumerate(input_text):\n",
        "#               encoder_input_data[i, t] = word\n",
        "#             for t, word in enumerate(target_text):\n",
        "#                 if t<len(target_text)-1:\n",
        "#                     decoder_input_data[i, t] = word # decoder input seq\n",
        "#                 if t>0:\n",
        "#                     # decoder target sequence (one hot encoded)\n",
        "#                     # does not include the START_ token\n",
        "#                     # Offset by one timestep\n",
        "#                     #print(word)\n",
        "#                     decoder_target_data[i, t - 1, word] = 1.\n",
        "                \n",
        "#         yield([encoder_input_data, decoder_input_data], decoder_target_data)"
      ],
      "execution_count": 27,
      "outputs": []
    },
    {
      "cell_type": "code",
      "metadata": {
        "id": "s1mzVsRdBa4x"
      },
      "source": [
        "def return_data_dict(languages=['hi', 'mr'], batch_size=32):\n",
        "\n",
        "  lex = data_loader._load_raw_df(languages)\n",
        "  lex = data_loader._make_final_df(lex)\n",
        "\n",
        "  data_dict = dict()\n",
        "\n",
        "  df_train = lex['train']\n",
        "  df_val = lex['val']\n",
        "  df_test = lex['test']\n",
        "\n",
        "  tk = Tokenizer(df_train)\n",
        "\n",
        "  data_dict['in_size'] = len(tk.input_corpus) + 1\n",
        "  data_dict['out_size'] = len(tk.output_corpus) + 1\n",
        "\n",
        "  X_train = tk.encode(df_train.input.tolist(), mode='input')\n",
        "  Y_train = tk.encode(df_train.output.tolist(), mode='output')\n",
        "  X_val = tk.encode(df_val.input.tolist(), mode='input')\n",
        "  Y_val = tk.encode(df_val.output.tolist(), mode='output')\n",
        "  X_test = tk.encode(df_test.input.tolist(), mode='input')\n",
        "  Y_test = tk.encode(df_test.output.tolist(), mode='output')\n",
        "\n",
        "  max_source_length = np.max(np.array([len(x) for x in X_train]))\n",
        "  max_target_length = np.max(np.array([len(x) for x in Y_train]))\n",
        "\n",
        "  data_dict['train'], data_dict['val'], data_dict['test']= dict(), dict(), dict()\n",
        "\n",
        "  data_dict['train']['df'] = df_train\n",
        "  data_dict['val']['df'] = df_val\n",
        "  data_dict['test']['df'] = df_test\n",
        "\n",
        "  data_dict['train']['max_source_length'] = np.max(np.array([len(x) for x in X_train]))\n",
        "  data_dict['train']['max_target_length'] = np.max(np.array([len(x) for x in Y_train]))\n",
        "  data_dict['val']['max_source_length'] = np.max(np.array([len(x) for x in X_val]))\n",
        "  data_dict['val']['max_target_length'] = np.max(np.array([len(x) for x in Y_test]))\n",
        "  data_dict['test']['max_source_length'] = np.max(np.array([len(x) for x in X_test]))\n",
        "  data_dict['test']['max_target_length'] = np.max(np.array([len(x) for x in Y_test]))\n",
        "\n",
        "  data_dict['train']['batch'] = data_loader._generate_batch(X_train, Y_train, data_dict['train'], data_dict['out_size'], batch_size)\n",
        "  data_dict['val']['batch'] = data_loader._generate_batch(X_val, Y_val, data_dict['val'], data_dict['out_size'], batch_size)\n",
        "  data_dict['test']['batch'] = data_loader._generate_batch(X_test, Y_test, data_dict['test'], data_dict['out_size'], batch_size)  \n",
        "  \n",
        "  data_dict['tokenizer'] = tk\n",
        "\n",
        "  return data_dict"
      ],
      "execution_count": 62,
      "outputs": []
    },
    {
      "cell_type": "code",
      "metadata": {
        "id": "cQhr5hA6xJxv"
      },
      "source": [
        "# data = dict()\n",
        "# data['train'] = dict()\n",
        "# data['train']['X'] = X_train\n",
        "# data['train']['Y'] = Y_train\n",
        "# data['in_size'] = len(tk.input_corpus) + 1\n",
        "# data['out_size'] = len(tk.output_corpus) + 1\n",
        "# num_decoder_tokens = data['out_size'] \n",
        "# max_source_length = np.max(np.array([len(x) for x in X_train]))\n",
        "# max_target_length = np.max(np.array([len(x) for x in Y_train]))"
      ],
      "execution_count": null,
      "outputs": []
    },
    {
      "cell_type": "markdown",
      "metadata": {
        "id": "ZV_63arXtzSt"
      },
      "source": [
        "# Question 1\n"
      ]
    },
    {
      "cell_type": "code",
      "metadata": {
        "id": "UpJm8eZrt5mA"
      },
      "source": [
        "class rnn():\n",
        "\n",
        "  def __init__(self, params):\n",
        "    num_encode_layers = params['num_encode_layers']\n",
        "    num_decode_layers = params['num_decode_layers']\n",
        "    data = params['data']\n",
        "    in_size = params['data']['in_size']\n",
        "    out_size = params['data']['out_size']\n",
        "    cell_type = params['cell_type']\n",
        "    dropout = params['dropout']\n",
        "    embed_size = params['embed_size']\n",
        "    rep_size = params['rep_size']\n",
        "\n",
        "\n",
        "    \n",
        "    encoder_inputs = Input(shape=(None,))\n",
        "    x = Embedding(data['in_size'], embed_size ,mask_zero=True)(encoder_inputs)\n",
        "    encode_layers = []\n",
        "    for j in range(num_encode_layers-1) :\n",
        "      if cell_type == 'RNN' :\n",
        "        curr_layer = layers.SimpleRNN(rep_size,dropout=dropout,return_sequences=True)\n",
        "      elif cell_type == 'GRU' :\n",
        "        curr_layer = layers.GRU(rep_size,dropout=dropout,return_sequences=True)\n",
        "      elif cell_type == 'LSTM' :\n",
        "        curr_layer = layers.LSTM(rep_size,dropout=dropout,return_sequences=True)\n",
        "\n",
        "      encoder_layer.append(curr_layer)\n",
        "      x = curr_layer(x)\n",
        "\n",
        "    if cell_type == 'RNN' :\n",
        "      curr_layer = layers.SimpleRNN(rep_size,dropout=dropout,return_state=True)\n",
        "    elif cell_type == 'GRU' :\n",
        "      curr_layer = layers.GRU(rep_size,dropout=dropout,return_state=True)\n",
        "    elif cell_type == 'LSTM' :\n",
        "      curr_layer = layers.LSTM(rep_size,dropout=dropout,return_state=True)\n",
        "    \n",
        "    encoder_layer.append(curr_layer)\n",
        "    x, state_h, state_c = curr_layer(x)\n",
        "    encoder_states = [state_h, state_c]\n",
        "    decoder_inputs = Input(shape=(None,))\n",
        "    decoder_layers = []\n",
        "    decoder_embedding =  Embedding(data['out_size'],embed_size,mask_zero=True)\n",
        "    x =decoder_embedding(decoder_inputs)\n",
        "    \n",
        "    if cell_type == 'RNN' :\n",
        "      curr_layer = layers.SimpleRNN(rep_size,dropout=dropout,return_state=True, return_sequences=True)\n",
        "    elif cell_type == 'GRU' :\n",
        "      curr_layer = layers.GRU(rep_size,dropout=dropout,return_state=True, return_sequences=True)\n",
        "    elif cell_type == 'LSTM' :\n",
        "      curr_layer = layers.LSTM(rep_size,dropout=dropout,return_state=True, return_sequences=True)\n",
        "\n",
        "    decoder_layers.append(curr_layer)\n",
        "    x,_,_ = curr_layer(x, initial_state=encoder_states)\n",
        "\n",
        "    for j in range(num_decode_layers) :\n",
        "      if cell_type == 'RNN' :\n",
        "        model.add(layers.SimpleRNN(rep_size,dropout=dropout,return_state=True, return_sequences=True))\n",
        "      elif cell_type == 'GRU' :\n",
        "        model.add(layers.GRU(rep_size,dropout=dropout,return_state=True, return_sequences=True))\n",
        "      elif cell_type == 'LSTM' :\n",
        "        model.add(layers.LSTM(rep_size,dropout=dropout,return_state=True, return_sequences=True))\n",
        "      \n",
        "      decoder_layers.append(curr_layer)\n",
        "      x,_,_ = curr_layer(x)\n",
        "      \n",
        "\n",
        "    \n",
        "    /**********************************************************\n",
        "    x, state_h, state_c = LSTM(units=256,\n",
        "                              return_state=True)(x)\n",
        "    encoder_states = [state_h, state_c]\n",
        "\n",
        "    # Set up the decoder, using `encoder_states` as initial state.\n",
        "    decoder_inputs = Input(shape=(None,))\n",
        "    decoder_embedding =  Embedding(data['out_size'], 64,mask_zero=True)\n",
        "    x =decoder_embedding(decoder_inputs)\n",
        "    decoder_LSTM = LSTM(units=256, return_sequences=True,return_state=True)\n",
        "    x,_,_ = decoder_LSTM(x, initial_state=encoder_states)\n",
        "    decoder_dense = Dense(units=data['out_size'], activation='softmax')\n",
        "    decoder_outputs = decoder_dense(x)\n",
        "\n",
        "    # Define the model that will turn\n",
        "    # `encoder_input_data` & `decoder_input_data` into `decoder_target_data`\n",
        "    model = Model([encoder_inputs, decoder_inputs], decoder_outputs)\n",
        "\n",
        "    ********************************************************************/\n",
        "\n",
        "  def compile_and_fit(self,data,params):\n",
        "    train_ds, val_ds = data['train'], data['val']\n",
        "    optimizer, epochs = params['optimizer'], params['num_epochs']\n",
        "    if optimizer == 'NAG' :\n",
        "      optimizer = tf.keras.optimizers.SGD(momentum=0.9,nesterov=True)\n",
        "    self.model.compile(optimizer=optimizer, \n",
        "                       loss=tf.keras.losses.SparseCategoricalCrossentropy(from_logits=True), \n",
        "                       metrics=['accuracy']\n",
        "                       )\n",
        "    \n",
        "    summary = self.model.summary()\n",
        "\n",
        "    run_details = self.model.fit(train_ds, \n",
        "                                 validation_data=val_ds, \n",
        "                                 epochs=epochs,\n",
        "                                 callbacks=[keras.callbacks.EarlyStopping(monitor='val_accuracy', \n",
        "                                                                          patience=3, \n",
        "                                                                          min_delta=0.0025)]\n",
        "                                 )\n",
        "\n",
        "    return {\n",
        "        'run_details' : run_details\n",
        "    }\n",
        "\n"
      ],
      "execution_count": null,
      "outputs": []
    },
    {
      "cell_type": "code",
      "metadata": {
        "id": "eBfaOoDTt-Zd"
      },
      "source": [
        "params = {\n",
        "    'num_encode_layers' : 1,\n",
        "    'num_decode_layers' : 1,\n",
        "    'cell type' : 'RNN' ,\n",
        "    'data' : data,   \n",
        "}"
      ],
      "execution_count": null,
      "outputs": []
    },
    {
      "cell_type": "code",
      "metadata": {
        "id": "viovwIYlks_f"
      },
      "source": [
        "encoder_inputs = Input(shape=(None,))\n",
        "x = Embedding(data_dict['in_size'], 64,mask_zero=True)(encoder_inputs)\n",
        "x = LSTM(units=256,return_sequences=True)(x)\n",
        "x, state_h, state_c = LSTM(units=256,\n",
        "                           return_state=True)(x)\n",
        "encoder_states = [state_h, state_c]\n",
        "\n",
        "# Set up the decoder, using `encoder_states` as initial state.\n",
        "decoder_inputs = Input(shape=(None,))\n",
        "decoder_embedding =  Embedding(data_dict['out_size'], 64,mask_zero=True)\n",
        "x =decoder_embedding(decoder_inputs)\n",
        "decoder_LSTM = LSTM(units=256, return_sequences=True,return_state=True)\n",
        "x,_,_ = decoder_LSTM(x, initial_state=encoder_states)\n",
        "decoder_dense = Dense(units=data_dict['out_size'], activation='softmax')\n",
        "decoder_outputs = decoder_dense(x)\n",
        "\n",
        "# Define the model that will turn\n",
        "# `encoder_input_data` & `decoder_input_data` into `decoder_target_data`\n",
        "model = Model([encoder_inputs, decoder_inputs], decoder_outputs)"
      ],
      "execution_count": 61,
      "outputs": []
    },
    {
      "cell_type": "code",
      "metadata": {
        "id": "xwQl8eh2y35p"
      },
      "source": [
        "class BeamSearchCallBack(keras.callbacks.Callback):\n",
        "  pass"
      ],
      "execution_count": null,
      "outputs": []
    },
    {
      "cell_type": "code",
      "metadata": {
        "id": "qeauwnBEr1Q3"
      },
      "source": [
        "# model.summary()"
      ],
      "execution_count": 8,
      "outputs": []
    },
    {
      "cell_type": "code",
      "metadata": {
        "id": "NKaskx8ysAaT"
      },
      "source": [
        "# plot_model(model,show_shapes=True)"
      ],
      "execution_count": 9,
      "outputs": []
    },
    {
      "cell_type": "code",
      "metadata": {
        "id": "RtOM5ACepPlk",
        "colab": {
          "base_uri": "https://localhost:8080/"
        },
        "outputId": "59c94e9e-2a9f-403b-fbf2-65f8e6804bb2"
      },
      "source": [
        "X_train = [np.array(x) for x in X_train]\n",
        "print(X_train[:5])"
      ],
      "execution_count": null,
      "outputs": [
        {
          "output_type": "stream",
          "text": [
            "[array([1, 4, 5, 2]), array([ 1,  4,  5,  6,  7,  8,  9, 10,  2]), array([ 1,  4,  5,  6, 11,  2]), array([ 1,  4,  5,  6, 12, 13,  2]), array([ 1,  4,  5,  6, 12, 13,  8,  2])]\n"
          ],
          "name": "stdout"
        }
      ]
    },
    {
      "cell_type": "code",
      "metadata": {
        "id": "ojLmcgGdpYvQ",
        "colab": {
          "base_uri": "https://localhost:8080/"
        },
        "outputId": "203d1534-4371-43da-ea13-a7926ea64851"
      },
      "source": [
        "Y_train = [np.array(y) for y in Y_train]\n",
        "print(Y_train[:5])"
      ],
      "execution_count": null,
      "outputs": [
        {
          "output_type": "stream",
          "text": [
            "[array([1, 4, 5, 2]), array([1, 4, 5, 6, 7, 4, 5, 8, 9, 2]), array([ 1, 10,  5, 11, 12, 13,  2]), array([ 1,  4,  5,  6, 10, 14,  2]), array([ 1,  4,  5,  6, 10, 14,  4,  5,  2])]\n"
          ],
          "name": "stdout"
        }
      ]
    },
    {
      "cell_type": "code",
      "metadata": {
        "id": "DUpPXcF7zkfS"
      },
      "source": [
        "train_samples = len(data_dict['train']['df']) # Total Training samples\n",
        "val_samples = len(data_dict['val']['df'])    # Total validation or test samples\n",
        "batch_size = 32\n",
        "epochs = 30"
      ],
      "execution_count": 64,
      "outputs": []
    },
    {
      "cell_type": "code",
      "metadata": {
        "id": "kR1vpAKM0mT0"
      },
      "source": [
        "model.compile(optimizer='adam', loss='categorical_crossentropy', metrics=['acc'])"
      ],
      "execution_count": 65,
      "outputs": []
    },
    {
      "cell_type": "code",
      "metadata": {
        "colab": {
          "base_uri": "https://localhost:8080/"
        },
        "id": "Yyu-Z8KlzOy-",
        "outputId": "c83da066-f177-4c65-ba4d-cc051240ae59"
      },
      "source": [
        "model.fit_generator(generator = data_dict['train']['batch'],\n",
        "                    steps_per_epoch = train_samples//batch_size,\n",
        "                    epochs=epochs,\n",
        "                    callbacks=[]\n",
        ")"
      ],
      "execution_count": 66,
      "outputs": [
        {
          "output_type": "stream",
          "text": [
            "/usr/local/lib/python3.7/dist-packages/tensorflow/python/keras/engine/training.py:1844: UserWarning: `Model.fit_generator` is deprecated and will be removed in a future version. Please use `Model.fit`, which supports generators.\n",
            "  warnings.warn('`Model.fit_generator` is deprecated and '\n"
          ],
          "name": "stderr"
        },
        {
          "output_type": "stream",
          "text": [
            "Epoch 1/30\n",
            "710/710 [==============================] - 52s 17ms/step - loss: 0.8963 - acc: 0.3112\n",
            "Epoch 2/30\n",
            "710/710 [==============================] - 13s 18ms/step - loss: 0.8411 - acc: 0.3997\n",
            "Epoch 3/30\n",
            "710/710 [==============================] - 12s 17ms/step - loss: 0.7253 - acc: 0.3902\n",
            "Epoch 4/30\n",
            "710/710 [==============================] - 12s 17ms/step - loss: 0.6986 - acc: 0.4853\n",
            "Epoch 5/30\n",
            "710/710 [==============================] - 12s 17ms/step - loss: 0.6168 - acc: 0.4716\n",
            "Epoch 6/30\n",
            "710/710 [==============================] - 13s 18ms/step - loss: 0.5665 - acc: 0.5645\n",
            "Epoch 7/30\n",
            "710/710 [==============================] - 12s 18ms/step - loss: 0.4981 - acc: 0.5643\n",
            "Epoch 8/30\n",
            "710/710 [==============================] - 13s 18ms/step - loss: 0.4296 - acc: 0.6685\n",
            "Epoch 9/30\n",
            "710/710 [==============================] - 13s 18ms/step - loss: 0.3862 - acc: 0.6685\n",
            "Epoch 10/30\n",
            "710/710 [==============================] - 13s 18ms/step - loss: 0.3212 - acc: 0.7584\n",
            "Epoch 11/30\n",
            "710/710 [==============================] - 12s 17ms/step - loss: 0.2987 - acc: 0.7472\n",
            "Epoch 12/30\n",
            "710/710 [==============================] - 12s 17ms/step - loss: 0.2461 - acc: 0.8166\n",
            "Epoch 13/30\n",
            "710/710 [==============================] - 12s 17ms/step - loss: 0.2367 - acc: 0.8003\n",
            "Epoch 14/30\n",
            "710/710 [==============================] - 12s 17ms/step - loss: 0.1956 - acc: 0.8553\n",
            "Epoch 15/30\n",
            "710/710 [==============================] - 12s 17ms/step - loss: 0.1988 - acc: 0.8334\n",
            "Epoch 16/30\n",
            "710/710 [==============================] - 12s 17ms/step - loss: 0.1582 - acc: 0.8842\n",
            "Epoch 17/30\n",
            "710/710 [==============================] - 12s 17ms/step - loss: 0.1606 - acc: 0.8665\n",
            "Epoch 18/30\n",
            "710/710 [==============================] - 12s 17ms/step - loss: 0.1302 - acc: 0.9040\n",
            "Epoch 19/30\n",
            "710/710 [==============================] - 12s 17ms/step - loss: 0.1345 - acc: 0.8883\n",
            "Epoch 20/30\n",
            "710/710 [==============================] - 13s 18ms/step - loss: 0.1084 - acc: 0.9190\n",
            "Epoch 21/30\n",
            "710/710 [==============================] - 12s 17ms/step - loss: 0.1171 - acc: 0.9018\n",
            "Epoch 22/30\n",
            "710/710 [==============================] - 13s 18ms/step - loss: 0.0925 - acc: 0.9300\n",
            "Epoch 23/30\n",
            "710/710 [==============================] - 12s 17ms/step - loss: 0.0998 - acc: 0.9160\n",
            "Epoch 24/30\n",
            "710/710 [==============================] - 13s 18ms/step - loss: 0.0803 - acc: 0.9379\n",
            "Epoch 25/30\n",
            "710/710 [==============================] - 12s 17ms/step - loss: 0.0874 - acc: 0.9257\n",
            "Epoch 26/30\n",
            "710/710 [==============================] - 13s 18ms/step - loss: 0.0714 - acc: 0.9442\n",
            "Epoch 27/30\n",
            "710/710 [==============================] - 12s 17ms/step - loss: 0.0750 - acc: 0.9361\n",
            "Epoch 28/30\n",
            "710/710 [==============================] - 12s 17ms/step - loss: 0.0622 - acc: 0.9504\n",
            "Epoch 29/30\n",
            "710/710 [==============================] - 12s 17ms/step - loss: 0.0663 - acc: 0.9432\n",
            "Epoch 30/30\n",
            "710/710 [==============================] - 12s 17ms/step - loss: 0.0560 - acc: 0.9553\n"
          ],
          "name": "stdout"
        },
        {
          "output_type": "execute_result",
          "data": {
            "text/plain": [
              "<tensorflow.python.keras.callbacks.History at 0x7ff9bb518790>"
            ]
          },
          "metadata": {
            "tags": []
          },
          "execution_count": 66
        }
      ]
    },
    {
      "cell_type": "code",
      "metadata": {
        "id": "CtJNJ1NL3kWc"
      },
      "source": [
        "X_test = tk.encode(lex['test'].input.tolist())\n",
        "Y_test = tk.encode(lex['test'].output.tolist(),'output')"
      ],
      "execution_count": null,
      "outputs": []
    },
    {
      "cell_type": "code",
      "metadata": {
        "id": "zV-_YGnKXZr5"
      },
      "source": [
        "sd = generate_batch(X_test,Y_test)"
      ],
      "execution_count": null,
      "outputs": []
    },
    {
      "cell_type": "code",
      "metadata": {
        "id": "mBE6qh5T-xCi"
      },
      "source": [
        "encoder_model = Model(encoder_inputs, encoder_states)\n",
        "# Decoder setup\n",
        "# Below tensors will hold the states of the previous time step\n",
        "decoder_state_input_h = Input(shape=(256,))\n",
        "decoder_state_input_c = Input(shape=(256,))\n",
        "decoder_state_input = [decoder_state_input_h, decoder_state_input_c]\n",
        "# Get the embeddings of the decoder sequence\n",
        "dec_emb2 = decoder_embedding(decoder_inputs)\n",
        "# To predict the next word in the sequence, set the initial states to the states from the previous time step\n",
        "decoder_outputs2, state_h2, state_c2 = decoder_LSTM(dec_emb2\n",
        "                                                    ,initial_state=decoder_state_input\n",
        "                                                    )\n",
        "decoder_states2 = [state_h2, state_c2]\n",
        "# A dense softmax layer to generate prob dist. over the target vocabulary\n",
        "decoder_outputs2 = decoder_dense(decoder_outputs2)\n",
        "# Final decoder model\n",
        "decoder_model = Model(\n",
        "    [decoder_inputs] + decoder_state_input,\n",
        "    [decoder_outputs2] + decoder_states2)"
      ],
      "execution_count": null,
      "outputs": []
    },
    {
      "cell_type": "code",
      "metadata": {
        "colab": {
          "base_uri": "https://localhost:8080/"
        },
        "id": "813V0kJQdQ8T",
        "outputId": "f7799827-92e0-492c-d1b3-8f15ea8be4eb"
      },
      "source": [
        "decoder_model.summary()"
      ],
      "execution_count": null,
      "outputs": [
        {
          "output_type": "stream",
          "text": [
            "Model: \"model_2\"\n",
            "__________________________________________________________________________________________________\n",
            "Layer (type)                    Output Shape         Param #     Connected to                     \n",
            "==================================================================================================\n",
            "input_2 (InputLayer)            [(None, None)]       0                                            \n",
            "__________________________________________________________________________________________________\n",
            "embedding_1 (Embedding)         (None, None, 64)     1920        input_2[0][0]                    \n",
            "__________________________________________________________________________________________________\n",
            "input_3 (InputLayer)            [(None, 256)]        0                                            \n",
            "__________________________________________________________________________________________________\n",
            "input_4 (InputLayer)            [(None, 256)]        0                                            \n",
            "__________________________________________________________________________________________________\n",
            "lstm_1 (LSTM)                   [(None, None, 256),  328704      embedding_1[1][0]                \n",
            "                                                                 input_3[0][0]                    \n",
            "                                                                 input_4[0][0]                    \n",
            "__________________________________________________________________________________________________\n",
            "dense (Dense)                   (None, None, 30)     7710        lstm_1[1][0]                     \n",
            "==================================================================================================\n",
            "Total params: 338,334\n",
            "Trainable params: 338,334\n",
            "Non-trainable params: 0\n",
            "__________________________________________________________________________________________________\n"
          ],
          "name": "stdout"
        }
      ]
    },
    {
      "cell_type": "code",
      "metadata": {
        "colab": {
          "base_uri": "https://localhost:8080/",
          "height": 312
        },
        "id": "7J_TWDQyga9C",
        "outputId": "40691322-3adf-4772-bbef-d9bfa732e1cd"
      },
      "source": [
        "plot_model(encoder_model,show_shapes=True)"
      ],
      "execution_count": null,
      "outputs": [
        {
          "output_type": "execute_result",
          "data": {
            "image/png": "[encoded data removed]",
            "text/plain": [
              "<IPython.core.display.Image object>"
            ]
          },
          "metadata": {
            "tags": []
          },
          "execution_count": 27
        }
      ]
    },
    {
      "cell_type": "code",
      "metadata": {
        "id": "UpIBCBmmxqa5"
      },
      "source": [
        "def decode_sequence(input_seq):\n",
        "    # Encode the input as state vectors.\n",
        "    states_value = encoder_model.predict(input_seq)\n",
        "    # Generate empty target sequence of length 1.\n",
        "    target_seq = np.zeros((1,1))\n",
        "    # Populate the first character of \n",
        "    #target sequence with the start character.\n",
        "    target_seq[0, 0] = 1\n",
        "# Sampling loop for a batch of sequences\n",
        "    # (to simplify, here we assume a batch of size 1).\n",
        "    stop_condition = False\n",
        "    chars = [1]\n",
        "    while not stop_condition:\n",
        "        output_tokens, h, c = decoder_model.predict([target_seq] + states_value)\n",
        "# Sample a token\n",
        "        sampled_token_index = np.argmax(output_tokens[0, -1, :])\n",
        "        if sampled_token_index == 2 :\n",
        "          stop_condition = True\n",
        "        chars.append(sampled_token_index)\n",
        "        target_seq = np.zeros((1,1))\n",
        "        target_seq[0, 0] = sampled_token_index\n",
        "# Update states\n",
        "        states_value = [h, c]\n",
        "    return tk.decode([chars],'output')[0]"
      ],
      "execution_count": null,
      "outputs": []
    },
    {
      "cell_type": "code",
      "metadata": {
        "id": "x8wpmBFk-Bzd"
      },
      "source": [
        "test_gen = generate_batch(X_test, Y_test, batch_size = 1)\n",
        "k=-1"
      ],
      "execution_count": null,
      "outputs": []
    },
    {
      "cell_type": "code",
      "metadata": {
        "colab": {
          "base_uri": "https://localhost:8080/"
        },
        "id": "1u014_k7MS48",
        "outputId": "2e2ebde3-9700-4639-af31-beaa454f202f"
      },
      "source": [
        "x1 = tk.encode(['टोप्पर​'])\n",
        "x1"
      ],
      "execution_count": null,
      "outputs": [
        {
          "output_type": "execute_result",
          "data": {
            "text/plain": [
              "[[1, 29, 24, 35, 18, 35, 13, 3, 2]]"
            ]
          },
          "metadata": {
            "tags": []
          },
          "execution_count": 199
        }
      ]
    },
    {
      "cell_type": "code",
      "metadata": {
        "colab": {
          "base_uri": "https://localhost:8080/",
          "height": 36
        },
        "id": "KtQr3YImNO7W",
        "outputId": "5dc069dd-aec3-4606-85f4-f80affaee492"
      },
      "source": [
        "decode_sequence(x1)"
      ],
      "execution_count": null,
      "outputs": [
        {
          "output_type": "execute_result",
          "data": {
            "application/vnd.google.colaboratory.intrinsic+json": {
              "type": "string"
            },
            "text/plain": [
              "'toppram'"
            ]
          },
          "metadata": {
            "tags": []
          },
          "execution_count": 200
        }
      ]
    },
    {
      "cell_type": "code",
      "metadata": {
        "colab": {
          "base_uri": "https://localhost:8080/",
          "height": 36
        },
        "id": "g9nFZEzPQ3uL",
        "outputId": "43d2185c-543b-4dcd-d41b-f4c7d6aacc37"
      },
      "source": [
        "lex['test'].input.tolist()[k]"
      ],
      "execution_count": null,
      "outputs": [
        {
          "output_type": "execute_result",
          "data": {
            "application/vnd.google.colaboratory.intrinsic+json": {
              "type": "string"
            },
            "text/plain": [
              "'अचीवमेंट'"
            ]
          },
          "metadata": {
            "tags": []
          },
          "execution_count": 181
        }
      ]
    },
    {
      "cell_type": "code",
      "metadata": {
        "colab": {
          "base_uri": "https://localhost:8080/"
        },
        "id": "4b5L3BteyEHT",
        "outputId": "9a452717-6778-4fe2-aa67-9a650cb4d3fc"
      },
      "source": [
        "k += 1\n",
        "(input_seq, actual_output), _ = next(test_gen)\n",
        "# print(input_seq)\n",
        "decoded_sentence = decode_sequence(input_seq)\n",
        "print('Input Source sentence:', tk.decode([X_test[k]])[0] )\n",
        "print('Actual Target Translation:', tk.decode([Y_test[k]],mode='output')[0])\n",
        "print('Predicted Target Translation:', decoded_sentence)"
      ],
      "execution_count": null,
      "outputs": [
        {
          "output_type": "stream",
          "text": [
            "Input Source sentence: अंकों\n",
            "Actual Target Translation: ankon\n",
            "Predicted Target Translation: aankon\n"
          ],
          "name": "stdout"
        }
      ]
    },
    {
      "cell_type": "markdown",
      "metadata": {
        "id": "ItqoHkE2JTO1"
      },
      "source": [
        "# Romanized"
      ]
    },
    {
      "cell_type": "code",
      "metadata": {
        "id": "6O8dFDOHGbEb",
        "colab": {
          "base_uri": "https://localhost:8080/"
        },
        "outputId": "adce90f8-61a9-4d7c-e5f2-e9a7be422593"
      },
      "source": [
        "ta_rom = dict()\n",
        "ta_rom['rejoined'] = pd.read_csv('/content/dakshina_dataset_v1.0/ta/romanized/ta.romanized.rejoined.tsv', sep='\\t', header=None, error_bad_lines=False)\n",
        "ta_rom['rejoined_aligned_cased'] = pd.read_csv('/content/dakshina_dataset_v1.0/ta/romanized/ta.romanized.rejoined.aligned.cased_nopunct.tsv', sep='\\t', header=None, error_bad_lines=False) \n",
        "ta_rom['rejoined_aligned'] = pd.read_csv('/content/dakshina_dataset_v1.0/ta/romanized/ta.romanized.rejoined.aligned.tsv', sep='\\t', header=None, error_bad_lines=False)\n",
        "ta_rom['split'] = pd.read_csv('/content/dakshina_dataset_v1.0/ta/romanized/ta.romanized.split.tsv', sep='\\t', header=None, error_bad_lines=False)"
      ],
      "execution_count": null,
      "outputs": [
        {
          "output_type": "stream",
          "text": [
            "b'Skipping line 1096: expected 2 fields, saw 3\\nSkipping line 1581: expected 2 fields, saw 3\\n'\n",
            "b'Skipping line 33794: expected 2 fields, saw 3\\nSkipping line 33795: expected 2 fields, saw 3\\nSkipping line 33796: expected 2 fields, saw 3\\nSkipping line 33798: expected 2 fields, saw 3\\nSkipping line 33799: expected 2 fields, saw 3\\nSkipping line 33801: expected 2 fields, saw 3\\nSkipping line 33802: expected 2 fields, saw 3\\nSkipping line 33803: expected 2 fields, saw 3\\n'\n",
            "b'Skipping line 11317: expected 2 fields, saw 4\\nSkipping line 16502: expected 2 fields, saw 4\\nSkipping line 32577: expected 2 fields, saw 3\\nSkipping line 32578: expected 2 fields, saw 3\\nSkipping line 32579: expected 2 fields, saw 3\\nSkipping line 32581: expected 2 fields, saw 3\\nSkipping line 32582: expected 2 fields, saw 3\\nSkipping line 32584: expected 2 fields, saw 3\\nSkipping line 32585: expected 2 fields, saw 3\\nSkipping line 32586: expected 2 fields, saw 3\\n'\n",
            "b'Skipping line 1108: expected 7 fields, saw 9\\nSkipping line 1597: expected 7 fields, saw 9\\n'\n"
          ],
          "name": "stderr"
        }
      ]
    },
    {
      "cell_type": "code",
      "metadata": {
        "id": "e-WGvG_RJqsr",
        "colab": {
          "base_uri": "https://localhost:8080/"
        },
        "outputId": "d2ea3acc-73ad-43da-9443-bff7c816e7ac"
      },
      "source": [
        "list(ta_rom['rejoined'].iloc[0, 0])[:10]"
      ],
      "execution_count": null,
      "outputs": [
        {
          "output_type": "execute_result",
          "data": {
            "text/plain": [
              "['ர', 'ே', 'ட', 'ி', 'ய', 'ோ', ' ', 'அ', 'த', 'ி']"
            ]
          },
          "metadata": {
            "tags": []
          },
          "execution_count": 15
        }
      ]
    },
    {
      "cell_type": "code",
      "metadata": {
        "id": "p75rYpZkNCJV",
        "colab": {
          "base_uri": "https://localhost:8080/"
        },
        "outputId": "e6c97002-931f-484b-eba4-b3caca50fb56"
      },
      "source": [
        "ta_rom['rejoined_aligned_cased']"
      ],
      "execution_count": null,
      "outputs": [
        {
          "output_type": "execute_result",
          "data": {
            "text/html": [
              "<div>\n",
              "<style scoped>\n",
              "    .dataframe tbody tr th:only-of-type {\n",
              "        vertical-align: middle;\n",
              "    }\n",
              "\n",
              "    .dataframe tbody tr th {\n",
              "        vertical-align: top;\n",
              "    }\n",
              "\n",
              "    .dataframe thead th {\n",
              "        text-align: right;\n",
              "    }\n",
              "</style>\n",
              "<table border=\"1\" class=\"dataframe\">\n",
              "  <thead>\n",
              "    <tr style=\"text-align: right;\">\n",
              "      <th></th>\n",
              "      <th>0</th>\n",
              "      <th>1</th>\n",
              "    </tr>\n",
              "  </thead>\n",
              "  <tbody>\n",
              "    <tr>\n",
              "      <th>0</th>\n",
              "      <td>ரேடியோ</td>\n",
              "      <td>radio</td>\n",
              "    </tr>\n",
              "    <tr>\n",
              "      <th>1</th>\n",
              "      <td>அதிர்வெண்</td>\n",
              "      <td>athirven</td>\n",
              "    </tr>\n",
              "    <tr>\n",
              "      <th>2</th>\n",
              "      <td>முடுக்கிகள்</td>\n",
              "      <td>mudikkigal</td>\n",
              "    </tr>\n",
              "    <tr>\n",
              "      <th>3</th>\n",
              "      <td>துகள்கள்</td>\n",
              "      <td>thugalkal</td>\n",
              "    </tr>\n",
              "    <tr>\n",
              "      <th>4</th>\n",
              "      <td>நேரடியாக</td>\n",
              "      <td>neradiyaga</td>\n",
              "    </tr>\n",
              "    <tr>\n",
              "      <th>...</th>\n",
              "      <td>...</td>\n",
              "      <td>...</td>\n",
              "    </tr>\n",
              "    <tr>\n",
              "      <th>104779</th>\n",
              "      <td>இவ்விதழின்</td>\n",
              "      <td>ivvithazhin</td>\n",
              "    </tr>\n",
              "    <tr>\n",
              "      <th>104780</th>\n",
              "      <td>விலை</td>\n",
              "      <td>vilai</td>\n",
              "    </tr>\n",
              "    <tr>\n",
              "      <th>104781</th>\n",
              "      <td>ரூபாய்</td>\n",
              "      <td>roobaay</td>\n",
              "    </tr>\n",
              "    <tr>\n",
              "      <th>104782</th>\n",
              "      <td>1.00</td>\n",
              "      <td>1.00</td>\n",
              "    </tr>\n",
              "    <tr>\n",
              "      <th>104783</th>\n",
              "      <td>&lt;/s&gt;</td>\n",
              "      <td>&lt;/s&gt;</td>\n",
              "    </tr>\n",
              "  </tbody>\n",
              "</table>\n",
              "<p>104784 rows × 2 columns</p>\n",
              "</div>"
            ],
            "text/plain": [
              "                  0            1\n",
              "0            ரேடியோ        radio\n",
              "1         அதிர்வெண்     athirven\n",
              "2       முடுக்கிகள்   mudikkigal\n",
              "3          துகள்கள்    thugalkal\n",
              "4          நேரடியாக   neradiyaga\n",
              "...             ...          ...\n",
              "104779   இவ்விதழின்  ivvithazhin\n",
              "104780         விலை        vilai\n",
              "104781       ரூபாய்      roobaay\n",
              "104782         1.00         1.00\n",
              "104783         </s>         </s>\n",
              "\n",
              "[104784 rows x 2 columns]"
            ]
          },
          "metadata": {
            "tags": []
          },
          "execution_count": 8
        }
      ]
    },
    {
      "cell_type": "code",
      "metadata": {
        "id": "O0E9hQuQMULO",
        "colab": {
          "base_uri": "https://localhost:8080/",
          "height": 168
        },
        "outputId": "ebad6a7e-ddd8-4722-b5a7-5e8b9709c0f1"
      },
      "source": [
        "ta_rom['rejoined_aligned']"
      ],
      "execution_count": null,
      "outputs": [
        {
          "output_type": "error",
          "ename": "NameError",
          "evalue": "ignored",
          "traceback": [
            "\u001b[0;31m---------------------------------------------------------------------------\u001b[0m",
            "\u001b[0;31mNameError\u001b[0m                                 Traceback (most recent call last)",
            "\u001b[0;32m<ipython-input-114-14e6d4754d2f>\u001b[0m in \u001b[0;36m<module>\u001b[0;34m()\u001b[0m\n\u001b[0;32m----> 1\u001b[0;31m \u001b[0mta_rom\u001b[0m\u001b[0;34m[\u001b[0m\u001b[0;34m'rejoined_aligned'\u001b[0m\u001b[0;34m]\u001b[0m\u001b[0;34m\u001b[0m\u001b[0;34m\u001b[0m\u001b[0m\n\u001b[0m",
            "\u001b[0;31mNameError\u001b[0m: name 'ta_rom' is not defined"
          ]
        }
      ]
    },
    {
      "cell_type": "code",
      "metadata": {
        "id": "7yAnW0rAKDY5",
        "colab": {
          "base_uri": "https://localhost:8080/"
        },
        "outputId": "8d2c2a37-0afe-4be2-f965-c7c3490738ec"
      },
      "source": [
        "ta_rom['split']"
      ],
      "execution_count": null,
      "outputs": [
        {
          "output_type": "execute_result",
          "data": {
            "text/html": [
              "<div>\n",
              "<style scoped>\n",
              "    .dataframe tbody tr th:only-of-type {\n",
              "        vertical-align: middle;\n",
              "    }\n",
              "\n",
              "    .dataframe tbody tr th {\n",
              "        vertical-align: top;\n",
              "    }\n",
              "\n",
              "    .dataframe thead th {\n",
              "        text-align: right;\n",
              "    }\n",
              "</style>\n",
              "<table border=\"1\" class=\"dataframe\">\n",
              "  <thead>\n",
              "    <tr style=\"text-align: right;\">\n",
              "      <th></th>\n",
              "      <th>0</th>\n",
              "      <th>1</th>\n",
              "      <th>2</th>\n",
              "      <th>3</th>\n",
              "      <th>4</th>\n",
              "      <th>5</th>\n",
              "      <th>6</th>\n",
              "    </tr>\n",
              "  </thead>\n",
              "  <tbody>\n",
              "    <tr>\n",
              "      <th>0</th>\n",
              "      <td>ரேடியோ அதிர்வெண் முடுக்கிகள், துகள்கள் நேரடியா...</td>\n",
              "      <td>6</td>\n",
              "      <td>Radio athirven mudikkigal, thugalkal neradiyag...</td>\n",
              "      <td>6.0</td>\n",
              "      <td>NaN</td>\n",
              "      <td>NaN</td>\n",
              "      <td>NaN</td>\n",
              "    </tr>\n",
              "    <tr>\n",
              "      <th>1</th>\n",
              "      <td>மான் விளையாடிக்கொண்டு வந்து உன்னை மோதினால் உன்...</td>\n",
              "      <td>21</td>\n",
              "      <td>Maan vilaiyaadikondu vanthu unnai modhinaal un...</td>\n",
              "      <td>21.0</td>\n",
              "      <td>NaN</td>\n",
              "      <td>NaN</td>\n",
              "      <td>NaN</td>\n",
              "    </tr>\n",
              "    <tr>\n",
              "      <th>2</th>\n",
              "      <td>அமிர்தகழி</td>\n",
              "      <td>1</td>\n",
              "      <td>Amirthakazhi</td>\n",
              "      <td>1.0</td>\n",
              "      <td>NaN</td>\n",
              "      <td>NaN</td>\n",
              "      <td>NaN</td>\n",
              "    </tr>\n",
              "    <tr>\n",
              "      <th>3</th>\n",
              "      <td>மோகன் லால் குப்தா ஜெய்ப்பூரின் முன்னாள் மேயராக...</td>\n",
              "      <td>12</td>\n",
              "      <td>Mohan Lal Gupta Jaipaurin munnal mayoragavum, ...</td>\n",
              "      <td>12.0</td>\n",
              "      <td>NaN</td>\n",
              "      <td>NaN</td>\n",
              "      <td>NaN</td>\n",
              "    </tr>\n",
              "    <tr>\n",
              "      <th>4</th>\n",
              "      <td>தில்லி மாநில கூட்டுறவு வங்கி லி.</td>\n",
              "      <td>5</td>\n",
              "      <td>Delhi maanila kooturavu vangi li.</td>\n",
              "      <td>5.0</td>\n",
              "      <td>NaN</td>\n",
              "      <td>NaN</td>\n",
              "      <td>NaN</td>\n",
              "    </tr>\n",
              "    <tr>\n",
              "      <th>...</th>\n",
              "      <td>...</td>\n",
              "      <td>...</td>\n",
              "      <td>...</td>\n",
              "      <td>...</td>\n",
              "      <td>...</td>\n",
              "      <td>...</td>\n",
              "      <td>...</td>\n",
              "    </tr>\n",
              "    <tr>\n",
              "      <th>9982</th>\n",
              "      <td>என்றாலும் வில்லியம் இறந்த பிறகான கரோலினின் பணி...</td>\n",
              "      <td>27</td>\n",
              "      <td>Yendraalum William irandha piragaana Carolinin...</td>\n",
              "      <td>27.0</td>\n",
              "      <td>NaN</td>\n",
              "      <td>NaN</td>\n",
              "      <td>NaN</td>\n",
              "    </tr>\n",
              "    <tr>\n",
              "      <th>9983</th>\n",
              "      <td>தொல்பொருளியல் அச்சகம் (Archaeopress) என்பது இங...</td>\n",
              "      <td>14</td>\n",
              "      <td>Tholporuliyal achchagam (Archaeopress) yenbath...</td>\n",
              "      <td>14.0</td>\n",
              "      <td>NaN</td>\n",
              "      <td>NaN</td>\n",
              "      <td>NaN</td>\n",
              "    </tr>\n",
              "    <tr>\n",
              "      <th>9984</th>\n",
              "      <td>மலைய நாட்டு மன்னனை மலாடர் கோமான் என்று சங்கப்ப...</td>\n",
              "      <td>8</td>\n",
              "      <td>Malaiya naattu mannanai malaadar komaan yendru...</td>\n",
              "      <td>8.0</td>\n",
              "      <td>NaN</td>\n",
              "      <td>NaN</td>\n",
              "      <td>NaN</td>\n",
              "    </tr>\n",
              "    <tr>\n",
              "      <th>9985</th>\n",
              "      <td>அப்படையின் தொகை மிக அருகி இருந்ததோடு, அதனிடம் ...</td>\n",
              "      <td>12</td>\n",
              "      <td>Appadaiyin thogai miga arugi irunthathodu, ath...</td>\n",
              "      <td>12.0</td>\n",
              "      <td>NaN</td>\n",
              "      <td>NaN</td>\n",
              "      <td>NaN</td>\n",
              "    </tr>\n",
              "    <tr>\n",
              "      <th>9986</th>\n",
              "      <td>தொண்டன் இலங்கை, திருகோணமலையிலிருந்து 1970ம் ஆண...</td>\n",
              "      <td>15</td>\n",
              "      <td>Thondan ilangai, thirukonanmalaiyilirundhu 197...</td>\n",
              "      <td>15.0</td>\n",
              "      <td>NaN</td>\n",
              "      <td>NaN</td>\n",
              "      <td>NaN</td>\n",
              "    </tr>\n",
              "  </tbody>\n",
              "</table>\n",
              "<p>9987 rows × 7 columns</p>\n",
              "</div>"
            ],
            "text/plain": [
              "                                                      0   1  ...   5    6\n",
              "0     ரேடியோ அதிர்வெண் முடுக்கிகள், துகள்கள் நேரடியா...   6  ... NaN  NaN\n",
              "1     மான் விளையாடிக்கொண்டு வந்து உன்னை மோதினால் உன்...  21  ... NaN  NaN\n",
              "2                                             அமிர்தகழி   1  ... NaN  NaN\n",
              "3     மோகன் லால் குப்தா ஜெய்ப்பூரின் முன்னாள் மேயராக...  12  ... NaN  NaN\n",
              "4                      தில்லி மாநில கூட்டுறவு வங்கி லி.   5  ... NaN  NaN\n",
              "...                                                 ...  ..  ...  ..  ...\n",
              "9982  என்றாலும் வில்லியம் இறந்த பிறகான கரோலினின் பணி...  27  ... NaN  NaN\n",
              "9983  தொல்பொருளியல் அச்சகம் (Archaeopress) என்பது இங...  14  ... NaN  NaN\n",
              "9984  மலைய நாட்டு மன்னனை மலாடர் கோமான் என்று சங்கப்ப...   8  ... NaN  NaN\n",
              "9985  அப்படையின் தொகை மிக அருகி இருந்ததோடு, அதனிடம் ...  12  ... NaN  NaN\n",
              "9986  தொண்டன் இலங்கை, திருகோணமலையிலிருந்து 1970ம் ஆண...  15  ... NaN  NaN\n",
              "\n",
              "[9987 rows x 7 columns]"
            ]
          },
          "metadata": {
            "tags": []
          },
          "execution_count": 10
        }
      ]
    },
    {
      "cell_type": "code",
      "metadata": {
        "id": "wD7CedwSKaoS"
      },
      "source": [
        ""
      ],
      "execution_count": null,
      "outputs": []
    }
  ]
}